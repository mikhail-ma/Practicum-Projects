{
 "cells": [
  {
   "cell_type": "markdown",
   "metadata": {},
   "source": [
    "# Рекомендация тарифов"
   ]
  },
  {
   "cell_type": "markdown",
   "metadata": {},
   "source": [
    "Продолжение предыдущего проекта. В этот раз необходимо построить модель для задачи классификации, которая позволит предложить клиентам подходящий тариф на основе их поведения. Требуется довести долю правильных ответов (accuracy) до 0.75.\n",
    "\n",
    "Для поиска оптимального тарифа будем использовать:\n",
    "- DecisionTreeClassifier\n",
    "- RandomForestClassifier\n",
    "- LogisticRegression\n",
    "\n",
    "### План решения задачи\n",
    "\n",
    "- [Шаг 1. Загрузка и изучение данных](#1-bullet)\n",
    "- [Шаг 2. Разбиение исходных данных](#2-bullet)\n",
    "- [Шаг 3. Тест моделей](#3-bullet)\n",
    "- [Шаг 4. Проверка модели на тестовой выборке](#4-bullet)\n",
    "- [Шаг 5. Проверка модели на адекватность](#5-bullet)"
   ]
  },
  {
   "cell_type": "markdown",
   "metadata": {},
   "source": [
    "## Шаг 1. Загрузка и изучение данных <a id='1-bullet'></a>"
   ]
  },
  {
   "cell_type": "code",
   "execution_count": 94,
   "metadata": {},
   "outputs": [],
   "source": [
    "import pandas as pd\n",
    "import numpy as np\n",
    "\n",
    "from sklearn.tree import DecisionTreeClassifier\n",
    "from sklearn.ensemble import RandomForestClassifier\n",
    "from sklearn.linear_model import LogisticRegression\n",
    "\n",
    "from sklearn.model_selection import train_test_split, GridSearchCV\n",
    "from sklearn.metrics import accuracy_score, roc_auc_score"
   ]
  },
  {
   "cell_type": "code",
   "execution_count": 95,
   "metadata": {},
   "outputs": [],
   "source": [
    "df = pd.read_csv('/datasets/users_behavior.csv')"
   ]
  },
  {
   "cell_type": "code",
   "execution_count": 96,
   "metadata": {},
   "outputs": [
    {
     "data": {
      "text/html": [
       "<div>\n",
       "<style scoped>\n",
       "    .dataframe tbody tr th:only-of-type {\n",
       "        vertical-align: middle;\n",
       "    }\n",
       "\n",
       "    .dataframe tbody tr th {\n",
       "        vertical-align: top;\n",
       "    }\n",
       "\n",
       "    .dataframe thead th {\n",
       "        text-align: right;\n",
       "    }\n",
       "</style>\n",
       "<table border=\"1\" class=\"dataframe\">\n",
       "  <thead>\n",
       "    <tr style=\"text-align: right;\">\n",
       "      <th></th>\n",
       "      <th>calls</th>\n",
       "      <th>minutes</th>\n",
       "      <th>messages</th>\n",
       "      <th>mb_used</th>\n",
       "      <th>is_ultra</th>\n",
       "    </tr>\n",
       "  </thead>\n",
       "  <tbody>\n",
       "    <tr>\n",
       "      <td>6</td>\n",
       "      <td>57.0</td>\n",
       "      <td>431.64</td>\n",
       "      <td>20.0</td>\n",
       "      <td>3738.90</td>\n",
       "      <td>1</td>\n",
       "    </tr>\n",
       "    <tr>\n",
       "      <td>2752</td>\n",
       "      <td>63.0</td>\n",
       "      <td>478.92</td>\n",
       "      <td>54.0</td>\n",
       "      <td>23681.93</td>\n",
       "      <td>1</td>\n",
       "    </tr>\n",
       "    <tr>\n",
       "      <td>896</td>\n",
       "      <td>86.0</td>\n",
       "      <td>632.16</td>\n",
       "      <td>47.0</td>\n",
       "      <td>18910.08</td>\n",
       "      <td>0</td>\n",
       "    </tr>\n",
       "    <tr>\n",
       "      <td>2358</td>\n",
       "      <td>77.0</td>\n",
       "      <td>695.53</td>\n",
       "      <td>0.0</td>\n",
       "      <td>19981.20</td>\n",
       "      <td>1</td>\n",
       "    </tr>\n",
       "    <tr>\n",
       "      <td>2082</td>\n",
       "      <td>56.0</td>\n",
       "      <td>368.11</td>\n",
       "      <td>36.0</td>\n",
       "      <td>16003.15</td>\n",
       "      <td>0</td>\n",
       "    </tr>\n",
       "  </tbody>\n",
       "</table>\n",
       "</div>"
      ],
      "text/plain": [
       "      calls  minutes  messages   mb_used  is_ultra\n",
       "6      57.0   431.64      20.0   3738.90         1\n",
       "2752   63.0   478.92      54.0  23681.93         1\n",
       "896    86.0   632.16      47.0  18910.08         0\n",
       "2358   77.0   695.53       0.0  19981.20         1\n",
       "2082   56.0   368.11      36.0  16003.15         0"
      ]
     },
     "execution_count": 96,
     "metadata": {},
     "output_type": "execute_result"
    }
   ],
   "source": [
    "df.sample(5)"
   ]
  },
  {
   "cell_type": "code",
   "execution_count": 97,
   "metadata": {
    "scrolled": true
   },
   "outputs": [
    {
     "name": "stdout",
     "output_type": "stream",
     "text": [
      "<class 'pandas.core.frame.DataFrame'>\n",
      "RangeIndex: 3214 entries, 0 to 3213\n",
      "Data columns (total 5 columns):\n",
      "calls       3214 non-null float64\n",
      "minutes     3214 non-null float64\n",
      "messages    3214 non-null float64\n",
      "mb_used     3214 non-null float64\n",
      "is_ultra    3214 non-null int64\n",
      "dtypes: float64(4), int64(1)\n",
      "memory usage: 125.7 KB\n"
     ]
    }
   ],
   "source": [
    "df.info()"
   ]
  },
  {
   "cell_type": "code",
   "execution_count": 98,
   "metadata": {},
   "outputs": [
    {
     "data": {
      "text/plain": [
       "0    2229\n",
       "1     985\n",
       "Name: is_ultra, dtype: int64"
      ]
     },
     "execution_count": 98,
     "metadata": {},
     "output_type": "execute_result"
    }
   ],
   "source": [
    "df.is_ultra.value_counts()"
   ]
  },
  {
   "cell_type": "markdown",
   "metadata": {},
   "source": [
    "Целевой признак (который будем предсказывать) - **is_ultra**:\n",
    "- 0 - если клиенту нужно предложить тариф \"Смарт\"\n",
    "- 1 - если нужно предложить тариф \"Ультра\"\n",
    "\n",
    "Классы не сбалансированы - попробуем это учесть\n",
    "\n",
    "Предсказвать будем по следующим признакам:\n",
    "- **сalls** — количество звонков,\n",
    "- **minutes** — суммарная длительность звонков в минутах,\n",
    "- **messages** — количество sms-сообщений,\n",
    "- **mb_used** — израсходованный интернет-трафик в Мб"
   ]
  },
  {
   "cell_type": "markdown",
   "metadata": {},
   "source": [
    "## Шаг 2. Разбиение исходных данных <a id='2-bullet'></a>"
   ]
  },
  {
   "cell_type": "code",
   "execution_count": 99,
   "metadata": {},
   "outputs": [],
   "source": [
    "# 60% на обучающую выборку\n",
    "\n",
    "df_train, df_valid = train_test_split(df, test_size=0.4, random_state=12345)\n",
    "\n",
    "# 20% на валидационную и 20% на тестовую\n",
    "\n",
    "df_valid, df_test = train_test_split(df_valid, test_size=0.5, random_state=12345)"
   ]
  },
  {
   "cell_type": "code",
   "execution_count": 100,
   "metadata": {},
   "outputs": [],
   "source": [
    "features_train = df_train.drop(['is_ultra'], axis=1)\n",
    "target_train = df_train['is_ultra']\n",
    "features_valid = df_valid.drop(['is_ultra'], axis=1)\n",
    "target_valid = df_valid['is_ultra']"
   ]
  },
  {
   "cell_type": "code",
   "execution_count": 101,
   "metadata": {},
   "outputs": [
    {
     "name": "stdout",
     "output_type": "stream",
     "text": [
      "(1928, 4)\n",
      "(1928,)\n",
      "(643, 4)\n",
      "(643,)\n"
     ]
    }
   ],
   "source": [
    "print(features_train.shape)\n",
    "print(target_train.shape)\n",
    "print(features_valid.shape)\n",
    "print(target_valid.shape)"
   ]
  },
  {
   "cell_type": "markdown",
   "metadata": {},
   "source": [
    "## 3. Тест моделей <a id='3-bullet'></a>\n",
    "\n",
    "### Дерево классификации"
   ]
  },
  {
   "cell_type": "code",
   "execution_count": 102,
   "metadata": {
    "scrolled": true
   },
   "outputs": [
    {
     "name": "stdout",
     "output_type": "stream",
     "text": [
      "Training Accuracy: 0.80757\n",
      "Valid Accuracy: 0.78538\n",
      "max_depth:  5\n",
      "sample_leafs:  50\n",
      "\n",
      "\n",
      "Training Accuracy: 0.79772\n",
      "Valid Accuracy: 0.76983\n",
      "max_depth:  5\n",
      "sample_leafs:  100\n",
      "\n",
      "\n",
      "Training Accuracy: 0.78320\n",
      "Valid Accuracy: 0.78227\n",
      "max_depth:  5\n",
      "sample_leafs:  150\n",
      "\n",
      "\n",
      "Training Accuracy: 0.81691\n",
      "Valid Accuracy: 0.78694\n",
      "max_depth:  7\n",
      "sample_leafs:  50\n",
      "\n",
      "\n",
      "Training Accuracy: 0.79772\n",
      "Valid Accuracy: 0.76983\n",
      "max_depth:  7\n",
      "sample_leafs:  100\n",
      "\n",
      "\n",
      "Training Accuracy: 0.78320\n",
      "Valid Accuracy: 0.78227\n",
      "max_depth:  7\n",
      "sample_leafs:  150\n",
      "\n",
      "\n",
      "Training Accuracy: 0.81691\n",
      "Valid Accuracy: 0.78694\n",
      "max_depth:  9\n",
      "sample_leafs:  50\n",
      "\n",
      "\n",
      "Training Accuracy: 0.79772\n",
      "Valid Accuracy: 0.76983\n",
      "max_depth:  9\n",
      "sample_leafs:  100\n",
      "\n",
      "\n",
      "Training Accuracy: 0.78320\n",
      "Valid Accuracy: 0.78227\n",
      "max_depth:  9\n",
      "sample_leafs:  150\n",
      "\n",
      "\n"
     ]
    }
   ],
   "source": [
    "max_depths = range(5, 10, 2)\n",
    "min_samples_leafs = [50, 100, 150]\n",
    "\n",
    "for max_depth in max_depths:\n",
    "    for min_samples_leaf in min_samples_leafs:\n",
    "        tree = DecisionTreeClassifier(max_depth=max_depth, min_samples_leaf=min_samples_leaf, random_state=12345)\n",
    "        tree.fit(features_train, target_train)\n",
    "        tree_predictions_train = tree.predict(features_train)\n",
    "        tree_predictions_valid = tree.predict(features_valid)\n",
    "        print(\"Training Accuracy: %.5f\" %accuracy_score(target_train, tree_predictions_train))\n",
    "        print(\"Valid Accuracy: %.5f\" %accuracy_score(target_valid, tree_predictions_valid))\n",
    "        print('max_depth: ', max_depth)\n",
    "        print('sample_leafs: ', min_samples_leaf)\n",
    "        print('\\n')        "
   ]
  },
  {
   "cell_type": "markdown",
   "metadata": {},
   "source": [
    "Наилучшее качество модели на валидационной выборке: 0.78694 при значениях max_depth = 7 или 9, sample_leafs = 50\n",
    "\n",
    "### Случайный лес"
   ]
  },
  {
   "cell_type": "code",
   "execution_count": 103,
   "metadata": {
    "collapsed": true
   },
   "outputs": [
    {
     "ename": "ValueError",
     "evalue": "n_estimators must be an integer, got <class 'range'>.",
     "output_type": "error",
     "traceback": [
      "\u001b[0;31m---------------------------------------------------------------------------\u001b[0m",
      "\u001b[0;31mValueError\u001b[0m                                Traceback (most recent call last)",
      "\u001b[0;32m<ipython-input-103-1541cb0304db>\u001b[0m in \u001b[0;36m<module>\u001b[0;34m\u001b[0m\n\u001b[1;32m      8\u001b[0m     \u001b[0;32mfor\u001b[0m \u001b[0mn_estimator\u001b[0m \u001b[0;32min\u001b[0m \u001b[0mn_estims\u001b[0m\u001b[0;34m:\u001b[0m\u001b[0;34m\u001b[0m\u001b[0;34m\u001b[0m\u001b[0m\n\u001b[1;32m      9\u001b[0m         \u001b[0mforest\u001b[0m \u001b[0;34m=\u001b[0m \u001b[0mRandomForestClassifier\u001b[0m\u001b[0;34m(\u001b[0m\u001b[0mn_estimators\u001b[0m\u001b[0;34m=\u001b[0m\u001b[0mn_estims\u001b[0m\u001b[0;34m,\u001b[0m \u001b[0mmax_depth\u001b[0m\u001b[0;34m=\u001b[0m\u001b[0mmax_depth\u001b[0m\u001b[0;34m,\u001b[0m \u001b[0mrandom_state\u001b[0m\u001b[0;34m=\u001b[0m\u001b[0;36m12345\u001b[0m\u001b[0;34m)\u001b[0m\u001b[0;34m\u001b[0m\u001b[0;34m\u001b[0m\u001b[0m\n\u001b[0;32m---> 10\u001b[0;31m         \u001b[0mforest\u001b[0m\u001b[0;34m.\u001b[0m\u001b[0mfit\u001b[0m\u001b[0;34m(\u001b[0m\u001b[0mfeatures_train\u001b[0m\u001b[0;34m,\u001b[0m \u001b[0mtarget_train\u001b[0m\u001b[0;34m)\u001b[0m\u001b[0;34m\u001b[0m\u001b[0;34m\u001b[0m\u001b[0m\n\u001b[0m\u001b[1;32m     11\u001b[0m         \u001b[0mpredictions_train\u001b[0m \u001b[0;34m=\u001b[0m \u001b[0mforest\u001b[0m\u001b[0;34m.\u001b[0m\u001b[0mpredict\u001b[0m\u001b[0;34m(\u001b[0m\u001b[0mfeatures_train\u001b[0m\u001b[0;34m)\u001b[0m\u001b[0;34m\u001b[0m\u001b[0;34m\u001b[0m\u001b[0m\n\u001b[1;32m     12\u001b[0m         \u001b[0mpredictions_valid\u001b[0m \u001b[0;34m=\u001b[0m \u001b[0mforest\u001b[0m\u001b[0;34m.\u001b[0m\u001b[0mpredict\u001b[0m\u001b[0;34m(\u001b[0m\u001b[0mfeatures_valid\u001b[0m\u001b[0;34m)\u001b[0m\u001b[0;34m\u001b[0m\u001b[0;34m\u001b[0m\u001b[0m\n",
      "\u001b[0;32m/opt/conda/lib/python3.7/site-packages/sklearn/ensemble/forest.py\u001b[0m in \u001b[0;36mfit\u001b[0;34m(self, X, y, sample_weight)\u001b[0m\n\u001b[1;32m    285\u001b[0m \u001b[0;34m\u001b[0m\u001b[0m\n\u001b[1;32m    286\u001b[0m         \u001b[0;31m# Check parameters\u001b[0m\u001b[0;34m\u001b[0m\u001b[0;34m\u001b[0m\u001b[0;34m\u001b[0m\u001b[0m\n\u001b[0;32m--> 287\u001b[0;31m         \u001b[0mself\u001b[0m\u001b[0;34m.\u001b[0m\u001b[0m_validate_estimator\u001b[0m\u001b[0;34m(\u001b[0m\u001b[0;34m)\u001b[0m\u001b[0;34m\u001b[0m\u001b[0;34m\u001b[0m\u001b[0m\n\u001b[0m\u001b[1;32m    288\u001b[0m \u001b[0;34m\u001b[0m\u001b[0m\n\u001b[1;32m    289\u001b[0m         \u001b[0;32mif\u001b[0m \u001b[0;32mnot\u001b[0m \u001b[0mself\u001b[0m\u001b[0;34m.\u001b[0m\u001b[0mbootstrap\u001b[0m \u001b[0;32mand\u001b[0m \u001b[0mself\u001b[0m\u001b[0;34m.\u001b[0m\u001b[0moob_score\u001b[0m\u001b[0;34m:\u001b[0m\u001b[0;34m\u001b[0m\u001b[0;34m\u001b[0m\u001b[0m\n",
      "\u001b[0;32m/opt/conda/lib/python3.7/site-packages/sklearn/ensemble/base.py\u001b[0m in \u001b[0;36m_validate_estimator\u001b[0;34m(self, default)\u001b[0m\n\u001b[1;32m    104\u001b[0m         \u001b[0;32mif\u001b[0m \u001b[0;32mnot\u001b[0m \u001b[0misinstance\u001b[0m\u001b[0;34m(\u001b[0m\u001b[0mself\u001b[0m\u001b[0;34m.\u001b[0m\u001b[0mn_estimators\u001b[0m\u001b[0;34m,\u001b[0m \u001b[0;34m(\u001b[0m\u001b[0mnumbers\u001b[0m\u001b[0;34m.\u001b[0m\u001b[0mIntegral\u001b[0m\u001b[0;34m,\u001b[0m \u001b[0mnp\u001b[0m\u001b[0;34m.\u001b[0m\u001b[0minteger\u001b[0m\u001b[0;34m)\u001b[0m\u001b[0;34m)\u001b[0m\u001b[0;34m:\u001b[0m\u001b[0;34m\u001b[0m\u001b[0;34m\u001b[0m\u001b[0m\n\u001b[1;32m    105\u001b[0m             raise ValueError(\"n_estimators must be an integer, \"\n\u001b[0;32m--> 106\u001b[0;31m                              \"got {0}.\".format(type(self.n_estimators)))\n\u001b[0m\u001b[1;32m    107\u001b[0m \u001b[0;34m\u001b[0m\u001b[0m\n\u001b[1;32m    108\u001b[0m         \u001b[0;32mif\u001b[0m \u001b[0mself\u001b[0m\u001b[0;34m.\u001b[0m\u001b[0mn_estimators\u001b[0m \u001b[0;34m<=\u001b[0m \u001b[0;36m0\u001b[0m\u001b[0;34m:\u001b[0m\u001b[0;34m\u001b[0m\u001b[0;34m\u001b[0m\u001b[0m\n",
      "\u001b[0;31mValueError\u001b[0m: n_estimators must be an integer, got <class 'range'>."
     ]
    }
   ],
   "source": [
    "# честно говоря так и не понял почему у меня никак не получалось итерироваться по n_estims в таком формате\n",
    "# то ругался на range, то на list\n",
    "\n",
    "max_depths = range(5, 10, 2)\n",
    "n_estims = range(10, 101, 10)\n",
    "\n",
    "for max_depth in max_depths:\n",
    "    for n_estimator in n_estims:\n",
    "        forest = RandomForestClassifier(n_estimators=n_estims, max_depth=max_depth, random_state=12345)\n",
    "        forest.fit(features_train, target_train)\n",
    "        predictions_train = forest.predict(features_train)\n",
    "        predictions_valid = forest.predict(features_valid)\n",
    "        print(\"Training Accuracy: %.5f\" %accuracy_score(target_train, predictions_train))\n",
    "        print(\"Valid Accuracy: %.5f\" %accuracy_score(target_valid, predictions_valid))\n",
    "        print('max_depth: ', max_depth)\n",
    "        print('n_estimator: ', n_estims)\n",
    "        print('\\n')        "
   ]
  },
  {
   "cell_type": "code",
   "execution_count": 104,
   "metadata": {
    "scrolled": true
   },
   "outputs": [
    {
     "name": "stdout",
     "output_type": "stream",
     "text": [
      "Training Accuracy: 0.82417\n",
      "Valid Accuracy: 0.79316\n",
      "max_depth:  5\n",
      "n_estimator:  10\n",
      "\n",
      "\n",
      "Training Accuracy: 0.85529\n",
      "Valid Accuracy: 0.79471\n",
      "max_depth:  7\n",
      "n_estimator:  10\n",
      "\n",
      "\n",
      "Training Accuracy: 0.87293\n",
      "Valid Accuracy: 0.78538\n",
      "max_depth:  9\n",
      "n_estimator:  10\n",
      "\n",
      "\n",
      "Training Accuracy: 0.82624\n",
      "Valid Accuracy: 0.79005\n",
      "max_depth:  5\n",
      "n_estimator:  20\n",
      "\n",
      "\n",
      "Training Accuracy: 0.85892\n",
      "Valid Accuracy: 0.80093\n",
      "max_depth:  7\n",
      "n_estimator:  20\n",
      "\n",
      "\n",
      "Training Accuracy: 0.88330\n",
      "Valid Accuracy: 0.79005\n",
      "max_depth:  9\n",
      "n_estimator:  20\n",
      "\n",
      "\n",
      "Training Accuracy: 0.82417\n",
      "Valid Accuracy: 0.79316\n",
      "max_depth:  5\n",
      "n_estimator:  30\n",
      "\n",
      "\n",
      "Training Accuracy: 0.85788\n",
      "Valid Accuracy: 0.80249\n",
      "max_depth:  7\n",
      "n_estimator:  30\n",
      "\n",
      "\n",
      "Training Accuracy: 0.88382\n",
      "Valid Accuracy: 0.79316\n",
      "max_depth:  9\n",
      "n_estimator:  30\n",
      "\n",
      "\n",
      "Training Accuracy: 0.82624\n",
      "Valid Accuracy: 0.79471\n",
      "max_depth:  5\n",
      "n_estimator:  40\n",
      "\n",
      "\n",
      "Training Accuracy: 0.86203\n",
      "Valid Accuracy: 0.80249\n",
      "max_depth:  7\n",
      "n_estimator:  40\n",
      "\n",
      "\n",
      "Training Accuracy: 0.88485\n",
      "Valid Accuracy: 0.79471\n",
      "max_depth:  9\n",
      "n_estimator:  40\n",
      "\n",
      "\n",
      "Training Accuracy: 0.82521\n",
      "Valid Accuracy: 0.79316\n",
      "max_depth:  5\n",
      "n_estimator:  50\n",
      "\n",
      "\n",
      "Training Accuracy: 0.86307\n",
      "Valid Accuracy: 0.80249\n",
      "max_depth:  7\n",
      "n_estimator:  50\n",
      "\n",
      "\n",
      "Training Accuracy: 0.88589\n",
      "Valid Accuracy: 0.79782\n",
      "max_depth:  9\n",
      "n_estimator:  50\n",
      "\n",
      "\n",
      "Training Accuracy: 0.82417\n",
      "Valid Accuracy: 0.79316\n",
      "max_depth:  5\n",
      "n_estimator:  60\n",
      "\n",
      "\n",
      "Training Accuracy: 0.86463\n",
      "Valid Accuracy: 0.79938\n",
      "max_depth:  7\n",
      "n_estimator:  60\n",
      "\n",
      "\n",
      "Training Accuracy: 0.88485\n",
      "Valid Accuracy: 0.79782\n",
      "max_depth:  9\n",
      "n_estimator:  60\n",
      "\n",
      "\n",
      "Training Accuracy: 0.82469\n",
      "Valid Accuracy: 0.79316\n",
      "max_depth:  5\n",
      "n_estimator:  70\n",
      "\n",
      "\n",
      "Training Accuracy: 0.86411\n",
      "Valid Accuracy: 0.80093\n",
      "max_depth:  7\n",
      "n_estimator:  70\n",
      "\n",
      "\n",
      "Training Accuracy: 0.88382\n",
      "Valid Accuracy: 0.79782\n",
      "max_depth:  9\n",
      "n_estimator:  70\n",
      "\n",
      "\n",
      "Training Accuracy: 0.82469\n",
      "Valid Accuracy: 0.79316\n",
      "max_depth:  5\n",
      "n_estimator:  80\n",
      "\n",
      "\n",
      "Training Accuracy: 0.86100\n",
      "Valid Accuracy: 0.79938\n",
      "max_depth:  7\n",
      "n_estimator:  80\n",
      "\n",
      "\n",
      "Training Accuracy: 0.88485\n",
      "Valid Accuracy: 0.79471\n",
      "max_depth:  9\n",
      "n_estimator:  80\n",
      "\n",
      "\n",
      "Training Accuracy: 0.82469\n",
      "Valid Accuracy: 0.79316\n",
      "max_depth:  5\n",
      "n_estimator:  90\n",
      "\n",
      "\n",
      "Training Accuracy: 0.86151\n",
      "Valid Accuracy: 0.79938\n",
      "max_depth:  7\n",
      "n_estimator:  90\n",
      "\n",
      "\n",
      "Training Accuracy: 0.88434\n",
      "Valid Accuracy: 0.79471\n",
      "max_depth:  9\n",
      "n_estimator:  90\n",
      "\n",
      "\n",
      "Training Accuracy: 0.82521\n",
      "Valid Accuracy: 0.79471\n",
      "max_depth:  5\n",
      "n_estimator:  100\n",
      "\n",
      "\n",
      "Training Accuracy: 0.86307\n",
      "Valid Accuracy: 0.80093\n",
      "max_depth:  7\n",
      "n_estimator:  100\n",
      "\n",
      "\n",
      "Training Accuracy: 0.88485\n",
      "Valid Accuracy: 0.79471\n",
      "max_depth:  9\n",
      "n_estimator:  100\n",
      "\n",
      "\n"
     ]
    }
   ],
   "source": [
    "for n_estims in range(10, 101, 10):\n",
    "    for max_depth in range(5, 10, 2):\n",
    "        forest = RandomForestClassifier(max_depth=max_depth, n_estimators=n_estims, random_state=12345)\n",
    "        forest.fit(features_train, target_train)\n",
    "        forest_predictions_train = forest.predict(features_train)\n",
    "        forest_predictions_valid = forest.predict(features_valid)\n",
    "        print(\"Training Accuracy: %.5f\" %accuracy_score(target_train, forest_predictions_train))\n",
    "        print(\"Valid Accuracy: %.5f\" %accuracy_score(target_valid, forest_predictions_valid))\n",
    "        print('max_depth: ', max_depth)\n",
    "        print('n_estimator: ', n_estims)\n",
    "        print('\\n')        "
   ]
  },
  {
   "cell_type": "markdown",
   "metadata": {},
   "source": [
    "Наилучшее качество модели на валидационной выборке: 0.80249 при значениях max_depth = 7, n_estimator =  50\n",
    "\n",
    "### Логистическая регрессия"
   ]
  },
  {
   "cell_type": "code",
   "execution_count": 105,
   "metadata": {
    "scrolled": true
   },
   "outputs": [
    {
     "name": "stdout",
     "output_type": "stream",
     "text": [
      "Training Accuracy: 0.75311\n",
      "Valid Accuracy: 0.75583\n",
      "solver:  newton-cg\n",
      "\n",
      "\n",
      "Training Accuracy: 0.71317\n",
      "Valid Accuracy: 0.71073\n",
      "solver:  lbfgs\n",
      "\n",
      "\n",
      "Training Accuracy: 0.75052\n",
      "Valid Accuracy: 0.75894\n",
      "solver:  liblinear\n",
      "\n",
      "\n"
     ]
    },
    {
     "name": "stderr",
     "output_type": "stream",
     "text": [
      "/opt/conda/lib/python3.7/site-packages/scipy/optimize/linesearch.py:466: LineSearchWarning: The line search algorithm did not converge\n",
      "  warn('The line search algorithm did not converge', LineSearchWarning)\n",
      "/opt/conda/lib/python3.7/site-packages/scipy/optimize/linesearch.py:314: LineSearchWarning: The line search algorithm did not converge\n",
      "  warn('The line search algorithm did not converge', LineSearchWarning)\n",
      "/opt/conda/lib/python3.7/site-packages/scipy/optimize/linesearch.py:466: LineSearchWarning: The line search algorithm did not converge\n",
      "  warn('The line search algorithm did not converge', LineSearchWarning)\n",
      "/opt/conda/lib/python3.7/site-packages/scipy/optimize/linesearch.py:314: LineSearchWarning: The line search algorithm did not converge\n",
      "  warn('The line search algorithm did not converge', LineSearchWarning)\n"
     ]
    }
   ],
   "source": [
    "for solver in ['newton-cg', 'lbfgs', 'liblinear']:\n",
    "    lg_reg = LogisticRegression(solver=solver, max_iter=4000, random_state=12345)\n",
    "    lg_reg.fit(features_train, target_train)\n",
    "    lg_reg_predictions_train = lg_reg.predict(features_train)\n",
    "    lg_reg_predictions_valid = lg_reg.predict(features_valid)\n",
    "    print(\"Training Accuracy: %.5f\" %accuracy_score(target_train, lg_reg_predictions_train))\n",
    "    print(\"Valid Accuracy: %.5f\" %accuracy_score(target_valid, lg_reg_predictions_valid))\n",
    "    print('solver: ', solver)\n",
    "    print('\\n')        "
   ]
  },
  {
   "cell_type": "markdown",
   "metadata": {},
   "source": [
    "Наилучшее качество модели на валидационной выборке: 0.75894 при значениях solver=liblinear"
   ]
  },
  {
   "cell_type": "markdown",
   "metadata": {},
   "source": [
    "## Шаг 4. Проверка модели на тестовой выборке <a id='4-bullet'></a>"
   ]
  },
  {
   "cell_type": "code",
   "execution_count": 106,
   "metadata": {},
   "outputs": [],
   "source": [
    "features_test = df_test.drop(['is_ultra'], axis=1)\n",
    "target_test = df_test['is_ultra']"
   ]
  },
  {
   "cell_type": "code",
   "execution_count": 107,
   "metadata": {},
   "outputs": [
    {
     "name": "stdout",
     "output_type": "stream",
     "text": [
      "Accuracy на test 0.7822706065318819\n"
     ]
    }
   ],
   "source": [
    "# Дерево\n",
    "\n",
    "tree = DecisionTreeClassifier(max_depth=7, min_samples_leaf=50, random_state=12345)\n",
    "tree.fit(features_train, target_train)\n",
    "tree_predicted_test = tree.predict(features_test)\n",
    "print('Accuracy на test', accuracy_score(target_test, tree_predicted_test))"
   ]
  },
  {
   "cell_type": "code",
   "execution_count": 108,
   "metadata": {},
   "outputs": [
    {
     "name": "stdout",
     "output_type": "stream",
     "text": [
      "Accuracy на test 0.80248833592535\n"
     ]
    }
   ],
   "source": [
    "# Лес\n",
    "\n",
    "forest = RandomForestClassifier(max_depth=7, n_estimators=50, random_state=12345)\n",
    "forest.fit(features_train, target_train)\n",
    "forest_predicted_test = forest.predict(features_test)\n",
    "print('Accuracy на test', accuracy_score(target_test, forest_predicted_test))"
   ]
  },
  {
   "cell_type": "code",
   "execution_count": 109,
   "metadata": {},
   "outputs": [
    {
     "name": "stdout",
     "output_type": "stream",
     "text": [
      "Accuracy на test 0.7402799377916018\n"
     ]
    }
   ],
   "source": [
    "# Лог. регрессия\n",
    "\n",
    "lg_reg = LogisticRegression(solver='liblinear', max_iter=4000, random_state=12345)\n",
    "lg_reg.fit(features_train, target_train)\n",
    "lg_reg_predicted_test = lg_reg.predict(features_test)\n",
    "print('Accuracy на test', accuracy_score(target_test, lg_reg_predicted_test))"
   ]
  },
  {
   "cell_type": "markdown",
   "metadata": {},
   "source": [
    "Самый высокий результат на тестовых данных показал \"Случайный лес\", а самый низкий - \"Логистическая регрессия\""
   ]
  },
  {
   "cell_type": "markdown",
   "metadata": {},
   "source": [
    "## Шаг 5. Проверка модели на адекватность <a id='5-bullet'></a>"
   ]
  },
  {
   "cell_type": "code",
   "execution_count": 110,
   "metadata": {},
   "outputs": [
    {
     "data": {
      "text/plain": [
       "0    69.242739\n",
       "1    30.757261\n",
       "Name: is_ultra, dtype: float64"
      ]
     },
     "execution_count": 110,
     "metadata": {},
     "output_type": "execute_result"
    }
   ],
   "source": [
    "# доли классов в обучающей выборке\n",
    "\n",
    "df_train.is_ultra.value_counts()/df_train.shape[0]*100"
   ]
  },
  {
   "cell_type": "code",
   "execution_count": 111,
   "metadata": {
    "scrolled": true
   },
   "outputs": [
    {
     "data": {
      "text/plain": [
       "0    68.429238\n",
       "1    31.570762\n",
       "Name: is_ultra, dtype: float64"
      ]
     },
     "execution_count": 111,
     "metadata": {},
     "output_type": "execute_result"
    }
   ],
   "source": [
    "# доли классов в тестовой выборке\n",
    "\n",
    "df_test.is_ultra.value_counts()/df_test.shape[0]*100"
   ]
  },
  {
   "cell_type": "markdown",
   "metadata": {},
   "source": [
    "Доля большего класса равна 70%, что ощутимо меньше, чем accuracy любой из обученных моделей. Они успешно приспособились к дисбалансу классов в выборке."
   ]
  }
 ],
 "metadata": {
  "kernelspec": {
   "display_name": "Python 3",
   "language": "python",
   "name": "python3"
  },
  "language_info": {
   "codemirror_mode": {
    "name": "ipython",
    "version": 3
   },
   "file_extension": ".py",
   "mimetype": "text/x-python",
   "name": "python",
   "nbconvert_exporter": "python",
   "pygments_lexer": "ipython3",
   "version": "3.7.3"
  }
 },
 "nbformat": 4,
 "nbformat_minor": 2
}
