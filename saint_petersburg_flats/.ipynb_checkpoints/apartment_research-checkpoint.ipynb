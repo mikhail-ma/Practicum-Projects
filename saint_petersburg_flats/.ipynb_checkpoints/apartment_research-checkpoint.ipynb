{
 "cells": [
  {
   "cell_type": "markdown",
   "metadata": {},
   "source": [
    "# Недвижимость Санкт-Петербурга\n",
    "\n",
    "Имеется архив объявлений о продаже квартир в Санкт-Петербурге и Ленинградской области. Одна их часть предоставлена пользователями, другая - рассчитана автоматически. Задача - проанализировать данные и ответить на следующие вопросы:\n",
    "- сколько времени обычно занимает продажа\n",
    "- какие факторы больше всего влияют на стоимость квартиры: кол-во квадратных метров, числа комнат, удалённость от центра и прочие\n",
    "- присутствует ли зависимость цены от того, на каком этаже расположена квартира или даты размещения объявления\n",
    "- где в области самые дешевые и самые дорогие квартиры\n",
    "- какая область входит в центр Санкт-Петербурга\n",
    "- отличаются ли факторы ценообразования в центре от всего остального города\n",
    "\n",
    "### План действий\n",
    "\n",
    "- [Шаг 1. Загрузка и изучение данных](#1-bullet)\n",
    "- [Шаг 2. Предобработка данных](#2-bullet)\n",
    "- [Шаг 3. Расчет новых признаков](#3-bullet)\n",
    "- [Шаг 4. Исследовательский анализ данных](#4-bullet)\n",
    "- [Шаг 5. Общий вывод](#5-bullet)"
   ]
  },
  {
   "cell_type": "markdown",
   "metadata": {},
   "source": [
    "## Шаг 1. Откроем файл с данными и изучим общую информацию <a id='1-bullet'></a>\n",
    "\n",
    "### Признаки:\n",
    "- airports_nearest — расстояние до ближайшего аэропорта в метрах (м)\n",
    "- balcony — число балконов\n",
    "- ceiling_height — высота потолков (м)\n",
    "- cityCenters_nearest — расстояние до центра города (м)\n",
    "- days_exposition — сколько дней было размещено объявление (от публикации до снятия)\n",
    "- first_day_exposition — дата публикации\n",
    "- floor — этаж\n",
    "- floors_total — всего этажей в доме\n",
    "- is_apartment — апартаменты (булев тип)\n",
    "- kitchen_area — площадь кухни в квадратных метрах (м²)\n",
    "- last_price — цена на момент снятия с публикации\n",
    "- living_area — жилая площадь в квадратных метрах(м²)\n",
    "- locality_name — название населённого пункта\n",
    "- open_plan — свободная планировка (булев тип)\n",
    "- parks_around3000 — число парков в радиусе 3 км\n",
    "- parks_nearest — расстояние до ближайшего парка (м)\n",
    "- ponds_around3000 — число водоёмов в радиусе 3 км\n",
    "- ponds_nearest — расстояние до ближайшего водоёма (м)\n",
    "- rooms — число комнат\n",
    "- studio — квартира-студия (булев тип)\n",
    "- total_area — площадь квартиры в квадратных метрах (м²)\n",
    "- total_images — число фотографий квартиры в объявлении"
   ]
  },
  {
   "cell_type": "code",
   "execution_count": 1,
   "metadata": {},
   "outputs": [
    {
     "data": {
      "text/html": [
       "<div>\n",
       "<style scoped>\n",
       "    .dataframe tbody tr th:only-of-type {\n",
       "        vertical-align: middle;\n",
       "    }\n",
       "\n",
       "    .dataframe tbody tr th {\n",
       "        vertical-align: top;\n",
       "    }\n",
       "\n",
       "    .dataframe thead th {\n",
       "        text-align: right;\n",
       "    }\n",
       "</style>\n",
       "<table border=\"1\" class=\"dataframe\">\n",
       "  <thead>\n",
       "    <tr style=\"text-align: right;\">\n",
       "      <th></th>\n",
       "      <th>total_images</th>\n",
       "      <th>last_price</th>\n",
       "      <th>total_area</th>\n",
       "      <th>first_day_exposition</th>\n",
       "      <th>rooms</th>\n",
       "      <th>ceiling_height</th>\n",
       "      <th>floors_total</th>\n",
       "      <th>living_area</th>\n",
       "      <th>floor</th>\n",
       "      <th>is_apartment</th>\n",
       "      <th>studio</th>\n",
       "      <th>open_plan</th>\n",
       "      <th>kitchen_area</th>\n",
       "      <th>balcony</th>\n",
       "      <th>locality_name</th>\n",
       "      <th>airports_nearest</th>\n",
       "      <th>cityCenters_nearest</th>\n",
       "      <th>parks_around3000</th>\n",
       "      <th>parks_nearest</th>\n",
       "      <th>ponds_around3000</th>\n",
       "      <th>ponds_nearest</th>\n",
       "      <th>days_exposition</th>\n",
       "    </tr>\n",
       "  </thead>\n",
       "  <tbody>\n",
       "    <tr>\n",
       "      <td>20302</td>\n",
       "      <td>9</td>\n",
       "      <td>2700000.0</td>\n",
       "      <td>42.60</td>\n",
       "      <td>2018-03-17T00:00:00</td>\n",
       "      <td>1</td>\n",
       "      <td>2.50</td>\n",
       "      <td>9.0</td>\n",
       "      <td>NaN</td>\n",
       "      <td>9</td>\n",
       "      <td>NaN</td>\n",
       "      <td>False</td>\n",
       "      <td>False</td>\n",
       "      <td>NaN</td>\n",
       "      <td>NaN</td>\n",
       "      <td>Гатчина</td>\n",
       "      <td>NaN</td>\n",
       "      <td>NaN</td>\n",
       "      <td>NaN</td>\n",
       "      <td>NaN</td>\n",
       "      <td>NaN</td>\n",
       "      <td>NaN</td>\n",
       "      <td>45.0</td>\n",
       "    </tr>\n",
       "    <tr>\n",
       "      <td>22707</td>\n",
       "      <td>2</td>\n",
       "      <td>8950000.0</td>\n",
       "      <td>75.50</td>\n",
       "      <td>2018-02-09T00:00:00</td>\n",
       "      <td>2</td>\n",
       "      <td>2.80</td>\n",
       "      <td>20.0</td>\n",
       "      <td>35.0</td>\n",
       "      <td>18</td>\n",
       "      <td>NaN</td>\n",
       "      <td>False</td>\n",
       "      <td>False</td>\n",
       "      <td>16.60</td>\n",
       "      <td>2.0</td>\n",
       "      <td>Санкт-Петербург</td>\n",
       "      <td>39357.0</td>\n",
       "      <td>10581.0</td>\n",
       "      <td>2.0</td>\n",
       "      <td>288.0</td>\n",
       "      <td>3.0</td>\n",
       "      <td>311.0</td>\n",
       "      <td>271.0</td>\n",
       "    </tr>\n",
       "    <tr>\n",
       "      <td>1649</td>\n",
       "      <td>10</td>\n",
       "      <td>6000000.0</td>\n",
       "      <td>57.20</td>\n",
       "      <td>2018-04-02T00:00:00</td>\n",
       "      <td>3</td>\n",
       "      <td>2.60</td>\n",
       "      <td>10.0</td>\n",
       "      <td>39.0</td>\n",
       "      <td>4</td>\n",
       "      <td>NaN</td>\n",
       "      <td>False</td>\n",
       "      <td>False</td>\n",
       "      <td>6.20</td>\n",
       "      <td>NaN</td>\n",
       "      <td>Санкт-Петербург</td>\n",
       "      <td>35102.0</td>\n",
       "      <td>12017.0</td>\n",
       "      <td>0.0</td>\n",
       "      <td>NaN</td>\n",
       "      <td>0.0</td>\n",
       "      <td>NaN</td>\n",
       "      <td>282.0</td>\n",
       "    </tr>\n",
       "    <tr>\n",
       "      <td>17584</td>\n",
       "      <td>8</td>\n",
       "      <td>8990000.0</td>\n",
       "      <td>77.00</td>\n",
       "      <td>2017-07-10T00:00:00</td>\n",
       "      <td>3</td>\n",
       "      <td>3.00</td>\n",
       "      <td>5.0</td>\n",
       "      <td>53.5</td>\n",
       "      <td>2</td>\n",
       "      <td>NaN</td>\n",
       "      <td>False</td>\n",
       "      <td>False</td>\n",
       "      <td>9.00</td>\n",
       "      <td>0.0</td>\n",
       "      <td>Санкт-Петербург</td>\n",
       "      <td>37996.0</td>\n",
       "      <td>8132.0</td>\n",
       "      <td>0.0</td>\n",
       "      <td>NaN</td>\n",
       "      <td>2.0</td>\n",
       "      <td>185.0</td>\n",
       "      <td>24.0</td>\n",
       "    </tr>\n",
       "    <tr>\n",
       "      <td>13542</td>\n",
       "      <td>7</td>\n",
       "      <td>1850000.0</td>\n",
       "      <td>58.00</td>\n",
       "      <td>2015-07-02T00:00:00</td>\n",
       "      <td>3</td>\n",
       "      <td>2.55</td>\n",
       "      <td>5.0</td>\n",
       "      <td>43.3</td>\n",
       "      <td>3</td>\n",
       "      <td>NaN</td>\n",
       "      <td>False</td>\n",
       "      <td>False</td>\n",
       "      <td>6.00</td>\n",
       "      <td>0.0</td>\n",
       "      <td>деревня Зимитицы</td>\n",
       "      <td>NaN</td>\n",
       "      <td>NaN</td>\n",
       "      <td>NaN</td>\n",
       "      <td>NaN</td>\n",
       "      <td>NaN</td>\n",
       "      <td>NaN</td>\n",
       "      <td>610.0</td>\n",
       "    </tr>\n",
       "    <tr>\n",
       "      <td>8301</td>\n",
       "      <td>11</td>\n",
       "      <td>3695000.0</td>\n",
       "      <td>35.00</td>\n",
       "      <td>2015-11-16T00:00:00</td>\n",
       "      <td>1</td>\n",
       "      <td>2.60</td>\n",
       "      <td>12.0</td>\n",
       "      <td>NaN</td>\n",
       "      <td>2</td>\n",
       "      <td>NaN</td>\n",
       "      <td>False</td>\n",
       "      <td>False</td>\n",
       "      <td>NaN</td>\n",
       "      <td>NaN</td>\n",
       "      <td>Санкт-Петербург</td>\n",
       "      <td>31520.0</td>\n",
       "      <td>12113.0</td>\n",
       "      <td>0.0</td>\n",
       "      <td>NaN</td>\n",
       "      <td>0.0</td>\n",
       "      <td>NaN</td>\n",
       "      <td>1058.0</td>\n",
       "    </tr>\n",
       "    <tr>\n",
       "      <td>12035</td>\n",
       "      <td>6</td>\n",
       "      <td>4350000.0</td>\n",
       "      <td>36.44</td>\n",
       "      <td>2017-07-28T00:00:00</td>\n",
       "      <td>1</td>\n",
       "      <td>NaN</td>\n",
       "      <td>22.0</td>\n",
       "      <td>20.3</td>\n",
       "      <td>16</td>\n",
       "      <td>NaN</td>\n",
       "      <td>False</td>\n",
       "      <td>False</td>\n",
       "      <td>10.02</td>\n",
       "      <td>NaN</td>\n",
       "      <td>Санкт-Петербург</td>\n",
       "      <td>36579.0</td>\n",
       "      <td>9092.0</td>\n",
       "      <td>0.0</td>\n",
       "      <td>NaN</td>\n",
       "      <td>1.0</td>\n",
       "      <td>454.0</td>\n",
       "      <td>146.0</td>\n",
       "    </tr>\n",
       "    <tr>\n",
       "      <td>12948</td>\n",
       "      <td>2</td>\n",
       "      <td>14000000.0</td>\n",
       "      <td>90.00</td>\n",
       "      <td>2015-11-22T00:00:00</td>\n",
       "      <td>3</td>\n",
       "      <td>NaN</td>\n",
       "      <td>5.0</td>\n",
       "      <td>58.7</td>\n",
       "      <td>5</td>\n",
       "      <td>False</td>\n",
       "      <td>False</td>\n",
       "      <td>False</td>\n",
       "      <td>9.00</td>\n",
       "      <td>0.0</td>\n",
       "      <td>Санкт-Петербург</td>\n",
       "      <td>23599.0</td>\n",
       "      <td>2408.0</td>\n",
       "      <td>3.0</td>\n",
       "      <td>454.0</td>\n",
       "      <td>1.0</td>\n",
       "      <td>77.0</td>\n",
       "      <td>378.0</td>\n",
       "    </tr>\n",
       "    <tr>\n",
       "      <td>2731</td>\n",
       "      <td>0</td>\n",
       "      <td>25000000.0</td>\n",
       "      <td>148.30</td>\n",
       "      <td>2018-04-04T00:00:00</td>\n",
       "      <td>3</td>\n",
       "      <td>NaN</td>\n",
       "      <td>5.0</td>\n",
       "      <td>NaN</td>\n",
       "      <td>5</td>\n",
       "      <td>NaN</td>\n",
       "      <td>False</td>\n",
       "      <td>False</td>\n",
       "      <td>40.20</td>\n",
       "      <td>NaN</td>\n",
       "      <td>Санкт-Петербург</td>\n",
       "      <td>36334.0</td>\n",
       "      <td>14486.0</td>\n",
       "      <td>0.0</td>\n",
       "      <td>NaN</td>\n",
       "      <td>0.0</td>\n",
       "      <td>NaN</td>\n",
       "      <td>NaN</td>\n",
       "    </tr>\n",
       "    <tr>\n",
       "      <td>1172</td>\n",
       "      <td>20</td>\n",
       "      <td>3900000.0</td>\n",
       "      <td>40.60</td>\n",
       "      <td>2018-02-11T00:00:00</td>\n",
       "      <td>1</td>\n",
       "      <td>2.79</td>\n",
       "      <td>24.0</td>\n",
       "      <td>16.8</td>\n",
       "      <td>17</td>\n",
       "      <td>False</td>\n",
       "      <td>False</td>\n",
       "      <td>False</td>\n",
       "      <td>14.80</td>\n",
       "      <td>1.0</td>\n",
       "      <td>посёлок Шушары</td>\n",
       "      <td>13461.0</td>\n",
       "      <td>19247.0</td>\n",
       "      <td>0.0</td>\n",
       "      <td>NaN</td>\n",
       "      <td>1.0</td>\n",
       "      <td>351.0</td>\n",
       "      <td>7.0</td>\n",
       "    </tr>\n",
       "  </tbody>\n",
       "</table>\n",
       "</div>"
      ],
      "text/plain": [
       "       total_images  last_price  total_area first_day_exposition  rooms  \\\n",
       "20302             9   2700000.0       42.60  2018-03-17T00:00:00      1   \n",
       "22707             2   8950000.0       75.50  2018-02-09T00:00:00      2   \n",
       "1649             10   6000000.0       57.20  2018-04-02T00:00:00      3   \n",
       "17584             8   8990000.0       77.00  2017-07-10T00:00:00      3   \n",
       "13542             7   1850000.0       58.00  2015-07-02T00:00:00      3   \n",
       "8301             11   3695000.0       35.00  2015-11-16T00:00:00      1   \n",
       "12035             6   4350000.0       36.44  2017-07-28T00:00:00      1   \n",
       "12948             2  14000000.0       90.00  2015-11-22T00:00:00      3   \n",
       "2731              0  25000000.0      148.30  2018-04-04T00:00:00      3   \n",
       "1172             20   3900000.0       40.60  2018-02-11T00:00:00      1   \n",
       "\n",
       "       ceiling_height  floors_total  living_area  floor is_apartment  studio  \\\n",
       "20302            2.50           9.0          NaN      9          NaN   False   \n",
       "22707            2.80          20.0         35.0     18          NaN   False   \n",
       "1649             2.60          10.0         39.0      4          NaN   False   \n",
       "17584            3.00           5.0         53.5      2          NaN   False   \n",
       "13542            2.55           5.0         43.3      3          NaN   False   \n",
       "8301             2.60          12.0          NaN      2          NaN   False   \n",
       "12035             NaN          22.0         20.3     16          NaN   False   \n",
       "12948             NaN           5.0         58.7      5        False   False   \n",
       "2731              NaN           5.0          NaN      5          NaN   False   \n",
       "1172             2.79          24.0         16.8     17        False   False   \n",
       "\n",
       "       open_plan  kitchen_area  balcony     locality_name  airports_nearest  \\\n",
       "20302      False           NaN      NaN           Гатчина               NaN   \n",
       "22707      False         16.60      2.0   Санкт-Петербург           39357.0   \n",
       "1649       False          6.20      NaN   Санкт-Петербург           35102.0   \n",
       "17584      False          9.00      0.0   Санкт-Петербург           37996.0   \n",
       "13542      False          6.00      0.0  деревня Зимитицы               NaN   \n",
       "8301       False           NaN      NaN   Санкт-Петербург           31520.0   \n",
       "12035      False         10.02      NaN   Санкт-Петербург           36579.0   \n",
       "12948      False          9.00      0.0   Санкт-Петербург           23599.0   \n",
       "2731       False         40.20      NaN   Санкт-Петербург           36334.0   \n",
       "1172       False         14.80      1.0    посёлок Шушары           13461.0   \n",
       "\n",
       "       cityCenters_nearest  parks_around3000  parks_nearest  ponds_around3000  \\\n",
       "20302                  NaN               NaN            NaN               NaN   \n",
       "22707              10581.0               2.0          288.0               3.0   \n",
       "1649               12017.0               0.0            NaN               0.0   \n",
       "17584               8132.0               0.0            NaN               2.0   \n",
       "13542                  NaN               NaN            NaN               NaN   \n",
       "8301               12113.0               0.0            NaN               0.0   \n",
       "12035               9092.0               0.0            NaN               1.0   \n",
       "12948               2408.0               3.0          454.0               1.0   \n",
       "2731               14486.0               0.0            NaN               0.0   \n",
       "1172               19247.0               0.0            NaN               1.0   \n",
       "\n",
       "       ponds_nearest  days_exposition  \n",
       "20302            NaN             45.0  \n",
       "22707          311.0            271.0  \n",
       "1649             NaN            282.0  \n",
       "17584          185.0             24.0  \n",
       "13542            NaN            610.0  \n",
       "8301             NaN           1058.0  \n",
       "12035          454.0            146.0  \n",
       "12948           77.0            378.0  \n",
       "2731             NaN              NaN  \n",
       "1172           351.0              7.0  "
      ]
     },
     "execution_count": 1,
     "metadata": {},
     "output_type": "execute_result"
    }
   ],
   "source": [
    "import pandas as pd\n",
    "df = pd.read_csv('/datasets/real_estate_data.csv', sep='\\t')\n",
    "pd.set_option('display.max_columns', None)\n",
    "df.sample(10)"
   ]
  },
  {
   "cell_type": "code",
   "execution_count": 2,
   "metadata": {},
   "outputs": [
    {
     "name": "stdout",
     "output_type": "stream",
     "text": [
      "<class 'pandas.core.frame.DataFrame'>\n",
      "RangeIndex: 23699 entries, 0 to 23698\n",
      "Data columns (total 22 columns):\n",
      "total_images            23699 non-null int64\n",
      "last_price              23699 non-null float64\n",
      "total_area              23699 non-null float64\n",
      "first_day_exposition    23699 non-null object\n",
      "rooms                   23699 non-null int64\n",
      "ceiling_height          14504 non-null float64\n",
      "floors_total            23613 non-null float64\n",
      "living_area             21796 non-null float64\n",
      "floor                   23699 non-null int64\n",
      "is_apartment            2775 non-null object\n",
      "studio                  23699 non-null bool\n",
      "open_plan               23699 non-null bool\n",
      "kitchen_area            21421 non-null float64\n",
      "balcony                 12180 non-null float64\n",
      "locality_name           23650 non-null object\n",
      "airports_nearest        18157 non-null float64\n",
      "cityCenters_nearest     18180 non-null float64\n",
      "parks_around3000        18181 non-null float64\n",
      "parks_nearest           8079 non-null float64\n",
      "ponds_around3000        18181 non-null float64\n",
      "ponds_nearest           9110 non-null float64\n",
      "days_exposition         20518 non-null float64\n",
      "dtypes: bool(2), float64(14), int64(3), object(3)\n",
      "memory usage: 3.7+ MB\n"
     ]
    }
   ],
   "source": [
    "df.info()"
   ]
  },
  {
   "cell_type": "markdown",
   "metadata": {},
   "source": [
    "Наблюдается большое число пропущенных данных по отдельным столбцам, но пока не понятно связано ли это с ошибкой или просто рядом с квартирами нет парков, прудов и тд. Кроме того, можно заменить, что  \"first_day_exposition\" содержит формат object, а не dt. "
   ]
  },
  {
   "cell_type": "markdown",
   "metadata": {},
   "source": [
    "## Шаг 2. Предобработка данных <a id='2-bullet'></a>"
   ]
  },
  {
   "cell_type": "markdown",
   "metadata": {},
   "source": [
    "Изучим пропуски более подробно"
   ]
  },
  {
   "cell_type": "code",
   "execution_count": 3,
   "metadata": {},
   "outputs": [
    {
     "data": {
      "text/plain": [
       "is_apartment            88.290645\n",
       "parks_nearest           65.909954\n",
       "ponds_nearest           61.559559\n",
       "balcony                 48.605426\n",
       "ceiling_height          38.799105\n",
       "airports_nearest        23.384953\n",
       "cityCenters_nearest     23.287902\n",
       "parks_around3000        23.283683\n",
       "ponds_around3000        23.283683\n",
       "days_exposition         13.422507\n",
       "kitchen_area             9.612220\n",
       "living_area              8.029875\n",
       "floors_total             0.362885\n",
       "locality_name            0.206760\n",
       "first_day_exposition     0.000000\n",
       "last_price               0.000000\n",
       "total_area               0.000000\n",
       "studio                   0.000000\n",
       "rooms                    0.000000\n",
       "floor                    0.000000\n",
       "open_plan                0.000000\n",
       "total_images             0.000000\n",
       "dtype: float64"
      ]
     },
     "execution_count": 3,
     "metadata": {},
     "output_type": "execute_result"
    }
   ],
   "source": [
    "df.isnull().sum().sort_values(ascending=False)/df.shape[0]*100"
   ]
  },
  {
   "cell_type": "markdown",
   "metadata": {},
   "source": [
    "В отдельных столбцах доля пропусков превышает 50%, что несколько настораживает.\n",
    "\n",
    "Начнем преобразовывать данные по порядку, но сначала займемся столбцами: поменяем названия и выстроим их в более удобоваримый вид"
   ]
  },
  {
   "cell_type": "code",
   "execution_count": 4,
   "metadata": {},
   "outputs": [
    {
     "data": {
      "text/plain": [
       "array(['total_images', 'last_price', 'total_area', 'first_day_exposition',\n",
       "       'rooms', 'ceiling_height', 'floors_total', 'living_area', 'floor',\n",
       "       'is_apartment', 'studio', 'open_plan', 'kitchen_area', 'balcony',\n",
       "       'locality_name', 'airports_nearest', 'cityCenters_nearest',\n",
       "       'parks_around3000', 'parks_nearest', 'ponds_around3000',\n",
       "       'ponds_nearest', 'days_exposition'], dtype=object)"
      ]
     },
     "execution_count": 4,
     "metadata": {},
     "output_type": "execute_result"
    }
   ],
   "source": [
    "df.columns.values"
   ]
  },
  {
   "cell_type": "code",
   "execution_count": 5,
   "metadata": {},
   "outputs": [
    {
     "data": {
      "text/plain": [
       "array(['total_images', 'last_price', 'total_area_m2',\n",
       "       'first_day_exposition', 'rooms_number', 'ceiling_height_m',\n",
       "       'floors_number_in_house', 'living_area_m2', 'floor',\n",
       "       'is_apartment', 'is_studio', 'is_open_plan', 'kitchen_area_m2',\n",
       "       'balcony_number', 'locality_name', 'airport_nearest_distance_m',\n",
       "       'city_center_distance_m', 'parks_numbers_within_3km',\n",
       "       'park_nearest_distance_m', 'ponds_numbers_within_3km',\n",
       "       'pond_nearest_distance_m', 'days_exposition'], dtype=object)"
      ]
     },
     "execution_count": 5,
     "metadata": {},
     "output_type": "execute_result"
    }
   ],
   "source": [
    "сolumns = ['total_images', 'last_price', 'total_area_m2', 'first_day_exposition', 'rooms_number', 'ceiling_height_m',\n",
    "           'floors_number_in_house', 'living_area_m2', 'floor', 'is_apartment', 'is_studio', 'is_open_plan', 'kitchen_area_m2',\n",
    "           'balcony_number', 'locality_name', 'airport_nearest_distance_m', 'city_center_distance_m', 'parks_numbers_within_3km',\n",
    "           'park_nearest_distance_m', 'ponds_numbers_within_3km', 'pond_nearest_distance_m', 'days_exposition']\n",
    "\n",
    "df.set_axis(сolumns, axis='columns', inplace=True)\n",
    "df.columns.values"
   ]
  },
  {
   "cell_type": "code",
   "execution_count": 6,
   "metadata": {},
   "outputs": [
    {
     "data": {
      "text/html": [
       "<div>\n",
       "<style scoped>\n",
       "    .dataframe tbody tr th:only-of-type {\n",
       "        vertical-align: middle;\n",
       "    }\n",
       "\n",
       "    .dataframe tbody tr th {\n",
       "        vertical-align: top;\n",
       "    }\n",
       "\n",
       "    .dataframe thead th {\n",
       "        text-align: right;\n",
       "    }\n",
       "</style>\n",
       "<table border=\"1\" class=\"dataframe\">\n",
       "  <thead>\n",
       "    <tr style=\"text-align: right;\">\n",
       "      <th></th>\n",
       "      <th>locality_name</th>\n",
       "      <th>rooms_number</th>\n",
       "      <th>last_price</th>\n",
       "      <th>total_area_m2</th>\n",
       "      <th>living_area_m2</th>\n",
       "      <th>kitchen_area_m2</th>\n",
       "      <th>ceiling_height_m</th>\n",
       "      <th>balcony_number</th>\n",
       "      <th>floor</th>\n",
       "      <th>floors_number_in_house</th>\n",
       "      <th>is_apartment</th>\n",
       "      <th>is_studio</th>\n",
       "      <th>is_open_plan</th>\n",
       "      <th>first_day_exposition</th>\n",
       "      <th>days_exposition</th>\n",
       "      <th>total_images</th>\n",
       "      <th>city_center_distance_m</th>\n",
       "      <th>parks_numbers_within_3km</th>\n",
       "      <th>park_nearest_distance_m</th>\n",
       "      <th>ponds_numbers_within_3km</th>\n",
       "      <th>pond_nearest_distance_m</th>\n",
       "      <th>airport_nearest_distance_m</th>\n",
       "    </tr>\n",
       "  </thead>\n",
       "  <tbody>\n",
       "    <tr>\n",
       "      <td>0</td>\n",
       "      <td>Санкт-Петербург</td>\n",
       "      <td>3</td>\n",
       "      <td>13000000.0</td>\n",
       "      <td>108.0</td>\n",
       "      <td>51.0</td>\n",
       "      <td>25.0</td>\n",
       "      <td>2.70</td>\n",
       "      <td>NaN</td>\n",
       "      <td>8</td>\n",
       "      <td>16.0</td>\n",
       "      <td>NaN</td>\n",
       "      <td>False</td>\n",
       "      <td>False</td>\n",
       "      <td>2019-03-07T00:00:00</td>\n",
       "      <td>NaN</td>\n",
       "      <td>20</td>\n",
       "      <td>16028.0</td>\n",
       "      <td>1.0</td>\n",
       "      <td>482.0</td>\n",
       "      <td>2.0</td>\n",
       "      <td>755.0</td>\n",
       "      <td>18863.0</td>\n",
       "    </tr>\n",
       "    <tr>\n",
       "      <td>1</td>\n",
       "      <td>посёлок Шушары</td>\n",
       "      <td>1</td>\n",
       "      <td>3350000.0</td>\n",
       "      <td>40.4</td>\n",
       "      <td>18.6</td>\n",
       "      <td>11.0</td>\n",
       "      <td>NaN</td>\n",
       "      <td>2.0</td>\n",
       "      <td>1</td>\n",
       "      <td>11.0</td>\n",
       "      <td>NaN</td>\n",
       "      <td>False</td>\n",
       "      <td>False</td>\n",
       "      <td>2018-12-04T00:00:00</td>\n",
       "      <td>81.0</td>\n",
       "      <td>7</td>\n",
       "      <td>18603.0</td>\n",
       "      <td>0.0</td>\n",
       "      <td>NaN</td>\n",
       "      <td>0.0</td>\n",
       "      <td>NaN</td>\n",
       "      <td>12817.0</td>\n",
       "    </tr>\n",
       "    <tr>\n",
       "      <td>2</td>\n",
       "      <td>Санкт-Петербург</td>\n",
       "      <td>2</td>\n",
       "      <td>5196000.0</td>\n",
       "      <td>56.0</td>\n",
       "      <td>34.3</td>\n",
       "      <td>8.3</td>\n",
       "      <td>NaN</td>\n",
       "      <td>0.0</td>\n",
       "      <td>4</td>\n",
       "      <td>5.0</td>\n",
       "      <td>NaN</td>\n",
       "      <td>False</td>\n",
       "      <td>False</td>\n",
       "      <td>2015-08-20T00:00:00</td>\n",
       "      <td>558.0</td>\n",
       "      <td>10</td>\n",
       "      <td>13933.0</td>\n",
       "      <td>1.0</td>\n",
       "      <td>90.0</td>\n",
       "      <td>2.0</td>\n",
       "      <td>574.0</td>\n",
       "      <td>21741.0</td>\n",
       "    </tr>\n",
       "    <tr>\n",
       "      <td>3</td>\n",
       "      <td>Санкт-Петербург</td>\n",
       "      <td>3</td>\n",
       "      <td>64900000.0</td>\n",
       "      <td>159.0</td>\n",
       "      <td>NaN</td>\n",
       "      <td>NaN</td>\n",
       "      <td>NaN</td>\n",
       "      <td>0.0</td>\n",
       "      <td>9</td>\n",
       "      <td>14.0</td>\n",
       "      <td>NaN</td>\n",
       "      <td>False</td>\n",
       "      <td>False</td>\n",
       "      <td>2015-07-24T00:00:00</td>\n",
       "      <td>424.0</td>\n",
       "      <td>0</td>\n",
       "      <td>6800.0</td>\n",
       "      <td>2.0</td>\n",
       "      <td>84.0</td>\n",
       "      <td>3.0</td>\n",
       "      <td>234.0</td>\n",
       "      <td>28098.0</td>\n",
       "    </tr>\n",
       "    <tr>\n",
       "      <td>4</td>\n",
       "      <td>Санкт-Петербург</td>\n",
       "      <td>2</td>\n",
       "      <td>10000000.0</td>\n",
       "      <td>100.0</td>\n",
       "      <td>32.0</td>\n",
       "      <td>41.0</td>\n",
       "      <td>3.03</td>\n",
       "      <td>NaN</td>\n",
       "      <td>13</td>\n",
       "      <td>14.0</td>\n",
       "      <td>NaN</td>\n",
       "      <td>False</td>\n",
       "      <td>False</td>\n",
       "      <td>2018-06-19T00:00:00</td>\n",
       "      <td>121.0</td>\n",
       "      <td>2</td>\n",
       "      <td>8098.0</td>\n",
       "      <td>2.0</td>\n",
       "      <td>112.0</td>\n",
       "      <td>1.0</td>\n",
       "      <td>48.0</td>\n",
       "      <td>31856.0</td>\n",
       "    </tr>\n",
       "  </tbody>\n",
       "</table>\n",
       "</div>"
      ],
      "text/plain": [
       "     locality_name  rooms_number  last_price  total_area_m2  living_area_m2  \\\n",
       "0  Санкт-Петербург             3  13000000.0          108.0            51.0   \n",
       "1   посёлок Шушары             1   3350000.0           40.4            18.6   \n",
       "2  Санкт-Петербург             2   5196000.0           56.0            34.3   \n",
       "3  Санкт-Петербург             3  64900000.0          159.0             NaN   \n",
       "4  Санкт-Петербург             2  10000000.0          100.0            32.0   \n",
       "\n",
       "   kitchen_area_m2  ceiling_height_m  balcony_number  floor  \\\n",
       "0             25.0              2.70             NaN      8   \n",
       "1             11.0               NaN             2.0      1   \n",
       "2              8.3               NaN             0.0      4   \n",
       "3              NaN               NaN             0.0      9   \n",
       "4             41.0              3.03             NaN     13   \n",
       "\n",
       "   floors_number_in_house is_apartment  is_studio  is_open_plan  \\\n",
       "0                    16.0          NaN      False         False   \n",
       "1                    11.0          NaN      False         False   \n",
       "2                     5.0          NaN      False         False   \n",
       "3                    14.0          NaN      False         False   \n",
       "4                    14.0          NaN      False         False   \n",
       "\n",
       "  first_day_exposition  days_exposition  total_images  city_center_distance_m  \\\n",
       "0  2019-03-07T00:00:00              NaN            20                 16028.0   \n",
       "1  2018-12-04T00:00:00             81.0             7                 18603.0   \n",
       "2  2015-08-20T00:00:00            558.0            10                 13933.0   \n",
       "3  2015-07-24T00:00:00            424.0             0                  6800.0   \n",
       "4  2018-06-19T00:00:00            121.0             2                  8098.0   \n",
       "\n",
       "   parks_numbers_within_3km  park_nearest_distance_m  \\\n",
       "0                       1.0                    482.0   \n",
       "1                       0.0                      NaN   \n",
       "2                       1.0                     90.0   \n",
       "3                       2.0                     84.0   \n",
       "4                       2.0                    112.0   \n",
       "\n",
       "   ponds_numbers_within_3km  pond_nearest_distance_m  \\\n",
       "0                       2.0                    755.0   \n",
       "1                       0.0                      NaN   \n",
       "2                       2.0                    574.0   \n",
       "3                       3.0                    234.0   \n",
       "4                       1.0                     48.0   \n",
       "\n",
       "   airport_nearest_distance_m  \n",
       "0                     18863.0  \n",
       "1                     12817.0  \n",
       "2                     21741.0  \n",
       "3                     28098.0  \n",
       "4                     31856.0  "
      ]
     },
     "execution_count": 6,
     "metadata": {},
     "output_type": "execute_result"
    }
   ],
   "source": [
    "df = df[[\n",
    " 'locality_name',\n",
    " 'rooms_number',\n",
    " 'last_price',\n",
    " 'total_area_m2',\n",
    " 'living_area_m2',\n",
    " 'kitchen_area_m2',\n",
    " 'ceiling_height_m',\n",
    " 'balcony_number',\n",
    " 'floor',\n",
    " 'floors_number_in_house',\n",
    " 'is_apartment',\n",
    " 'is_studio',\n",
    " 'is_open_plan',   \n",
    " 'first_day_exposition',\n",
    " 'days_exposition',\n",
    " 'total_images',\n",
    " 'city_center_distance_m',\n",
    " 'parks_numbers_within_3km',\n",
    " 'park_nearest_distance_m',\n",
    " 'ponds_numbers_within_3km',\n",
    " 'pond_nearest_distance_m',\n",
    " 'airport_nearest_distance_m'\n",
    "]]\n",
    "\n",
    "df.head()"
   ]
  },
  {
   "cell_type": "code",
   "execution_count": 7,
   "metadata": {
    "scrolled": true
   },
   "outputs": [
    {
     "data": {
      "text/plain": [
       "0"
      ]
     },
     "execution_count": 7,
     "metadata": {},
     "output_type": "execute_result"
    }
   ],
   "source": [
    "# Пока дубликатов нет\n",
    "\n",
    "df.duplicated().sum()"
   ]
  },
  {
   "cell_type": "markdown",
   "metadata": {},
   "source": [
    "### locality_name"
   ]
  },
  {
   "cell_type": "code",
   "execution_count": 8,
   "metadata": {},
   "outputs": [],
   "source": [
    "df.locality_name = df.locality_name.str.lower()"
   ]
  },
  {
   "cell_type": "code",
   "execution_count": 9,
   "metadata": {},
   "outputs": [
    {
     "name": "stdout",
     "output_type": "stream",
     "text": [
      "До замены: 365\n",
      "После замены: 331\n"
     ]
    }
   ],
   "source": [
    "# Попробуем заменить ё на е, чтобы привести одинаковые локации к одной форме записи\n",
    "print('До замены: {}'.format(len(df.locality_name.unique())))\n",
    "df.locality_name = df.locality_name.replace('ё', 'е', regex=True)\n",
    "print('После замены: {}'.format(len(df.locality_name.unique())))"
   ]
  },
  {
   "cell_type": "code",
   "execution_count": 10,
   "metadata": {},
   "outputs": [
    {
     "name": "stdout",
     "output_type": "stream",
     "text": [
      "Кол-во пропущенных значений в столбце: 49\n",
      "Доля пропусков в столбце: 0.21%\n"
     ]
    }
   ],
   "source": [
    "print('Кол-во пропущенных значений в столбце: {}'.format(df.locality_name.isnull().sum()))\n",
    "print('Доля пропусков в столбце: {:.2%}'.format(df.locality_name.isnull().sum()/df.shape[0]))"
   ]
  },
  {
   "cell_type": "code",
   "execution_count": 11,
   "metadata": {},
   "outputs": [
    {
     "data": {
      "text/plain": [
       "0"
      ]
     },
     "execution_count": 11,
     "metadata": {},
     "output_type": "execute_result"
    }
   ],
   "source": [
    "# В отсутствии информации о местоположении квартиры данные будут бесполезны, да и их кол-во достаточно мало - удаляем\n",
    "\n",
    "df = df.dropna(subset=['locality_name'])\n",
    "df.locality_name.isnull().sum()"
   ]
  },
  {
   "cell_type": "markdown",
   "metadata": {},
   "source": [
    "### living_area_m2 и kitchen_area_m2\n",
    "\n",
    "Поверхностного анализа было достаточно, чтобы понять: total_area_m2 != living_area_m2 + kitchen_area_m2\n",
    "\n",
    "У нас не учитывается, как минимум, размер санузла. Поэтому посчитаем процентное соотношение данных помещений к общему размеру.\n",
    "\n",
    "Перед этим посмотрим, а есть ли квартиры, где total_area_m2 меньше суммы living_area_m2 и kitchen_area_m2"
   ]
  },
  {
   "cell_type": "code",
   "execution_count": 12,
   "metadata": {},
   "outputs": [
    {
     "name": "stdout",
     "output_type": "stream",
     "text": [
      "64\n"
     ]
    }
   ],
   "source": [
    "# Таким 64 штуки - будем удалять эти данные когда приведем в порядок все задействованные столбцы\n",
    "\n",
    "print(len(df.query('total_area_m2 < (living_area_m2+kitchen_area_m2)')))"
   ]
  },
  {
   "cell_type": "code",
   "execution_count": 13,
   "metadata": {},
   "outputs": [
    {
     "name": "stdout",
     "output_type": "stream",
     "text": [
      "Доля жилой площади: 56.79%\n",
      "Доля кухни: 17.24%\n"
     ]
    }
   ],
   "source": [
    "print('Доля жилой площади: {:.2%}'.format((df['living_area_m2'] / df['total_area_m2']).median()))\n",
    "print('Доля кухни: {:.2%}'.format((df['kitchen_area_m2'] / df['total_area_m2']).median()))"
   ]
  },
  {
   "cell_type": "code",
   "execution_count": 14,
   "metadata": {},
   "outputs": [],
   "source": [
    "df['living_area_m2'] = df['living_area_m2'].fillna(df['total_area_m2'] * 0.56)\n",
    "df['kitchen_area_m2'] = df['kitchen_area_m2'].fillna(df['total_area_m2'] * 0.17)          "
   ]
  },
  {
   "cell_type": "code",
   "execution_count": 15,
   "metadata": {},
   "outputs": [
    {
     "name": "stdout",
     "output_type": "stream",
     "text": [
      "Кол-во пропусков в столбце living_area_m2: 0\n",
      "Кол-во пропусков в столбце kitchen_area_m2: 0\n"
     ]
    }
   ],
   "source": [
    "# Проверим\n",
    "\n",
    "print('Кол-во пропусков в столбце living_area_m2: {}'.format(df.living_area_m2.isnull().sum()))\n",
    "print('Кол-во пропусков в столбце kitchen_area_m2: {}'.format(df.kitchen_area_m2.isnull().sum()))"
   ]
  },
  {
   "cell_type": "code",
   "execution_count": 16,
   "metadata": {},
   "outputs": [
    {
     "name": "stdout",
     "output_type": "stream",
     "text": [
      "Кол-во аномальных значений: 115.00\n",
      "Доля аномальных значений: 0.49%\n"
     ]
    }
   ],
   "source": [
    "print('Кол-во аномальных значений: {:.2f}'.\n",
    "      format((len(df.query('total_area_m2 < (living_area_m2+kitchen_area_m2)')))))\n",
    "print('Доля аномальных значений: {:.2%}'.\n",
    "      format((len(df.query('total_area_m2 < (living_area_m2+kitchen_area_m2)')))/df.shape[0]))"
   ]
  },
  {
   "cell_type": "code",
   "execution_count": 17,
   "metadata": {},
   "outputs": [],
   "source": [
    "# Аномальных значений стало больше, но не критично - они нам все также не нужны\n",
    "df = df.query('total_area_m2 > (living_area_m2+kitchen_area_m2)')"
   ]
  },
  {
   "cell_type": "code",
   "execution_count": 18,
   "metadata": {},
   "outputs": [
    {
     "name": "stdout",
     "output_type": "stream",
     "text": [
      "<class 'pandas.core.frame.DataFrame'>\n",
      "Int64Index: 23465 entries, 0 to 23698\n",
      "Data columns (total 22 columns):\n",
      "locality_name                 23465 non-null object\n",
      "rooms_number                  23465 non-null int64\n",
      "last_price                    23465 non-null float64\n",
      "total_area_m2                 23465 non-null float64\n",
      "living_area_m2                23465 non-null float64\n",
      "kitchen_area_m2               23465 non-null float64\n",
      "ceiling_height_m              14384 non-null float64\n",
      "balcony_number                12031 non-null float64\n",
      "floor                         23465 non-null int64\n",
      "floors_number_in_house        23380 non-null float64\n",
      "is_apartment                  2728 non-null object\n",
      "is_studio                     23465 non-null bool\n",
      "is_open_plan                  23465 non-null bool\n",
      "first_day_exposition          23465 non-null object\n",
      "days_exposition               20305 non-null float64\n",
      "total_images                  23465 non-null int64\n",
      "city_center_distance_m        18016 non-null float64\n",
      "parks_numbers_within_3km      18017 non-null float64\n",
      "park_nearest_distance_m       8008 non-null float64\n",
      "ponds_numbers_within_3km      18017 non-null float64\n",
      "pond_nearest_distance_m       9029 non-null float64\n",
      "airport_nearest_distance_m    17993 non-null float64\n",
      "dtypes: bool(2), float64(14), int64(3), object(3)\n",
      "memory usage: 3.8+ MB\n"
     ]
    }
   ],
   "source": [
    "df.info()"
   ]
  },
  {
   "cell_type": "markdown",
   "metadata": {},
   "source": [
    "### is_apartment\n",
    "\n",
    "Предположим, что пропуски возникли из-за того, что владельцы \"обычных\" квартир решили оставить данное поле незаполненным. Кроме того, это вполне вписывается в реалии рынка недвижимости. Объем предлоения апартаментов остается незначительным: по оценке агенства \"Метриум\", на этот класс жилья пришлось всего 8% от общего числа сделок в 2019 году."
   ]
  },
  {
   "cell_type": "code",
   "execution_count": 19,
   "metadata": {},
   "outputs": [
    {
     "data": {
      "text/plain": [
       "array([nan, False, True], dtype=object)"
      ]
     },
     "execution_count": 19,
     "metadata": {},
     "output_type": "execute_result"
    }
   ],
   "source": [
    "df.is_apartment.unique()"
   ]
  },
  {
   "cell_type": "code",
   "execution_count": 20,
   "metadata": {},
   "outputs": [
    {
     "data": {
      "text/plain": [
       "20737"
      ]
     },
     "execution_count": 20,
     "metadata": {},
     "output_type": "execute_result"
    }
   ],
   "source": [
    "df.is_apartment.isnull().sum()"
   ]
  },
  {
   "cell_type": "code",
   "execution_count": 21,
   "metadata": {},
   "outputs": [
    {
     "data": {
      "text/plain": [
       "0"
      ]
     },
     "execution_count": 21,
     "metadata": {},
     "output_type": "execute_result"
    }
   ],
   "source": [
    "df.is_apartment = df.is_apartment.fillna('False')\n",
    "df.is_apartment.isnull().sum()"
   ]
  },
  {
   "cell_type": "markdown",
   "metadata": {},
   "source": [
    "### balcony_number, parks_numbers_within_3km, ponds_numbers_within_3km\n",
    "\n",
    "Поступим аналогичным образом и с данными столбцами - если значения в них отсутствуют, то, скорее всего, указывать было нечего"
   ]
  },
  {
   "cell_type": "code",
   "execution_count": 22,
   "metadata": {},
   "outputs": [
    {
     "name": "stdout",
     "output_type": "stream",
     "text": [
      "[nan  2.  0.  1.  5.  4.  3.]\n",
      "[ 1.  0.  2. nan  3.]\n",
      "[ 2.  0.  3.  1. nan]\n"
     ]
    }
   ],
   "source": [
    "print(df['balcony_number'].unique())\n",
    "print(df['parks_numbers_within_3km'].unique())\n",
    "print(df['ponds_numbers_within_3km'].unique())"
   ]
  },
  {
   "cell_type": "code",
   "execution_count": 23,
   "metadata": {},
   "outputs": [],
   "source": [
    "df['balcony_number'] = df['balcony_number'].fillna(0)\n",
    "df['parks_numbers_within_3km'] = df['parks_numbers_within_3km'].fillna(0)\n",
    "df['ponds_numbers_within_3km'] = df['ponds_numbers_within_3km'].fillna(0)"
   ]
  },
  {
   "cell_type": "markdown",
   "metadata": {},
   "source": [
    "### rooms_number\n",
    "\n",
    "Присутствуют квартиры с кол-вом комнат равным нулю - надо разобраться"
   ]
  },
  {
   "cell_type": "code",
   "execution_count": 24,
   "metadata": {},
   "outputs": [
    {
     "name": "stdout",
     "output_type": "stream",
     "text": [
      "Кол-во квартир, где число комнат равно нулю: 180\n",
      "Кол-во квартир-студий, где число комнат равно нулю: 126\n"
     ]
    }
   ],
   "source": [
    "print('Кол-во квартир, где число комнат равно нулю: {}'.format(df[df['rooms_number'] == 0]['rooms_number'].count()))\n",
    "print('Кол-во квартир-студий, где число комнат равно нулю: {}'\n",
    "      .format(df[(df['rooms_number'] == 0) & (df['is_studio'] == True)]['rooms_number'].count()))"
   ]
  },
  {
   "cell_type": "code",
   "execution_count": 25,
   "metadata": {},
   "outputs": [
    {
     "name": "stdout",
     "output_type": "stream",
     "text": [
      "Доля \"нулевых\" квартир: 0.77%\n"
     ]
    }
   ],
   "source": [
    "# Доля комнат с нулевым кол-вом квартир небольшая, но удалять не хочется \n",
    "\n",
    "print('Доля \"нулевых\" квартир: {:.2%}'.format(df[df['rooms_number'] == 0]['rooms_number'].count()/df.shape[0]))"
   ]
  },
  {
   "cell_type": "code",
   "execution_count": 26,
   "metadata": {
    "scrolled": true
   },
   "outputs": [
    {
     "data": {
      "text/plain": [
       "<matplotlib.axes._subplots.AxesSubplot at 0x7f9ec9c13b50>"
      ]
     },
     "execution_count": 26,
     "metadata": {},
     "output_type": "execute_result"
    },
    {
     "data": {
      "image/png": "[encoded data removed]",
      "text/plain": [
       "<Figure size 432x288 with 1 Axes>"
      ]
     },
     "metadata": {
      "needs_background": "light"
     },
     "output_type": "display_data"
    }
   ],
   "source": [
    "for_hist = df.query('rooms_number == 0')\n",
    "for_hist2 = df.query('rooms_number == 1')\n",
    "\n",
    "for_hist2['total_area_m2'].hist(bins=100, range=(0, 100))\n",
    "for_hist['total_area_m2'].hist(bins=100, range=(0, 100))"
   ]
  },
  {
   "cell_type": "code",
   "execution_count": 27,
   "metadata": {
    "scrolled": true
   },
   "outputs": [
    {
     "name": "stdout",
     "output_type": "stream",
     "text": [
      "Медиана 0 комнатной квартиры:  26.165\n",
      "Медиана 1 комнатной квартиры:  36.6\n"
     ]
    }
   ],
   "source": [
    "<div style=\"border:solid orange 2px; padding: 20px\"> <h1 style=\"color:orange; margin-bottom:20px\">Комментарий наставника</h1>\n",
    "\n",
    "Не забывай подписывать оси на графиках и сам график, иначе не залазя в код абсолютно не понятно, что изображеноprint('Медиана 0 комнатной квартиры: ', df[df['rooms_number'] == 0]['total_area_m2'].median())\n",
    "print('Медиана 1 комнатной квартиры: ', df[df['rooms_number'] == 1]['total_area_m2'].median())"
   ]
  },
  {
   "cell_type": "code",
   "execution_count": 28,
   "metadata": {
    "scrolled": false
   },
   "outputs": [
    {
     "data": {
      "text/plain": [
       "82"
      ]
     },
     "execution_count": 28,
     "metadata": {},
     "output_type": "execute_result"
    }
   ],
   "source": [
    "# Число подобных квартир вне Санк-Петербурга\n",
    "\n",
    "for_hist.query('locality_name != \"санкт-петербург\"')['locality_name'].count()"
   ]
  },
  {
   "cell_type": "code",
   "execution_count": 29,
   "metadata": {},
   "outputs": [
    {
     "data": {
      "text/plain": [
       "6"
      ]
     },
     "execution_count": 29,
     "metadata": {},
     "output_type": "execute_result"
    }
   ],
   "source": [
    "# Число предполагаемых деревенских домов вне Санк-Петербурга\n",
    "\n",
    "for_hist[(for_hist['locality_name'] != \"санкт-петербург\") & (for_hist['floor'] == 1)]['locality_name'].count()"
   ]
  },
  {
   "cell_type": "markdown",
   "metadata": {},
   "source": [
    "Площадь данных квартир действительно в среднем меньше, чем однушек. Большая часть их них точно относится к студиям, а остальные могут представлять собой деревенские дома. Пока оставим эти записи"
   ]
  },
  {
   "cell_type": "markdown",
   "metadata": {},
   "source": [
    "### floors_number_in_house"
   ]
  },
  {
   "cell_type": "code",
   "execution_count": 30,
   "metadata": {},
   "outputs": [
    {
     "name": "stdout",
     "output_type": "stream",
     "text": [
      "Доля \"нулевых\" квартир: 0.36%\n"
     ]
    }
   ],
   "source": [
    "# Их мало - удаляем\n",
    "\n",
    "print('Доля \"нулевых\" квартир: {:.2%}'.format(df.floors_number_in_house.isnull().sum()/df.shape[0]))"
   ]
  },
  {
   "cell_type": "code",
   "execution_count": 31,
   "metadata": {},
   "outputs": [
    {
     "data": {
      "text/plain": [
       "0"
      ]
     },
     "execution_count": 31,
     "metadata": {},
     "output_type": "execute_result"
    }
   ],
   "source": [
    "df.dropna(subset = ['floors_number_in_house'], inplace = True)\n",
    "df.floors_number_in_house.isnull().sum()"
   ]
  },
  {
   "cell_type": "markdown",
   "metadata": {},
   "source": [
    "### ceiling_height_m"
   ]
  },
  {
   "cell_type": "code",
   "execution_count": 32,
   "metadata": {},
   "outputs": [
    {
     "data": {
      "text/plain": [
       "<matplotlib.axes._subplots.AxesSubplot at 0x7f9ec907be10>"
      ]
     },
     "execution_count": 32,
     "metadata": {},
     "output_type": "execute_result"
    },
    {
     "data": {
      "image/png": "[encoded data removed]",
      "text/plain": [
       "<Figure size 432x288 with 1 Axes>"
      ]
     },
     "metadata": {
      "needs_background": "light"
     },
     "output_type": "display_data"
    }
   ],
   "source": [
    "df['ceiling_height_m'].hist(bins=100, range=(1.5, 6))"
   ]
  },
  {
   "cell_type": "code",
   "execution_count": 33,
   "metadata": {},
   "outputs": [],
   "source": [
    "# Заменяем на медианные значения\n",
    "\n",
    "df.ceiling_height_m = df.ceiling_height_m.fillna(df.ceiling_height_m.median())"
   ]
  },
  {
   "cell_type": "markdown",
   "metadata": {},
   "source": [
    "### days_exposition\n",
    "\n",
    "Нам нужно анализировать среднее время продажи квартиры, а значит строки, где отсутствует информация о \"сколько дней было размещено объявление (от публикации до снятия)\", нам не нужны. Но их 13% от выборки. Пока оставим как есть.\n",
    "\n",
    "Схожая ситуация и с **city_center_distance_m**: пропущенные значения бесполезны, но их еще больше. Пересечений почти нет. Пока оставим. Будем удалять для точечных расчетов по необходимости - потеря такого объема данных может повлиять на общую картину."
   ]
  },
  {
   "cell_type": "code",
   "execution_count": 34,
   "metadata": {
    "scrolled": true
   },
   "outputs": [
    {
     "name": "stdout",
     "output_type": "stream",
     "text": [
      "Доля пропусков в столбце: 13.48%\n",
      "Доля пропусков в столбце: 23.26%\n"
     ]
    }
   ],
   "source": [
    "print('Доля пропусков в столбце: {:.2%}'.format(df.days_exposition.isnull().sum()/df.shape[0]))\n",
    "print('Доля пропусков в столбце: {:.2%}'.format(df.city_center_distance_m.isnull().sum()/df.shape[0]))"
   ]
  },
  {
   "cell_type": "code",
   "execution_count": 35,
   "metadata": {},
   "outputs": [
    {
     "name": "stdout",
     "output_type": "stream",
     "text": [
      "Кол-во пропусков в столбце days_exposition: 3151\n",
      "Кол-во пропусков в столбце city_center_distance_m: 5439\n"
     ]
    },
    {
     "data": {
      "text/plain": [
       "860"
      ]
     },
     "execution_count": 35,
     "metadata": {},
     "output_type": "execute_result"
    }
   ],
   "source": [
    "print('Кол-во пропусков в столбце days_exposition: {}'.format(df.days_exposition.isnull().sum()))\n",
    "print('Кол-во пропусков в столбце city_center_distance_m: {}'.format(df.city_center_distance_m.isnull().sum()))\n",
    "df[(df['days_exposition'].isnull()) & (df['city_center_distance_m'].isnull())]['locality_name'].count()"
   ]
  },
  {
   "cell_type": "markdown",
   "metadata": {},
   "source": [
    "### Изменим типы данных там где необходимо"
   ]
  },
  {
   "cell_type": "code",
   "execution_count": 36,
   "metadata": {},
   "outputs": [],
   "source": [
    "# Менять float64 в столбцах, где указаны метры не будем - точность понадобится для будущих расчетов\n",
    "\n",
    "df['balcony_number'] = df['balcony_number'].astype('int')\n",
    "df['floors_number_in_house'] = df['floors_number_in_house'].astype('int')\n",
    "\n",
    "# Для операций с булевыми значениями надо привести их к этому типу везде\n",
    "\n",
    "df['is_apartment'] = df['is_apartment'].astype('bool')"
   ]
  },
  {
   "cell_type": "code",
   "execution_count": 37,
   "metadata": {
    "scrolled": false
   },
   "outputs": [
    {
     "name": "stdout",
     "output_type": "stream",
     "text": [
      "<class 'pandas.core.frame.DataFrame'>\n",
      "Int64Index: 23380 entries, 0 to 23698\n",
      "Data columns (total 22 columns):\n",
      "locality_name                 23380 non-null object\n",
      "rooms_number                  23380 non-null int64\n",
      "last_price                    23380 non-null float64\n",
      "total_area_m2                 23380 non-null float64\n",
      "living_area_m2                23380 non-null float64\n",
      "kitchen_area_m2               23380 non-null float64\n",
      "ceiling_height_m              23380 non-null float64\n",
      "balcony_number                23380 non-null int64\n",
      "floor                         23380 non-null int64\n",
      "floors_number_in_house        23380 non-null int64\n",
      "is_apartment                  23380 non-null bool\n",
      "is_studio                     23380 non-null bool\n",
      "is_open_plan                  23380 non-null bool\n",
      "first_day_exposition          23380 non-null object\n",
      "days_exposition               20229 non-null float64\n",
      "total_images                  23380 non-null int64\n",
      "city_center_distance_m        17941 non-null float64\n",
      "parks_numbers_within_3km      23380 non-null float64\n",
      "park_nearest_distance_m       7974 non-null float64\n",
      "ponds_numbers_within_3km      23380 non-null float64\n",
      "pond_nearest_distance_m       8980 non-null float64\n",
      "airport_nearest_distance_m    17918 non-null float64\n",
      "dtypes: bool(3), float64(12), int64(5), object(2)\n",
      "memory usage: 3.6+ MB\n"
     ]
    }
   ],
   "source": [
    "df.info()"
   ]
  },
  {
   "cell_type": "markdown",
   "metadata": {},
   "source": [
    "## Шаг 3. Посчитаем и добавим в таблицу новые признаки <a id='3-bullet'></a>"
   ]
  },
  {
   "cell_type": "code",
   "execution_count": 38,
   "metadata": {},
   "outputs": [],
   "source": [
    "# Добавим цену квадратного метра\n",
    "\n",
    "df['price_per_m2'] = round(df['last_price'] / df['total_area_m2'], 2)"
   ]
  },
  {
   "cell_type": "code",
   "execution_count": 39,
   "metadata": {},
   "outputs": [],
   "source": [
    "# Добавим день недели, месяц и год публикации объявления\n",
    "\n",
    "df['first_day_exposition'] = pd.to_datetime(df['first_day_exposition'], format='%Y-%m-%dT%H:%M:%S')\n",
    "df['week_day'] = df['first_day_exposition'].dt.day_name()\n",
    "df['month'] = df['first_day_exposition'].dt.month_name()\n",
    "df['year'] = df['first_day_exposition'].dt.year"
   ]
  },
  {
   "cell_type": "code",
   "execution_count": 40,
   "metadata": {},
   "outputs": [],
   "source": [
    "# Добавим этаж квартиры; варианты — первый, последний, другой;\n",
    "\n",
    "def floor_category(row):\n",
    "    if row['floor'] == 1:\n",
    "        return 'первый'\n",
    "    elif row['floor'] == row['floors_number_in_house']:\n",
    "        return 'последний'\n",
    "    else:\n",
    "        return 'другой'\n",
    "    \n",
    "df['floor_category'] = df.apply(floor_category, axis=1)"
   ]
  },
  {
   "cell_type": "code",
   "execution_count": 41,
   "metadata": {},
   "outputs": [],
   "source": [
    "# Добавим соотношение жилой и общей площади, а также отношение площади кухни к общей\n",
    "\n",
    "df['total_living_ratio'] = df['living_area_m2'] / df['total_area_m2']\n",
    "df['total_kitchen_ratio'] = df['kitchen_area_m2'] / df['total_area_m2']"
   ]
  },
  {
   "cell_type": "code",
   "execution_count": 42,
   "metadata": {},
   "outputs": [
    {
     "data": {
      "text/html": [
       "<div>\n",
       "<style scoped>\n",
       "    .dataframe tbody tr th:only-of-type {\n",
       "        vertical-align: middle;\n",
       "    }\n",
       "\n",
       "    .dataframe tbody tr th {\n",
       "        vertical-align: top;\n",
       "    }\n",
       "\n",
       "    .dataframe thead th {\n",
       "        text-align: right;\n",
       "    }\n",
       "</style>\n",
       "<table border=\"1\" class=\"dataframe\">\n",
       "  <thead>\n",
       "    <tr style=\"text-align: right;\">\n",
       "      <th></th>\n",
       "      <th>locality_name</th>\n",
       "      <th>rooms_number</th>\n",
       "      <th>last_price</th>\n",
       "      <th>total_area_m2</th>\n",
       "      <th>living_area_m2</th>\n",
       "      <th>kitchen_area_m2</th>\n",
       "      <th>ceiling_height_m</th>\n",
       "      <th>balcony_number</th>\n",
       "      <th>floor</th>\n",
       "      <th>floors_number_in_house</th>\n",
       "      <th>is_apartment</th>\n",
       "      <th>is_studio</th>\n",
       "      <th>is_open_plan</th>\n",
       "      <th>first_day_exposition</th>\n",
       "      <th>days_exposition</th>\n",
       "      <th>total_images</th>\n",
       "      <th>city_center_distance_m</th>\n",
       "      <th>parks_numbers_within_3km</th>\n",
       "      <th>park_nearest_distance_m</th>\n",
       "      <th>ponds_numbers_within_3km</th>\n",
       "      <th>pond_nearest_distance_m</th>\n",
       "      <th>airport_nearest_distance_m</th>\n",
       "      <th>price_per_m2</th>\n",
       "      <th>week_day</th>\n",
       "      <th>month</th>\n",
       "      <th>year</th>\n",
       "      <th>floor_category</th>\n",
       "      <th>total_living_ratio</th>\n",
       "      <th>total_kitchen_ratio</th>\n",
       "    </tr>\n",
       "  </thead>\n",
       "  <tbody>\n",
       "    <tr>\n",
       "      <td>0</td>\n",
       "      <td>санкт-петербург</td>\n",
       "      <td>3</td>\n",
       "      <td>13000000.0</td>\n",
       "      <td>108.0</td>\n",
       "      <td>51.00</td>\n",
       "      <td>25.00</td>\n",
       "      <td>2.70</td>\n",
       "      <td>0</td>\n",
       "      <td>8</td>\n",
       "      <td>16</td>\n",
       "      <td>True</td>\n",
       "      <td>False</td>\n",
       "      <td>False</td>\n",
       "      <td>2019-03-07</td>\n",
       "      <td>NaN</td>\n",
       "      <td>20</td>\n",
       "      <td>16028.0</td>\n",
       "      <td>1.0</td>\n",
       "      <td>482.0</td>\n",
       "      <td>2.0</td>\n",
       "      <td>755.0</td>\n",
       "      <td>18863.0</td>\n",
       "      <td>120370.37</td>\n",
       "      <td>Thursday</td>\n",
       "      <td>March</td>\n",
       "      <td>2019</td>\n",
       "      <td>другой</td>\n",
       "      <td>0.472222</td>\n",
       "      <td>0.231481</td>\n",
       "    </tr>\n",
       "    <tr>\n",
       "      <td>1</td>\n",
       "      <td>поселок шушары</td>\n",
       "      <td>1</td>\n",
       "      <td>3350000.0</td>\n",
       "      <td>40.4</td>\n",
       "      <td>18.60</td>\n",
       "      <td>11.00</td>\n",
       "      <td>2.65</td>\n",
       "      <td>2</td>\n",
       "      <td>1</td>\n",
       "      <td>11</td>\n",
       "      <td>True</td>\n",
       "      <td>False</td>\n",
       "      <td>False</td>\n",
       "      <td>2018-12-04</td>\n",
       "      <td>81.0</td>\n",
       "      <td>7</td>\n",
       "      <td>18603.0</td>\n",
       "      <td>0.0</td>\n",
       "      <td>NaN</td>\n",
       "      <td>0.0</td>\n",
       "      <td>NaN</td>\n",
       "      <td>12817.0</td>\n",
       "      <td>82920.79</td>\n",
       "      <td>Tuesday</td>\n",
       "      <td>December</td>\n",
       "      <td>2018</td>\n",
       "      <td>первый</td>\n",
       "      <td>0.460396</td>\n",
       "      <td>0.272277</td>\n",
       "    </tr>\n",
       "    <tr>\n",
       "      <td>2</td>\n",
       "      <td>санкт-петербург</td>\n",
       "      <td>2</td>\n",
       "      <td>5196000.0</td>\n",
       "      <td>56.0</td>\n",
       "      <td>34.30</td>\n",
       "      <td>8.30</td>\n",
       "      <td>2.65</td>\n",
       "      <td>0</td>\n",
       "      <td>4</td>\n",
       "      <td>5</td>\n",
       "      <td>True</td>\n",
       "      <td>False</td>\n",
       "      <td>False</td>\n",
       "      <td>2015-08-20</td>\n",
       "      <td>558.0</td>\n",
       "      <td>10</td>\n",
       "      <td>13933.0</td>\n",
       "      <td>1.0</td>\n",
       "      <td>90.0</td>\n",
       "      <td>2.0</td>\n",
       "      <td>574.0</td>\n",
       "      <td>21741.0</td>\n",
       "      <td>92785.71</td>\n",
       "      <td>Thursday</td>\n",
       "      <td>August</td>\n",
       "      <td>2015</td>\n",
       "      <td>другой</td>\n",
       "      <td>0.612500</td>\n",
       "      <td>0.148214</td>\n",
       "    </tr>\n",
       "    <tr>\n",
       "      <td>3</td>\n",
       "      <td>санкт-петербург</td>\n",
       "      <td>3</td>\n",
       "      <td>64900000.0</td>\n",
       "      <td>159.0</td>\n",
       "      <td>89.04</td>\n",
       "      <td>27.03</td>\n",
       "      <td>2.65</td>\n",
       "      <td>0</td>\n",
       "      <td>9</td>\n",
       "      <td>14</td>\n",
       "      <td>True</td>\n",
       "      <td>False</td>\n",
       "      <td>False</td>\n",
       "      <td>2015-07-24</td>\n",
       "      <td>424.0</td>\n",
       "      <td>0</td>\n",
       "      <td>6800.0</td>\n",
       "      <td>2.0</td>\n",
       "      <td>84.0</td>\n",
       "      <td>3.0</td>\n",
       "      <td>234.0</td>\n",
       "      <td>28098.0</td>\n",
       "      <td>408176.10</td>\n",
       "      <td>Friday</td>\n",
       "      <td>July</td>\n",
       "      <td>2015</td>\n",
       "      <td>другой</td>\n",
       "      <td>0.560000</td>\n",
       "      <td>0.170000</td>\n",
       "    </tr>\n",
       "    <tr>\n",
       "      <td>4</td>\n",
       "      <td>санкт-петербург</td>\n",
       "      <td>2</td>\n",
       "      <td>10000000.0</td>\n",
       "      <td>100.0</td>\n",
       "      <td>32.00</td>\n",
       "      <td>41.00</td>\n",
       "      <td>3.03</td>\n",
       "      <td>0</td>\n",
       "      <td>13</td>\n",
       "      <td>14</td>\n",
       "      <td>True</td>\n",
       "      <td>False</td>\n",
       "      <td>False</td>\n",
       "      <td>2018-06-19</td>\n",
       "      <td>121.0</td>\n",
       "      <td>2</td>\n",
       "      <td>8098.0</td>\n",
       "      <td>2.0</td>\n",
       "      <td>112.0</td>\n",
       "      <td>1.0</td>\n",
       "      <td>48.0</td>\n",
       "      <td>31856.0</td>\n",
       "      <td>100000.00</td>\n",
       "      <td>Tuesday</td>\n",
       "      <td>June</td>\n",
       "      <td>2018</td>\n",
       "      <td>другой</td>\n",
       "      <td>0.320000</td>\n",
       "      <td>0.410000</td>\n",
       "    </tr>\n",
       "  </tbody>\n",
       "</table>\n",
       "</div>"
      ],
      "text/plain": [
       "     locality_name  rooms_number  last_price  total_area_m2  living_area_m2  \\\n",
       "0  санкт-петербург             3  13000000.0          108.0           51.00   \n",
       "1   поселок шушары             1   3350000.0           40.4           18.60   \n",
       "2  санкт-петербург             2   5196000.0           56.0           34.30   \n",
       "3  санкт-петербург             3  64900000.0          159.0           89.04   \n",
       "4  санкт-петербург             2  10000000.0          100.0           32.00   \n",
       "\n",
       "   kitchen_area_m2  ceiling_height_m  balcony_number  floor  \\\n",
       "0            25.00              2.70               0      8   \n",
       "1            11.00              2.65               2      1   \n",
       "2             8.30              2.65               0      4   \n",
       "3            27.03              2.65               0      9   \n",
       "4            41.00              3.03               0     13   \n",
       "\n",
       "   floors_number_in_house  is_apartment  is_studio  is_open_plan  \\\n",
       "0                      16          True      False         False   \n",
       "1                      11          True      False         False   \n",
       "2                       5          True      False         False   \n",
       "3                      14          True      False         False   \n",
       "4                      14          True      False         False   \n",
       "\n",
       "  first_day_exposition  days_exposition  total_images  city_center_distance_m  \\\n",
       "0           2019-03-07              NaN            20                 16028.0   \n",
       "1           2018-12-04             81.0             7                 18603.0   \n",
       "2           2015-08-20            558.0            10                 13933.0   \n",
       "3           2015-07-24            424.0             0                  6800.0   \n",
       "4           2018-06-19            121.0             2                  8098.0   \n",
       "\n",
       "   parks_numbers_within_3km  park_nearest_distance_m  \\\n",
       "0                       1.0                    482.0   \n",
       "1                       0.0                      NaN   \n",
       "2                       1.0                     90.0   \n",
       "3                       2.0                     84.0   \n",
       "4                       2.0                    112.0   \n",
       "\n",
       "   ponds_numbers_within_3km  pond_nearest_distance_m  \\\n",
       "0                       2.0                    755.0   \n",
       "1                       0.0                      NaN   \n",
       "2                       2.0                    574.0   \n",
       "3                       3.0                    234.0   \n",
       "4                       1.0                     48.0   \n",
       "\n",
       "   airport_nearest_distance_m  price_per_m2  week_day     month  year  \\\n",
       "0                     18863.0     120370.37  Thursday     March  2019   \n",
       "1                     12817.0      82920.79   Tuesday  December  2018   \n",
       "2                     21741.0      92785.71  Thursday    August  2015   \n",
       "3                     28098.0     408176.10    Friday      July  2015   \n",
       "4                     31856.0     100000.00   Tuesday      June  2018   \n",
       "\n",
       "  floor_category  total_living_ratio  total_kitchen_ratio  \n",
       "0         другой            0.472222             0.231481  \n",
       "1         первый            0.460396             0.272277  \n",
       "2         другой            0.612500             0.148214  \n",
       "3         другой            0.560000             0.170000  \n",
       "4         другой            0.320000             0.410000  "
      ]
     },
     "execution_count": 42,
     "metadata": {},
     "output_type": "execute_result"
    }
   ],
   "source": [
    "df.head()"
   ]
  },
  {
   "cell_type": "markdown",
   "metadata": {},
   "source": [
    "## Шаг 4. Проведем исследовательский анализ данных <a id='4-bullet'></a>"
   ]
  },
  {
   "cell_type": "markdown",
   "metadata": {},
   "source": [
    "**Изучим следующие параметры: площадь, цена, число комнат, высота потолков. Построим гистограммы для каждого параметра.**"
   ]
  },
  {
   "cell_type": "code",
   "execution_count": 43,
   "metadata": {
    "scrolled": true
   },
   "outputs": [
    {
     "name": "stdout",
     "output_type": "stream",
     "text": [
      "13.0\n",
      "900.0\n",
      "Доля редких значений: 0.96%\n"
     ]
    },
    {
     "data": {
      "text/plain": [
       "<matplotlib.axes._subplots.AxesSubplot at 0x7f9ec99a5c10>"
      ]
     },
     "execution_count": 43,
     "metadata": {},
     "output_type": "execute_result"
    },
    {
     "data": {
      "image/png": "[encoded data removed]",
      "text/plain": [
       "<Figure size 432x288 with 1 Axes>"
      ]
     },
     "metadata": {
      "needs_background": "light"
     },
     "output_type": "display_data"
    }
   ],
   "source": [
    "# Общая площадь квартиры\n",
    "\n",
    "print(df.total_area_m2.min())\n",
    "print(df.total_area_m2.max())\n",
    "print('Доля редких значений: {:.2%}'.format(df.query('total_area_m2 > 200')['total_area_m2'].count()/df.shape[0]))\n",
    "\n",
    "df.total_area_m2.plot(kind='hist', label='Общая площадь квартиры', legend=True, bins=100)"
   ]
  },
  {
   "cell_type": "code",
   "execution_count": 44,
   "metadata": {},
   "outputs": [
    {
     "data": {
      "text/plain": [
       "<matplotlib.axes._subplots.AxesSubplot at 0x7f9ec8a21650>"
      ]
     },
     "execution_count": 44,
     "metadata": {},
     "output_type": "execute_result"
    },
    {
     "data": {
      "image/png": "[encoded data removed]",
      "text/plain": [
       "<Figure size 432x288 with 1 Axes>"
      ]
     },
     "metadata": {
      "needs_background": "light"
     },
     "output_type": "display_data"
    }
   ],
   "source": [
    "# Уберем слишком редкие значения\n",
    "\n",
    "df_new = df.query('total_area_m2 < 200')\n",
    "df_new.total_area_m2.plot(kind='hist', label='Общая площадь квартиры', legend=True, bins=100)"
   ]
  },
  {
   "cell_type": "code",
   "execution_count": 45,
   "metadata": {
    "scrolled": false
   },
   "outputs": [
    {
     "name": "stdout",
     "output_type": "stream",
     "text": [
      "12190.0\n",
      "330000000.0\n"
     ]
    },
    {
     "data": {
      "text/plain": [
       "<matplotlib.axes._subplots.AxesSubplot at 0x7f9ec88b8fd0>"
      ]
     },
     "execution_count": 45,
     "metadata": {},
     "output_type": "execute_result"
    },
    {
     "data": {
      "image/png": "[encoded data removed]",
      "text/plain": [
       "<Figure size 432x288 with 1 Axes>"
      ]
     },
     "metadata": {
      "needs_background": "light"
     },
     "output_type": "display_data"
    }
   ],
   "source": [
    "# Стоимость квартиры\n",
    "\n",
    "print(df_new.last_price.min())\n",
    "print(df_new.last_price.max())\n",
    "\n",
    "df_new.last_price.plot(kind='hist', label='Стоимость квартиры', rot=30, legend=True, bins=100)"
   ]
  },
  {
   "cell_type": "code",
   "execution_count": 46,
   "metadata": {
    "scrolled": true
   },
   "outputs": [
    {
     "name": "stdout",
     "output_type": "stream",
     "text": [
      "Доля редких значений: 0.36%\n"
     ]
    },
    {
     "data": {
      "text/plain": [
       "<matplotlib.axes._subplots.AxesSubplot at 0x7f9ec874f5d0>"
      ]
     },
     "execution_count": 46,
     "metadata": {},
     "output_type": "execute_result"
    },
    {
     "data": {
      "image/png": "[encoded data removed]",
      "text/plain": [
       "<Figure size 432x288 with 1 Axes>"
      ]
     },
     "metadata": {
      "needs_background": "light"
     },
     "output_type": "display_data"
    }
   ],
   "source": [
    "# Кол-во комнат\n",
    "\n",
    "print('Доля редких значений: {:.2%}'.format(df_new.query(' rooms_number > 5')['rooms_number'].count()/df.shape[0]))\n",
    "\n",
    "df_new.rooms_number.plot(kind='hist', label='Кол-во комнат', rot=30, legend=True)"
   ]
  },
  {
   "cell_type": "code",
   "execution_count": 47,
   "metadata": {},
   "outputs": [
    {
     "data": {
      "text/plain": [
       "<matplotlib.axes._subplots.AxesSubplot at 0x7f9ec86c4550>"
      ]
     },
     "execution_count": 47,
     "metadata": {},
     "output_type": "execute_result"
    },
    {
     "data": {
      "image/png": "[encoded data removed]",
      "text/plain": [
       "<Figure size 432x288 with 1 Axes>"
      ]
     },
     "metadata": {
      "needs_background": "light"
     },
     "output_type": "display_data"
    }
   ],
   "source": [
    "# Уберем лишние значения\n",
    "\n",
    "df_new = df_new.query('rooms_number < 6')\n",
    "\n",
    "df_new.rooms_number.plot(kind='hist', label='Кол-во комнат', rot=30, legend=True)"
   ]
  },
  {
   "cell_type": "code",
   "execution_count": 48,
   "metadata": {
    "scrolled": false
   },
   "outputs": [
    {
     "name": "stdout",
     "output_type": "stream",
     "text": [
      "1.0\n",
      "32.0\n",
      "Доля редких значений: 0.24%\n"
     ]
    },
    {
     "data": {
      "text/plain": [
       "<matplotlib.axes._subplots.AxesSubplot at 0x7f9ec85f1290>"
      ]
     },
     "execution_count": 48,
     "metadata": {},
     "output_type": "execute_result"
    },
    {
     "data": {
      "image/png": "[encoded data removed]",
      "text/plain": [
       "<Figure size 432x288 with 1 Axes>"
      ]
     },
     "metadata": {
      "needs_background": "light"
     },
     "output_type": "display_data"
    }
   ],
   "source": [
    "# высота потолков\n",
    "\n",
    "print(df_new.ceiling_height_m.min())\n",
    "print(df_new.ceiling_height_m.max())\n",
    "print('Доля редких значений: {:.2%}'\n",
    "      .format(df_new.query('2 < ceiling_height_m > 4')['ceiling_height_m'].count()/df.shape[0]))\n",
    "\n",
    "df_new.ceiling_height_m.plot(kind='hist', label='Высота потолков', rot=30, legend=True, bins=100)"
   ]
  },
  {
   "cell_type": "code",
   "execution_count": 49,
   "metadata": {
    "scrolled": true
   },
   "outputs": [
    {
     "data": {
      "text/plain": [
       "<matplotlib.axes._subplots.AxesSubplot at 0x7f9ec8457310>"
      ]
     },
     "execution_count": 49,
     "metadata": {},
     "output_type": "execute_result"
    },
    {
     "data": {
      "image/png": "[encoded data removed]",
      "text/plain": [
       "<Figure size 432x288 with 1 Axes>"
      ]
     },
     "metadata": {
      "needs_background": "light"
     },
     "output_type": "display_data"
    }
   ],
   "source": [
    "# Уберем лишние значения\n",
    "\n",
    "df_new = df_new.query('2 < ceiling_height_m < 4')\n",
    "\n",
    "df_new.ceiling_height_m.plot(kind='hist', label='Высота потолков', rot=30, legend=True)"
   ]
  },
  {
   "cell_type": "markdown",
   "metadata": {},
   "source": [
    "В изученных данных было большое число выбросов, которые мешали визуальному анализу, и явно могли негативно повлиять на будущие расчеты. Теперь графики стали более наглядными\n",
    "\n",
    "\n",
    "\n",
    "**Изучим время продажи квартиры. Опишим, сколько обычно занимает продажа. И ответим на вопрос \"когда можно считать, что продажи прошли очень быстро, а когда необычно долго?\"**"
   ]
  },
  {
   "cell_type": "code",
   "execution_count": 50,
   "metadata": {},
   "outputs": [
    {
     "name": "stdout",
     "output_type": "stream",
     "text": [
      "Кол-во пропусков в столбце days_exposition: 3045\n",
      "Кол-во пропусков в столбце days_exposition после удаления: 0\n",
      "\n",
      "Среднее время продажи квартиры: 179.50\n",
      "Медианное время продажи квартиры: 95.00\n",
      "\n",
      "count    19922.000000\n",
      "mean       179.499699\n",
      "std        218.315509\n",
      "min          1.000000\n",
      "25%         45.000000\n",
      "50%         95.000000\n",
      "75%        229.000000\n",
      "max       1580.000000\n",
      "Name: days_exposition, dtype: float64\n"
     ]
    },
    {
     "data": {
      "text/plain": [
       "<matplotlib.axes._subplots.AxesSubplot at 0x7f9ec8442190>"
      ]
     },
     "execution_count": 50,
     "metadata": {},
     "output_type": "execute_result"
    },
    {
     "data": {
      "image/png": "[encoded data removed]",
      "text/plain": [
       "<Figure size 432x288 with 1 Axes>"
      ]
     },
     "metadata": {
      "needs_background": "light"
     },
     "output_type": "display_data"
    }
   ],
   "source": [
    "# Вспомним, что у нас было большое число пропусков в данных, которые мы не стали сразу удалять\n",
    "# Создадим специальную выборку без пропусков для ответа на вопросы\n",
    "\n",
    "print('Кол-во пропусков в столбце days_exposition: {}'.format(df_new.days_exposition.isnull().sum()))\n",
    "\n",
    "df_days_expo = df_new.dropna(subset=['days_exposition'])\n",
    "print('Кол-во пропусков в столбце days_exposition после удаления: {}'.format(df_days_expo.days_exposition.isnull().sum()))\n",
    "print('')\n",
    "print('Среднее время продажи квартиры: {:.2f}'.format(df_days_expo.days_exposition.mean()))\n",
    "print('Медианное время продажи квартиры: {:.2f}'.format(df_days_expo.days_exposition.median()))\n",
    "print('')\n",
    "print(df_days_expo.days_exposition.describe())\n",
    "\n",
    "df_days_expo.days_exposition.hist(bins=100)"
   ]
  },
  {
   "cell_type": "markdown",
   "metadata": {},
   "source": [
    "В большинстве случаев квартиры пролдаются за 229 дней, что сходится с доступной статистикой: согласно данным \"Яндекс\", в 2018 году средний срок продажи квартиры в Санк-Петербурге составил 7,5 месяцев. Если верить Сбербанку, то средний срок продажи по городу составил 68 дней в первом полугодии 2019 года. \n",
    "\n",
    "Продажу можно считать очень быстрой если продавец уложился в 45 дней, а необычно долгой если объявление висело дольше двух лет"
   ]
  },
  {
   "cell_type": "markdown",
   "metadata": {},
   "source": [
    "#### Нас интересует - какие факторы больше всего влияют на стоимость квартиры. Зависит ли цена от квадратного метра, числа комнат, удалённости от центра? Зависимость цены от того, на каком этаже расположена квартира: первом, последнем или другом? Присутствует ли зависимость от даты размещения: дня недели, месяца и года?"
   ]
  },
  {
   "cell_type": "code",
   "execution_count": 51,
   "metadata": {},
   "outputs": [
    {
     "data": {
      "text/plain": [
       "array([[<matplotlib.axes._subplots.AxesSubplot object at 0x7f9ec83a3810>,\n",
       "        <matplotlib.axes._subplots.AxesSubplot object at 0x7f9ec81e4d50>,\n",
       "        <matplotlib.axes._subplots.AxesSubplot object at 0x7f9ec820ba10>,\n",
       "        <matplotlib.axes._subplots.AxesSubplot object at 0x7f9ec81c9d50>],\n",
       "       [<matplotlib.axes._subplots.AxesSubplot object at 0x7f9ec81809d0>,\n",
       "        <matplotlib.axes._subplots.AxesSubplot object at 0x7f9ec813fcd0>,\n",
       "        <matplotlib.axes._subplots.AxesSubplot object at 0x7f9ec80f69d0>,\n",
       "        <matplotlib.axes._subplots.AxesSubplot object at 0x7f9ec80b4210>],\n",
       "       [<matplotlib.axes._subplots.AxesSubplot object at 0x7f9ec80b4d10>,\n",
       "        <matplotlib.axes._subplots.AxesSubplot object at 0x7f9ec80756d0>,\n",
       "        <matplotlib.axes._subplots.AxesSubplot object at 0x7f9ec3fcba50>,\n",
       "        <matplotlib.axes._subplots.AxesSubplot object at 0x7f9ec3f89d90>],\n",
       "       [<matplotlib.axes._subplots.AxesSubplot object at 0x7f9ec3f41a90>,\n",
       "        <matplotlib.axes._subplots.AxesSubplot object at 0x7f9ec3f00dd0>,\n",
       "        <matplotlib.axes._subplots.AxesSubplot object at 0x7f9ec3f37ad0>,\n",
       "        <matplotlib.axes._subplots.AxesSubplot object at 0x7f9ec3ef5e10>]],\n",
       "      dtype=object)"
      ]
     },
     "execution_count": 51,
     "metadata": {},
     "output_type": "execute_result"
    },
    {
     "data": {
      "image/png": "[encoded data removed]",
      "text/plain": [
       "<Figure size 648x648 with 16 Axes>"
      ]
     },
     "metadata": {
      "needs_background": "light"
     },
     "output_type": "display_data"
    }
   ],
   "source": [
    "# Построим матрицу рассеяния\n",
    "\n",
    "pd.plotting.scatter_matrix(df_new[['last_price', 'total_area_m2', 'rooms_number', 'city_center_distance_m']], figsize=(9, 9))"
   ]
  },
  {
   "cell_type": "markdown",
   "metadata": {},
   "source": [
    "Результат ожидаемый: \n",
    "- чем больше квартира, тем дороже она стоит\n",
    "- чем больше комнат, тем она дороже, но есть любопытный нюанс: ценовой пик достигается на трехкомнатной квартире и при дальнейшем росте комнат стоимость жилья снижается. Квартиры с 1, 2 и 3 комнатами чаще находятся ближе к центру города, тогда как с 0, 4 и 5 комнатами дальше. Судя по всему, это также влияет на ценообразование\n",
    "- Чем ближе квартира находится к центру, тем дороже она стоит"
   ]
  },
  {
   "cell_type": "code",
   "execution_count": 52,
   "metadata": {
    "scrolled": false
   },
   "outputs": [
    {
     "data": {
      "text/plain": [
       "<matplotlib.axes._subplots.AxesSubplot at 0x7f9ec3ddf890>"
      ]
     },
     "execution_count": 52,
     "metadata": {},
     "output_type": "execute_result"
    },
    {
     "data": {
      "image/png": "[encoded data removed]",
      "text/plain": [
       "<Figure size 432x288 with 1 Axes>"
      ]
     },
     "metadata": {
      "needs_background": "light"
     },
     "output_type": "display_data"
    }
   ],
   "source": [
    "(df_new\n",
    "    .pivot_table(index='floor_category', values='last_price', aggfunc='median')\n",
    "    .plot(y='last_price', kind='bar')\n",
    ")"
   ]
  },
  {
   "cell_type": "markdown",
   "metadata": {},
   "source": [
    "Люди предпочитают не покупать квартиры на первых или последних этажах, что оказывает свое влияние на ценообразование:\n",
    "- квартиры на первом этаже самые дешевые\n",
    "- следом идет жилье на последнем этаже\n",
    "- самые дорогие квартиры находятся в промежутке\n",
    "\n",
    "На самом деле интересно посмотреть на разницу в стоимости квадратного метра (раз уж мы добавили такой столбец)"
   ]
  },
  {
   "cell_type": "code",
   "execution_count": 53,
   "metadata": {},
   "outputs": [
    {
     "data": {
      "text/html": [
       "<div>\n",
       "<style scoped>\n",
       "    .dataframe tbody tr th:only-of-type {\n",
       "        vertical-align: middle;\n",
       "    }\n",
       "\n",
       "    .dataframe tbody tr th {\n",
       "        vertical-align: top;\n",
       "    }\n",
       "\n",
       "    .dataframe thead th {\n",
       "        text-align: right;\n",
       "    }\n",
       "</style>\n",
       "<table border=\"1\" class=\"dataframe\">\n",
       "  <thead>\n",
       "    <tr style=\"text-align: right;\">\n",
       "      <th></th>\n",
       "      <th>locality_name</th>\n",
       "      <th>rooms_number</th>\n",
       "      <th>last_price</th>\n",
       "      <th>total_area_m2</th>\n",
       "      <th>living_area_m2</th>\n",
       "      <th>kitchen_area_m2</th>\n",
       "      <th>ceiling_height_m</th>\n",
       "      <th>balcony_number</th>\n",
       "      <th>floor</th>\n",
       "      <th>floors_number_in_house</th>\n",
       "      <th>is_apartment</th>\n",
       "      <th>is_studio</th>\n",
       "      <th>is_open_plan</th>\n",
       "      <th>first_day_exposition</th>\n",
       "      <th>days_exposition</th>\n",
       "      <th>total_images</th>\n",
       "      <th>city_center_distance_m</th>\n",
       "      <th>parks_numbers_within_3km</th>\n",
       "      <th>park_nearest_distance_m</th>\n",
       "      <th>ponds_numbers_within_3km</th>\n",
       "      <th>pond_nearest_distance_m</th>\n",
       "      <th>airport_nearest_distance_m</th>\n",
       "      <th>price_per_m2</th>\n",
       "      <th>week_day</th>\n",
       "      <th>month</th>\n",
       "      <th>year</th>\n",
       "      <th>floor_category</th>\n",
       "      <th>total_living_ratio</th>\n",
       "      <th>total_kitchen_ratio</th>\n",
       "    </tr>\n",
       "  </thead>\n",
       "  <tbody>\n",
       "    <tr>\n",
       "      <td>0</td>\n",
       "      <td>санкт-петербург</td>\n",
       "      <td>3</td>\n",
       "      <td>13000000.0</td>\n",
       "      <td>108.0</td>\n",
       "      <td>51.00</td>\n",
       "      <td>25.00</td>\n",
       "      <td>2.70</td>\n",
       "      <td>0</td>\n",
       "      <td>8</td>\n",
       "      <td>16</td>\n",
       "      <td>True</td>\n",
       "      <td>False</td>\n",
       "      <td>False</td>\n",
       "      <td>2019-03-07</td>\n",
       "      <td>NaN</td>\n",
       "      <td>20</td>\n",
       "      <td>16028.0</td>\n",
       "      <td>1.0</td>\n",
       "      <td>482.0</td>\n",
       "      <td>2.0</td>\n",
       "      <td>755.0</td>\n",
       "      <td>18863.0</td>\n",
       "      <td>120370.37</td>\n",
       "      <td>Thursday</td>\n",
       "      <td>March</td>\n",
       "      <td>2019</td>\n",
       "      <td>другой</td>\n",
       "      <td>0.472222</td>\n",
       "      <td>0.231481</td>\n",
       "    </tr>\n",
       "    <tr>\n",
       "      <td>1</td>\n",
       "      <td>поселок шушары</td>\n",
       "      <td>1</td>\n",
       "      <td>3350000.0</td>\n",
       "      <td>40.4</td>\n",
       "      <td>18.60</td>\n",
       "      <td>11.00</td>\n",
       "      <td>2.65</td>\n",
       "      <td>2</td>\n",
       "      <td>1</td>\n",
       "      <td>11</td>\n",
       "      <td>True</td>\n",
       "      <td>False</td>\n",
       "      <td>False</td>\n",
       "      <td>2018-12-04</td>\n",
       "      <td>81.0</td>\n",
       "      <td>7</td>\n",
       "      <td>18603.0</td>\n",
       "      <td>0.0</td>\n",
       "      <td>NaN</td>\n",
       "      <td>0.0</td>\n",
       "      <td>NaN</td>\n",
       "      <td>12817.0</td>\n",
       "      <td>82920.79</td>\n",
       "      <td>Tuesday</td>\n",
       "      <td>December</td>\n",
       "      <td>2018</td>\n",
       "      <td>первый</td>\n",
       "      <td>0.460396</td>\n",
       "      <td>0.272277</td>\n",
       "    </tr>\n",
       "    <tr>\n",
       "      <td>2</td>\n",
       "      <td>санкт-петербург</td>\n",
       "      <td>2</td>\n",
       "      <td>5196000.0</td>\n",
       "      <td>56.0</td>\n",
       "      <td>34.30</td>\n",
       "      <td>8.30</td>\n",
       "      <td>2.65</td>\n",
       "      <td>0</td>\n",
       "      <td>4</td>\n",
       "      <td>5</td>\n",
       "      <td>True</td>\n",
       "      <td>False</td>\n",
       "      <td>False</td>\n",
       "      <td>2015-08-20</td>\n",
       "      <td>558.0</td>\n",
       "      <td>10</td>\n",
       "      <td>13933.0</td>\n",
       "      <td>1.0</td>\n",
       "      <td>90.0</td>\n",
       "      <td>2.0</td>\n",
       "      <td>574.0</td>\n",
       "      <td>21741.0</td>\n",
       "      <td>92785.71</td>\n",
       "      <td>Thursday</td>\n",
       "      <td>August</td>\n",
       "      <td>2015</td>\n",
       "      <td>другой</td>\n",
       "      <td>0.612500</td>\n",
       "      <td>0.148214</td>\n",
       "    </tr>\n",
       "    <tr>\n",
       "      <td>3</td>\n",
       "      <td>санкт-петербург</td>\n",
       "      <td>3</td>\n",
       "      <td>64900000.0</td>\n",
       "      <td>159.0</td>\n",
       "      <td>89.04</td>\n",
       "      <td>27.03</td>\n",
       "      <td>2.65</td>\n",
       "      <td>0</td>\n",
       "      <td>9</td>\n",
       "      <td>14</td>\n",
       "      <td>True</td>\n",
       "      <td>False</td>\n",
       "      <td>False</td>\n",
       "      <td>2015-07-24</td>\n",
       "      <td>424.0</td>\n",
       "      <td>0</td>\n",
       "      <td>6800.0</td>\n",
       "      <td>2.0</td>\n",
       "      <td>84.0</td>\n",
       "      <td>3.0</td>\n",
       "      <td>234.0</td>\n",
       "      <td>28098.0</td>\n",
       "      <td>408176.10</td>\n",
       "      <td>Friday</td>\n",
       "      <td>July</td>\n",
       "      <td>2015</td>\n",
       "      <td>другой</td>\n",
       "      <td>0.560000</td>\n",
       "      <td>0.170000</td>\n",
       "    </tr>\n",
       "    <tr>\n",
       "      <td>4</td>\n",
       "      <td>санкт-петербург</td>\n",
       "      <td>2</td>\n",
       "      <td>10000000.0</td>\n",
       "      <td>100.0</td>\n",
       "      <td>32.00</td>\n",
       "      <td>41.00</td>\n",
       "      <td>3.03</td>\n",
       "      <td>0</td>\n",
       "      <td>13</td>\n",
       "      <td>14</td>\n",
       "      <td>True</td>\n",
       "      <td>False</td>\n",
       "      <td>False</td>\n",
       "      <td>2018-06-19</td>\n",
       "      <td>121.0</td>\n",
       "      <td>2</td>\n",
       "      <td>8098.0</td>\n",
       "      <td>2.0</td>\n",
       "      <td>112.0</td>\n",
       "      <td>1.0</td>\n",
       "      <td>48.0</td>\n",
       "      <td>31856.0</td>\n",
       "      <td>100000.00</td>\n",
       "      <td>Tuesday</td>\n",
       "      <td>June</td>\n",
       "      <td>2018</td>\n",
       "      <td>другой</td>\n",
       "      <td>0.320000</td>\n",
       "      <td>0.410000</td>\n",
       "    </tr>\n",
       "  </tbody>\n",
       "</table>\n",
       "</div>"
      ],
      "text/plain": [
       "     locality_name  rooms_number  last_price  total_area_m2  living_area_m2  \\\n",
       "0  санкт-петербург             3  13000000.0          108.0           51.00   \n",
       "1   поселок шушары             1   3350000.0           40.4           18.60   \n",
       "2  санкт-петербург             2   5196000.0           56.0           34.30   \n",
       "3  санкт-петербург             3  64900000.0          159.0           89.04   \n",
       "4  санкт-петербург             2  10000000.0          100.0           32.00   \n",
       "\n",
       "   kitchen_area_m2  ceiling_height_m  balcony_number  floor  \\\n",
       "0            25.00              2.70               0      8   \n",
       "1            11.00              2.65               2      1   \n",
       "2             8.30              2.65               0      4   \n",
       "3            27.03              2.65               0      9   \n",
       "4            41.00              3.03               0     13   \n",
       "\n",
       "   floors_number_in_house  is_apartment  is_studio  is_open_plan  \\\n",
       "0                      16          True      False         False   \n",
       "1                      11          True      False         False   \n",
       "2                       5          True      False         False   \n",
       "3                      14          True      False         False   \n",
       "4                      14          True      False         False   \n",
       "\n",
       "  first_day_exposition  days_exposition  total_images  city_center_distance_m  \\\n",
       "0           2019-03-07              NaN            20                 16028.0   \n",
       "1           2018-12-04             81.0             7                 18603.0   \n",
       "2           2015-08-20            558.0            10                 13933.0   \n",
       "3           2015-07-24            424.0             0                  6800.0   \n",
       "4           2018-06-19            121.0             2                  8098.0   \n",
       "\n",
       "   parks_numbers_within_3km  park_nearest_distance_m  \\\n",
       "0                       1.0                    482.0   \n",
       "1                       0.0                      NaN   \n",
       "2                       1.0                     90.0   \n",
       "3                       2.0                     84.0   \n",
       "4                       2.0                    112.0   \n",
       "\n",
       "   ponds_numbers_within_3km  pond_nearest_distance_m  \\\n",
       "0                       2.0                    755.0   \n",
       "1                       0.0                      NaN   \n",
       "2                       2.0                    574.0   \n",
       "3                       3.0                    234.0   \n",
       "4                       1.0                     48.0   \n",
       "\n",
       "   airport_nearest_distance_m  price_per_m2  week_day     month  year  \\\n",
       "0                     18863.0     120370.37  Thursday     March  2019   \n",
       "1                     12817.0      82920.79   Tuesday  December  2018   \n",
       "2                     21741.0      92785.71  Thursday    August  2015   \n",
       "3                     28098.0     408176.10    Friday      July  2015   \n",
       "4                     31856.0     100000.00   Tuesday      June  2018   \n",
       "\n",
       "  floor_category  total_living_ratio  total_kitchen_ratio  \n",
       "0         другой            0.472222             0.231481  \n",
       "1         первый            0.460396             0.272277  \n",
       "2         другой            0.612500             0.148214  \n",
       "3         другой            0.560000             0.170000  \n",
       "4         другой            0.320000             0.410000  "
      ]
     },
     "execution_count": 53,
     "metadata": {},
     "output_type": "execute_result"
    }
   ],
   "source": [
    "df_new.head()"
   ]
  },
  {
   "cell_type": "code",
   "execution_count": 54,
   "metadata": {
    "scrolled": true
   },
   "outputs": [
    {
     "data": {
      "text/html": [
       "<div>\n",
       "<style scoped>\n",
       "    .dataframe tbody tr th:only-of-type {\n",
       "        vertical-align: middle;\n",
       "    }\n",
       "\n",
       "    .dataframe tbody tr th {\n",
       "        vertical-align: top;\n",
       "    }\n",
       "\n",
       "    .dataframe thead th {\n",
       "        text-align: right;\n",
       "    }\n",
       "</style>\n",
       "<table border=\"1\" class=\"dataframe\">\n",
       "  <thead>\n",
       "    <tr style=\"text-align: right;\">\n",
       "      <th></th>\n",
       "      <th>price_per_m2</th>\n",
       "    </tr>\n",
       "    <tr>\n",
       "      <th>floor_category</th>\n",
       "      <th></th>\n",
       "    </tr>\n",
       "  </thead>\n",
       "  <tbody>\n",
       "    <tr>\n",
       "      <td>другой</td>\n",
       "      <td>98100.635</td>\n",
       "    </tr>\n",
       "    <tr>\n",
       "      <td>первый</td>\n",
       "      <td>81010.980</td>\n",
       "    </tr>\n",
       "    <tr>\n",
       "      <td>последний</td>\n",
       "      <td>87053.570</td>\n",
       "    </tr>\n",
       "  </tbody>\n",
       "</table>\n",
       "</div>"
      ],
      "text/plain": [
       "                price_per_m2\n",
       "floor_category              \n",
       "другой             98100.635\n",
       "первый             81010.980\n",
       "последний          87053.570"
      ]
     },
     "execution_count": 54,
     "metadata": {},
     "output_type": "execute_result"
    }
   ],
   "source": [
    "df_new.pivot_table(index='floor_category', values='price_per_m2', aggfunc='median')"
   ]
  },
  {
   "cell_type": "markdown",
   "metadata": {},
   "source": [
    "В среднем стоимость квадратного метр на первом этаже ниже \"промежуточного\" на 17 000 рублей - довольно существенная разница"
   ]
  },
  {
   "cell_type": "code",
   "execution_count": 55,
   "metadata": {},
   "outputs": [
    {
     "data": {
      "text/plain": [
       "(0, 220000)"
      ]
     },
     "execution_count": 55,
     "metadata": {},
     "output_type": "execute_result"
    },
    {
     "data": {
      "image/png": "[encoded data removed]",
      "text/plain": [
       "<Figure size 360x360 with 1 Axes>"
      ]
     },
     "metadata": {
      "needs_background": "light"
     },
     "output_type": "display_data"
    }
   ],
   "source": [
    "# Думаю, что заказчикам приятно смотреть на разные красивые графики - используем boxplot\n",
    "\n",
    "df.boxplot('price_per_m2', by='week_day', rot=30, figsize=(5,5)).set_ylim(0,220000)"
   ]
  },
  {
   "cell_type": "code",
   "execution_count": 56,
   "metadata": {},
   "outputs": [
    {
     "data": {
      "text/plain": [
       "(0, 220000)"
      ]
     },
     "execution_count": 56,
     "metadata": {},
     "output_type": "execute_result"
    },
    {
     "data": {
      "image/png": "[encoded data removed]",
      "text/plain": [
       "<Figure size 432x432 with 1 Axes>"
      ]
     },
     "metadata": {
      "needs_background": "light"
     },
     "output_type": "display_data"
    }
   ],
   "source": [
    "df.boxplot('price_per_m2', by='month', rot=30, figsize=(6,6)).set_ylim(0,220000)"
   ]
  },
  {
   "cell_type": "code",
   "execution_count": 57,
   "metadata": {},
   "outputs": [
    {
     "data": {
      "text/plain": [
       "(0, 200000)"
      ]
     },
     "execution_count": 57,
     "metadata": {},
     "output_type": "execute_result"
    },
    {
     "data": {
      "image/png": "[encoded data removed]",
      "text/plain": [
       "<Figure size 360x360 with 1 Axes>"
      ]
     },
     "metadata": {
      "needs_background": "light"
     },
     "output_type": "display_data"
    }
   ],
   "source": [
    "df.boxplot('price_per_m2', by='year', figsize=(5,5)).set_ylim(0,200000)"
   ]
  },
  {
   "cell_type": "markdown",
   "metadata": {},
   "source": [
    "Ощутимая зависимость цены от дня недели или месяца отсутствует. Разве что летом жилье несущественно дешевеет.\n",
    "\n",
    "При этом, на последнем графике (зависимость от года размещения) можно проследить определенную закономерность. В 2014 году курс рубля к доллару снизился на 65%, что привело к пересчету долларовой стоимости на жилье - его, как минимум, пытались продать дороже. Затем, после того как паника несколько утихла, цены вернулись в некое равновесное состояни, ведь население, имеющее доходы в рублях, явно не стало богаче, а значит и продать ему жилье с наценкой стало сложнее. В 2019 году инфляция достигла многолетних минимумов, а реальные доходы начали расти. В результате чего увеличились и цены не недвижимость."
   ]
  },
  {
   "cell_type": "markdown",
   "metadata": {},
   "source": [
    "#### Выберем 10 населённых пунктов с наибольшим числом объявлений и посчитаем среднюю цену квадратного метра в этих населённых пунктах. Нас интересуют населённые пункты с самой высокой и низкой стоимостью жилья."
   ]
  },
  {
   "cell_type": "code",
   "execution_count": 58,
   "metadata": {},
   "outputs": [
    {
     "data": {
      "text/html": [
       "<div>\n",
       "<style scoped>\n",
       "    .dataframe tbody tr th:only-of-type {\n",
       "        vertical-align: middle;\n",
       "    }\n",
       "\n",
       "    .dataframe tbody tr th {\n",
       "        vertical-align: top;\n",
       "    }\n",
       "\n",
       "    .dataframe thead th {\n",
       "        text-align: right;\n",
       "    }\n",
       "</style>\n",
       "<table border=\"1\" class=\"dataframe\">\n",
       "  <thead>\n",
       "    <tr style=\"text-align: right;\">\n",
       "      <th></th>\n",
       "      <th>price_per_m2</th>\n",
       "    </tr>\n",
       "    <tr>\n",
       "      <th>locality_name</th>\n",
       "      <th></th>\n",
       "    </tr>\n",
       "  </thead>\n",
       "  <tbody>\n",
       "    <tr>\n",
       "      <td>санкт-петербург</td>\n",
       "      <td>15174</td>\n",
       "    </tr>\n",
       "    <tr>\n",
       "      <td>поселок мурино</td>\n",
       "      <td>538</td>\n",
       "    </tr>\n",
       "    <tr>\n",
       "      <td>поселок шушары</td>\n",
       "      <td>438</td>\n",
       "    </tr>\n",
       "    <tr>\n",
       "      <td>всеволожск</td>\n",
       "      <td>387</td>\n",
       "    </tr>\n",
       "    <tr>\n",
       "      <td>пушкин</td>\n",
       "      <td>360</td>\n",
       "    </tr>\n",
       "    <tr>\n",
       "      <td>колпино</td>\n",
       "      <td>336</td>\n",
       "    </tr>\n",
       "    <tr>\n",
       "      <td>поселок парголово</td>\n",
       "      <td>325</td>\n",
       "    </tr>\n",
       "    <tr>\n",
       "      <td>гатчина</td>\n",
       "      <td>301</td>\n",
       "    </tr>\n",
       "    <tr>\n",
       "      <td>деревня кудрово</td>\n",
       "      <td>295</td>\n",
       "    </tr>\n",
       "    <tr>\n",
       "      <td>выборг</td>\n",
       "      <td>230</td>\n",
       "    </tr>\n",
       "  </tbody>\n",
       "</table>\n",
       "</div>"
      ],
      "text/plain": [
       "                   price_per_m2\n",
       "locality_name                  \n",
       "санкт-петербург           15174\n",
       "поселок мурино              538\n",
       "поселок шушары              438\n",
       "всеволожск                  387\n",
       "пушкин                      360\n",
       "колпино                     336\n",
       "поселок парголово           325\n",
       "гатчина                     301\n",
       "деревня кудрово             295\n",
       "выборг                      230"
      ]
     },
     "execution_count": 58,
     "metadata": {},
     "output_type": "execute_result"
    }
   ],
   "source": [
    "# Сортируем по кол-во объявлений\n",
    "\n",
    "df_locality_price = (\n",
    "    df_new\n",
    "    .pivot_table(index='locality_name', values ='price_per_m2', aggfunc='count')\n",
    "    .sort_values(by = 'price_per_m2', ascending = False)\n",
    "    .head(10)\n",
    ")\n",
    "\n",
    "df_locality_price"
   ]
  },
  {
   "cell_type": "code",
   "execution_count": 59,
   "metadata": {
    "scrolled": false
   },
   "outputs": [
    {
     "name": "stdout",
     "output_type": "stream",
     "text": [
      "['санкт-петербург' 'поселок шушары' 'поселок парголово' 'поселок мурино'\n",
      " 'пушкин' 'деревня кудрово' 'колпино' 'гатчина' 'выборг' 'всеволожск']\n"
     ]
    },
    {
     "data": {
      "text/html": [
       "<div>\n",
       "<style scoped>\n",
       "    .dataframe tbody tr th:only-of-type {\n",
       "        vertical-align: middle;\n",
       "    }\n",
       "\n",
       "    .dataframe tbody tr th {\n",
       "        vertical-align: top;\n",
       "    }\n",
       "\n",
       "    .dataframe thead th {\n",
       "        text-align: right;\n",
       "    }\n",
       "</style>\n",
       "<table border=\"1\" class=\"dataframe\">\n",
       "  <thead>\n",
       "    <tr style=\"text-align: right;\">\n",
       "      <th></th>\n",
       "      <th>locality_name</th>\n",
       "      <th>rooms_number</th>\n",
       "      <th>last_price</th>\n",
       "      <th>total_area_m2</th>\n",
       "      <th>living_area_m2</th>\n",
       "      <th>kitchen_area_m2</th>\n",
       "      <th>ceiling_height_m</th>\n",
       "      <th>balcony_number</th>\n",
       "      <th>floor</th>\n",
       "      <th>floors_number_in_house</th>\n",
       "      <th>is_apartment</th>\n",
       "      <th>is_studio</th>\n",
       "      <th>is_open_plan</th>\n",
       "      <th>first_day_exposition</th>\n",
       "      <th>days_exposition</th>\n",
       "      <th>total_images</th>\n",
       "      <th>city_center_distance_m</th>\n",
       "      <th>parks_numbers_within_3km</th>\n",
       "      <th>park_nearest_distance_m</th>\n",
       "      <th>ponds_numbers_within_3km</th>\n",
       "      <th>pond_nearest_distance_m</th>\n",
       "      <th>airport_nearest_distance_m</th>\n",
       "      <th>price_per_m2</th>\n",
       "      <th>week_day</th>\n",
       "      <th>month</th>\n",
       "      <th>year</th>\n",
       "      <th>floor_category</th>\n",
       "      <th>total_living_ratio</th>\n",
       "      <th>total_kitchen_ratio</th>\n",
       "    </tr>\n",
       "  </thead>\n",
       "  <tbody>\n",
       "    <tr>\n",
       "      <td>0</td>\n",
       "      <td>санкт-петербург</td>\n",
       "      <td>3</td>\n",
       "      <td>13000000.0</td>\n",
       "      <td>108.00</td>\n",
       "      <td>51.00</td>\n",
       "      <td>25.00</td>\n",
       "      <td>2.70</td>\n",
       "      <td>0</td>\n",
       "      <td>8</td>\n",
       "      <td>16</td>\n",
       "      <td>True</td>\n",
       "      <td>False</td>\n",
       "      <td>False</td>\n",
       "      <td>2019-03-07</td>\n",
       "      <td>NaN</td>\n",
       "      <td>20</td>\n",
       "      <td>16028.0</td>\n",
       "      <td>1.0</td>\n",
       "      <td>482.0</td>\n",
       "      <td>2.0</td>\n",
       "      <td>755.0</td>\n",
       "      <td>18863.0</td>\n",
       "      <td>120370.37</td>\n",
       "      <td>Thursday</td>\n",
       "      <td>March</td>\n",
       "      <td>2019</td>\n",
       "      <td>другой</td>\n",
       "      <td>0.472222</td>\n",
       "      <td>0.231481</td>\n",
       "    </tr>\n",
       "    <tr>\n",
       "      <td>1</td>\n",
       "      <td>поселок шушары</td>\n",
       "      <td>1</td>\n",
       "      <td>3350000.0</td>\n",
       "      <td>40.40</td>\n",
       "      <td>18.60</td>\n",
       "      <td>11.00</td>\n",
       "      <td>2.65</td>\n",
       "      <td>2</td>\n",
       "      <td>1</td>\n",
       "      <td>11</td>\n",
       "      <td>True</td>\n",
       "      <td>False</td>\n",
       "      <td>False</td>\n",
       "      <td>2018-12-04</td>\n",
       "      <td>81.0</td>\n",
       "      <td>7</td>\n",
       "      <td>18603.0</td>\n",
       "      <td>0.0</td>\n",
       "      <td>NaN</td>\n",
       "      <td>0.0</td>\n",
       "      <td>NaN</td>\n",
       "      <td>12817.0</td>\n",
       "      <td>82920.79</td>\n",
       "      <td>Tuesday</td>\n",
       "      <td>December</td>\n",
       "      <td>2018</td>\n",
       "      <td>первый</td>\n",
       "      <td>0.460396</td>\n",
       "      <td>0.272277</td>\n",
       "    </tr>\n",
       "    <tr>\n",
       "      <td>2</td>\n",
       "      <td>санкт-петербург</td>\n",
       "      <td>2</td>\n",
       "      <td>5196000.0</td>\n",
       "      <td>56.00</td>\n",
       "      <td>34.30</td>\n",
       "      <td>8.30</td>\n",
       "      <td>2.65</td>\n",
       "      <td>0</td>\n",
       "      <td>4</td>\n",
       "      <td>5</td>\n",
       "      <td>True</td>\n",
       "      <td>False</td>\n",
       "      <td>False</td>\n",
       "      <td>2015-08-20</td>\n",
       "      <td>558.0</td>\n",
       "      <td>10</td>\n",
       "      <td>13933.0</td>\n",
       "      <td>1.0</td>\n",
       "      <td>90.0</td>\n",
       "      <td>2.0</td>\n",
       "      <td>574.0</td>\n",
       "      <td>21741.0</td>\n",
       "      <td>92785.71</td>\n",
       "      <td>Thursday</td>\n",
       "      <td>August</td>\n",
       "      <td>2015</td>\n",
       "      <td>другой</td>\n",
       "      <td>0.612500</td>\n",
       "      <td>0.148214</td>\n",
       "    </tr>\n",
       "    <tr>\n",
       "      <td>3</td>\n",
       "      <td>санкт-петербург</td>\n",
       "      <td>3</td>\n",
       "      <td>64900000.0</td>\n",
       "      <td>159.00</td>\n",
       "      <td>89.04</td>\n",
       "      <td>27.03</td>\n",
       "      <td>2.65</td>\n",
       "      <td>0</td>\n",
       "      <td>9</td>\n",
       "      <td>14</td>\n",
       "      <td>True</td>\n",
       "      <td>False</td>\n",
       "      <td>False</td>\n",
       "      <td>2015-07-24</td>\n",
       "      <td>424.0</td>\n",
       "      <td>0</td>\n",
       "      <td>6800.0</td>\n",
       "      <td>2.0</td>\n",
       "      <td>84.0</td>\n",
       "      <td>3.0</td>\n",
       "      <td>234.0</td>\n",
       "      <td>28098.0</td>\n",
       "      <td>408176.10</td>\n",
       "      <td>Friday</td>\n",
       "      <td>July</td>\n",
       "      <td>2015</td>\n",
       "      <td>другой</td>\n",
       "      <td>0.560000</td>\n",
       "      <td>0.170000</td>\n",
       "    </tr>\n",
       "    <tr>\n",
       "      <td>4</td>\n",
       "      <td>санкт-петербург</td>\n",
       "      <td>2</td>\n",
       "      <td>10000000.0</td>\n",
       "      <td>100.00</td>\n",
       "      <td>32.00</td>\n",
       "      <td>41.00</td>\n",
       "      <td>3.03</td>\n",
       "      <td>0</td>\n",
       "      <td>13</td>\n",
       "      <td>14</td>\n",
       "      <td>True</td>\n",
       "      <td>False</td>\n",
       "      <td>False</td>\n",
       "      <td>2018-06-19</td>\n",
       "      <td>121.0</td>\n",
       "      <td>2</td>\n",
       "      <td>8098.0</td>\n",
       "      <td>2.0</td>\n",
       "      <td>112.0</td>\n",
       "      <td>1.0</td>\n",
       "      <td>48.0</td>\n",
       "      <td>31856.0</td>\n",
       "      <td>100000.00</td>\n",
       "      <td>Tuesday</td>\n",
       "      <td>June</td>\n",
       "      <td>2018</td>\n",
       "      <td>другой</td>\n",
       "      <td>0.320000</td>\n",
       "      <td>0.410000</td>\n",
       "    </tr>\n",
       "    <tr>\n",
       "      <td>...</td>\n",
       "      <td>...</td>\n",
       "      <td>...</td>\n",
       "      <td>...</td>\n",
       "      <td>...</td>\n",
       "      <td>...</td>\n",
       "      <td>...</td>\n",
       "      <td>...</td>\n",
       "      <td>...</td>\n",
       "      <td>...</td>\n",
       "      <td>...</td>\n",
       "      <td>...</td>\n",
       "      <td>...</td>\n",
       "      <td>...</td>\n",
       "      <td>...</td>\n",
       "      <td>...</td>\n",
       "      <td>...</td>\n",
       "      <td>...</td>\n",
       "      <td>...</td>\n",
       "      <td>...</td>\n",
       "      <td>...</td>\n",
       "      <td>...</td>\n",
       "      <td>...</td>\n",
       "      <td>...</td>\n",
       "      <td>...</td>\n",
       "      <td>...</td>\n",
       "      <td>...</td>\n",
       "      <td>...</td>\n",
       "      <td>...</td>\n",
       "      <td>...</td>\n",
       "    </tr>\n",
       "    <tr>\n",
       "      <td>23689</td>\n",
       "      <td>санкт-петербург</td>\n",
       "      <td>1</td>\n",
       "      <td>3550000.0</td>\n",
       "      <td>35.30</td>\n",
       "      <td>16.30</td>\n",
       "      <td>9.10</td>\n",
       "      <td>2.86</td>\n",
       "      <td>2</td>\n",
       "      <td>4</td>\n",
       "      <td>15</td>\n",
       "      <td>True</td>\n",
       "      <td>False</td>\n",
       "      <td>False</td>\n",
       "      <td>2018-02-28</td>\n",
       "      <td>29.0</td>\n",
       "      <td>13</td>\n",
       "      <td>16081.0</td>\n",
       "      <td>1.0</td>\n",
       "      <td>353.0</td>\n",
       "      <td>2.0</td>\n",
       "      <td>652.0</td>\n",
       "      <td>17284.0</td>\n",
       "      <td>100566.57</td>\n",
       "      <td>Wednesday</td>\n",
       "      <td>February</td>\n",
       "      <td>2018</td>\n",
       "      <td>другой</td>\n",
       "      <td>0.461756</td>\n",
       "      <td>0.257790</td>\n",
       "    </tr>\n",
       "    <tr>\n",
       "      <td>23690</td>\n",
       "      <td>санкт-петербург</td>\n",
       "      <td>2</td>\n",
       "      <td>5500000.0</td>\n",
       "      <td>52.00</td>\n",
       "      <td>31.00</td>\n",
       "      <td>6.00</td>\n",
       "      <td>2.65</td>\n",
       "      <td>0</td>\n",
       "      <td>2</td>\n",
       "      <td>5</td>\n",
       "      <td>True</td>\n",
       "      <td>False</td>\n",
       "      <td>False</td>\n",
       "      <td>2018-07-19</td>\n",
       "      <td>15.0</td>\n",
       "      <td>3</td>\n",
       "      <td>6263.0</td>\n",
       "      <td>1.0</td>\n",
       "      <td>300.0</td>\n",
       "      <td>0.0</td>\n",
       "      <td>NaN</td>\n",
       "      <td>20151.0</td>\n",
       "      <td>105769.23</td>\n",
       "      <td>Thursday</td>\n",
       "      <td>July</td>\n",
       "      <td>2018</td>\n",
       "      <td>другой</td>\n",
       "      <td>0.596154</td>\n",
       "      <td>0.115385</td>\n",
       "    </tr>\n",
       "    <tr>\n",
       "      <td>23691</td>\n",
       "      <td>санкт-петербург</td>\n",
       "      <td>2</td>\n",
       "      <td>9470000.0</td>\n",
       "      <td>72.90</td>\n",
       "      <td>40.30</td>\n",
       "      <td>10.60</td>\n",
       "      <td>2.75</td>\n",
       "      <td>1</td>\n",
       "      <td>7</td>\n",
       "      <td>25</td>\n",
       "      <td>True</td>\n",
       "      <td>False</td>\n",
       "      <td>False</td>\n",
       "      <td>2016-10-13</td>\n",
       "      <td>519.0</td>\n",
       "      <td>11</td>\n",
       "      <td>4489.0</td>\n",
       "      <td>0.0</td>\n",
       "      <td>NaN</td>\n",
       "      <td>1.0</td>\n",
       "      <td>806.0</td>\n",
       "      <td>19424.0</td>\n",
       "      <td>129903.98</td>\n",
       "      <td>Thursday</td>\n",
       "      <td>October</td>\n",
       "      <td>2016</td>\n",
       "      <td>другой</td>\n",
       "      <td>0.552812</td>\n",
       "      <td>0.145405</td>\n",
       "    </tr>\n",
       "    <tr>\n",
       "      <td>23694</td>\n",
       "      <td>санкт-петербург</td>\n",
       "      <td>3</td>\n",
       "      <td>9700000.0</td>\n",
       "      <td>133.81</td>\n",
       "      <td>73.30</td>\n",
       "      <td>13.83</td>\n",
       "      <td>3.70</td>\n",
       "      <td>0</td>\n",
       "      <td>3</td>\n",
       "      <td>5</td>\n",
       "      <td>True</td>\n",
       "      <td>False</td>\n",
       "      <td>False</td>\n",
       "      <td>2017-03-21</td>\n",
       "      <td>NaN</td>\n",
       "      <td>9</td>\n",
       "      <td>4232.0</td>\n",
       "      <td>1.0</td>\n",
       "      <td>796.0</td>\n",
       "      <td>3.0</td>\n",
       "      <td>381.0</td>\n",
       "      <td>24665.0</td>\n",
       "      <td>72490.85</td>\n",
       "      <td>Tuesday</td>\n",
       "      <td>March</td>\n",
       "      <td>2017</td>\n",
       "      <td>другой</td>\n",
       "      <td>0.547792</td>\n",
       "      <td>0.103356</td>\n",
       "    </tr>\n",
       "    <tr>\n",
       "      <td>23697</td>\n",
       "      <td>санкт-петербург</td>\n",
       "      <td>2</td>\n",
       "      <td>11475000.0</td>\n",
       "      <td>76.75</td>\n",
       "      <td>42.98</td>\n",
       "      <td>23.30</td>\n",
       "      <td>3.00</td>\n",
       "      <td>2</td>\n",
       "      <td>12</td>\n",
       "      <td>17</td>\n",
       "      <td>True</td>\n",
       "      <td>False</td>\n",
       "      <td>False</td>\n",
       "      <td>2017-03-28</td>\n",
       "      <td>602.0</td>\n",
       "      <td>13</td>\n",
       "      <td>10364.0</td>\n",
       "      <td>2.0</td>\n",
       "      <td>173.0</td>\n",
       "      <td>3.0</td>\n",
       "      <td>196.0</td>\n",
       "      <td>39140.0</td>\n",
       "      <td>149511.40</td>\n",
       "      <td>Tuesday</td>\n",
       "      <td>March</td>\n",
       "      <td>2017</td>\n",
       "      <td>другой</td>\n",
       "      <td>0.560000</td>\n",
       "      <td>0.303583</td>\n",
       "    </tr>\n",
       "  </tbody>\n",
       "</table>\n",
       "<p>18384 rows × 29 columns</p>\n",
       "</div>"
      ],
      "text/plain": [
       "         locality_name  rooms_number  last_price  total_area_m2  \\\n",
       "0      санкт-петербург             3  13000000.0         108.00   \n",
       "1       поселок шушары             1   3350000.0          40.40   \n",
       "2      санкт-петербург             2   5196000.0          56.00   \n",
       "3      санкт-петербург             3  64900000.0         159.00   \n",
       "4      санкт-петербург             2  10000000.0         100.00   \n",
       "...                ...           ...         ...            ...   \n",
       "23689  санкт-петербург             1   3550000.0          35.30   \n",
       "23690  санкт-петербург             2   5500000.0          52.00   \n",
       "23691  санкт-петербург             2   9470000.0          72.90   \n",
       "23694  санкт-петербург             3   9700000.0         133.81   \n",
       "23697  санкт-петербург             2  11475000.0          76.75   \n",
       "\n",
       "       living_area_m2  kitchen_area_m2  ceiling_height_m  balcony_number  \\\n",
       "0               51.00            25.00              2.70               0   \n",
       "1               18.60            11.00              2.65               2   \n",
       "2               34.30             8.30              2.65               0   \n",
       "3               89.04            27.03              2.65               0   \n",
       "4               32.00            41.00              3.03               0   \n",
       "...               ...              ...               ...             ...   \n",
       "23689           16.30             9.10              2.86               2   \n",
       "23690           31.00             6.00              2.65               0   \n",
       "23691           40.30            10.60              2.75               1   \n",
       "23694           73.30            13.83              3.70               0   \n",
       "23697           42.98            23.30              3.00               2   \n",
       "\n",
       "       floor  floors_number_in_house  is_apartment  is_studio  is_open_plan  \\\n",
       "0          8                      16          True      False         False   \n",
       "1          1                      11          True      False         False   \n",
       "2          4                       5          True      False         False   \n",
       "3          9                      14          True      False         False   \n",
       "4         13                      14          True      False         False   \n",
       "...      ...                     ...           ...        ...           ...   \n",
       "23689      4                      15          True      False         False   \n",
       "23690      2                       5          True      False         False   \n",
       "23691      7                      25          True      False         False   \n",
       "23694      3                       5          True      False         False   \n",
       "23697     12                      17          True      False         False   \n",
       "\n",
       "      first_day_exposition  days_exposition  total_images  \\\n",
       "0               2019-03-07              NaN            20   \n",
       "1               2018-12-04             81.0             7   \n",
       "2               2015-08-20            558.0            10   \n",
       "3               2015-07-24            424.0             0   \n",
       "4               2018-06-19            121.0             2   \n",
       "...                    ...              ...           ...   \n",
       "23689           2018-02-28             29.0            13   \n",
       "23690           2018-07-19             15.0             3   \n",
       "23691           2016-10-13            519.0            11   \n",
       "23694           2017-03-21              NaN             9   \n",
       "23697           2017-03-28            602.0            13   \n",
       "\n",
       "       city_center_distance_m  parks_numbers_within_3km  \\\n",
       "0                     16028.0                       1.0   \n",
       "1                     18603.0                       0.0   \n",
       "2                     13933.0                       1.0   \n",
       "3                      6800.0                       2.0   \n",
       "4                      8098.0                       2.0   \n",
       "...                       ...                       ...   \n",
       "23689                 16081.0                       1.0   \n",
       "23690                  6263.0                       1.0   \n",
       "23691                  4489.0                       0.0   \n",
       "23694                  4232.0                       1.0   \n",
       "23697                 10364.0                       2.0   \n",
       "\n",
       "       park_nearest_distance_m  ponds_numbers_within_3km  \\\n",
       "0                        482.0                       2.0   \n",
       "1                          NaN                       0.0   \n",
       "2                         90.0                       2.0   \n",
       "3                         84.0                       3.0   \n",
       "4                        112.0                       1.0   \n",
       "...                        ...                       ...   \n",
       "23689                    353.0                       2.0   \n",
       "23690                    300.0                       0.0   \n",
       "23691                      NaN                       1.0   \n",
       "23694                    796.0                       3.0   \n",
       "23697                    173.0                       3.0   \n",
       "\n",
       "       pond_nearest_distance_m  airport_nearest_distance_m  price_per_m2  \\\n",
       "0                        755.0                     18863.0     120370.37   \n",
       "1                          NaN                     12817.0      82920.79   \n",
       "2                        574.0                     21741.0      92785.71   \n",
       "3                        234.0                     28098.0     408176.10   \n",
       "4                         48.0                     31856.0     100000.00   \n",
       "...                        ...                         ...           ...   \n",
       "23689                    652.0                     17284.0     100566.57   \n",
       "23690                      NaN                     20151.0     105769.23   \n",
       "23691                    806.0                     19424.0     129903.98   \n",
       "23694                    381.0                     24665.0      72490.85   \n",
       "23697                    196.0                     39140.0     149511.40   \n",
       "\n",
       "        week_day     month  year floor_category  total_living_ratio  \\\n",
       "0       Thursday     March  2019         другой            0.472222   \n",
       "1        Tuesday  December  2018         первый            0.460396   \n",
       "2       Thursday    August  2015         другой            0.612500   \n",
       "3         Friday      July  2015         другой            0.560000   \n",
       "4        Tuesday      June  2018         другой            0.320000   \n",
       "...          ...       ...   ...            ...                 ...   \n",
       "23689  Wednesday  February  2018         другой            0.461756   \n",
       "23690   Thursday      July  2018         другой            0.596154   \n",
       "23691   Thursday   October  2016         другой            0.552812   \n",
       "23694    Tuesday     March  2017         другой            0.547792   \n",
       "23697    Tuesday     March  2017         другой            0.560000   \n",
       "\n",
       "       total_kitchen_ratio  \n",
       "0                 0.231481  \n",
       "1                 0.272277  \n",
       "2                 0.148214  \n",
       "3                 0.170000  \n",
       "4                 0.410000  \n",
       "...                    ...  \n",
       "23689             0.257790  \n",
       "23690             0.115385  \n",
       "23691             0.145405  \n",
       "23694             0.103356  \n",
       "23697             0.303583  \n",
       "\n",
       "[18384 rows x 29 columns]"
      ]
     },
     "execution_count": 59,
     "metadata": {},
     "output_type": "execute_result"
    }
   ],
   "source": [
    "# К новому датасету добавляем данные по стоимости квадратного метра\n",
    "\n",
    "df_locality_price = df_new.query('locality_name in @df_locality_price.index.tolist()')\n",
    "\n",
    "print(df_locality_price.locality_name.unique())\n",
    "df_locality_price"
   ]
  },
  {
   "cell_type": "code",
   "execution_count": 60,
   "metadata": {},
   "outputs": [
    {
     "data": {
      "text/html": [
       "<div>\n",
       "<style scoped>\n",
       "    .dataframe tbody tr th:only-of-type {\n",
       "        vertical-align: middle;\n",
       "    }\n",
       "\n",
       "    .dataframe tbody tr th {\n",
       "        vertical-align: top;\n",
       "    }\n",
       "\n",
       "    .dataframe thead th {\n",
       "        text-align: right;\n",
       "    }\n",
       "</style>\n",
       "<table border=\"1\" class=\"dataframe\">\n",
       "  <thead>\n",
       "    <tr style=\"text-align: right;\">\n",
       "      <th></th>\n",
       "      <th>price_per_m2</th>\n",
       "    </tr>\n",
       "    <tr>\n",
       "      <th>locality_name</th>\n",
       "      <th></th>\n",
       "    </tr>\n",
       "  </thead>\n",
       "  <tbody>\n",
       "    <tr>\n",
       "      <td>санкт-петербург</td>\n",
       "      <td>104545.450</td>\n",
       "    </tr>\n",
       "    <tr>\n",
       "      <td>пушкин</td>\n",
       "      <td>99993.590</td>\n",
       "    </tr>\n",
       "    <tr>\n",
       "      <td>деревня кудрово</td>\n",
       "      <td>91860.470</td>\n",
       "    </tr>\n",
       "    <tr>\n",
       "      <td>поселок парголово</td>\n",
       "      <td>91642.860</td>\n",
       "    </tr>\n",
       "    <tr>\n",
       "      <td>поселок мурино</td>\n",
       "      <td>85697.395</td>\n",
       "    </tr>\n",
       "    <tr>\n",
       "      <td>поселок шушары</td>\n",
       "      <td>76747.970</td>\n",
       "    </tr>\n",
       "    <tr>\n",
       "      <td>колпино</td>\n",
       "      <td>74723.745</td>\n",
       "    </tr>\n",
       "    <tr>\n",
       "      <td>гатчина</td>\n",
       "      <td>67695.960</td>\n",
       "    </tr>\n",
       "    <tr>\n",
       "      <td>всеволожск</td>\n",
       "      <td>65686.270</td>\n",
       "    </tr>\n",
       "    <tr>\n",
       "      <td>выборг</td>\n",
       "      <td>58417.025</td>\n",
       "    </tr>\n",
       "  </tbody>\n",
       "</table>\n",
       "</div>"
      ],
      "text/plain": [
       "                   price_per_m2\n",
       "locality_name                  \n",
       "санкт-петербург      104545.450\n",
       "пушкин                99993.590\n",
       "деревня кудрово       91860.470\n",
       "поселок парголово     91642.860\n",
       "поселок мурино        85697.395\n",
       "поселок шушары        76747.970\n",
       "колпино               74723.745\n",
       "гатчина               67695.960\n",
       "всеволожск            65686.270\n",
       "выборг                58417.025"
      ]
     },
     "execution_count": 60,
     "metadata": {},
     "output_type": "execute_result"
    }
   ],
   "source": [
    "(\n",
    "df_locality_price\n",
    "    .pivot_table(index='locality_name', values ='price_per_m2', aggfunc='median')\n",
    "    .sort_values(by = 'price_per_m2', ascending = False)\n",
    ")"
   ]
  },
  {
   "cell_type": "markdown",
   "metadata": {},
   "source": [
    "Первое место по стоимости квадратного метра занимает Санкт-Петербург, второе - туристический Пушкин, несмотря на то, что находится дальше от Санкт-Петербурга, чем многие другие населенные пункты из списка, где находится большое число многоэтажек. Выборг находится примерно в 140 км от Северной столицы и поэтому квадратный метр там стоит дешевле всего."
   ]
  },
  {
   "cell_type": "markdown",
   "metadata": {},
   "source": [
    "#### Выясним, какая область входит в центр Санкт-Петербурга. Для этого создадим столбец с расстоянием до центра в километрах, округлив до целых значений. После этого посчитаем среднюю цену для каждого километра. Затем построим график, который показывает, как цена зависит от удалённости от центра. Граница, где график сильно меняется и будет центральной зоной."
   ]
  },
  {
   "cell_type": "code",
   "execution_count": 61,
   "metadata": {},
   "outputs": [
    {
     "name": "stdout",
     "output_type": "stream",
     "text": [
      "Кол-во пропусков в столбце city_center_distance_m: 5406\n",
      "Кол-во пропусков в столбце city_center_distance_m после удаления: 0\n",
      "count    17561.000000\n",
      "mean     14357.629064\n",
      "std       8582.257420\n",
      "min        181.000000\n",
      "25%       9551.000000\n",
      "50%      13203.000000\n",
      "75%      16376.000000\n",
      "max      65968.000000\n",
      "Name: city_center_distance_m, dtype: float64\n"
     ]
    },
    {
     "data": {
      "text/plain": [
       "<matplotlib.axes._subplots.AxesSubplot at 0x7f9ebe9b2890>"
      ]
     },
     "execution_count": 61,
     "metadata": {},
     "output_type": "execute_result"
    },
    {
     "data": {
      "image/png": "[encoded data removed]",
      "text/plain": [
       "<Figure size 432x288 with 1 Axes>"
      ]
     },
     "metadata": {
      "needs_background": "light"
     },
     "output_type": "display_data"
    }
   ],
   "source": [
    "# В столбце \"city_center_distance_m\" бло много пропусков. Удалим их сейчас. Заполнять их нет смысла - угадывая \n",
    "# легко можно ошибиться\n",
    "\n",
    "print('Кол-во пропусков в столбце city_center_distance_m: {}'.format(df_new.city_center_distance_m.isnull().sum()))\n",
    "\n",
    "df_new = df_new.dropna(subset=['city_center_distance_m'])\n",
    "print('Кол-во пропусков в столбце city_center_distance_m после удаления: {}'.format(df_new.city_center_distance_m.isnull().sum()))\n",
    "\n",
    "print(df_new.city_center_distance_m.describe())\n",
    "\n",
    "df_new.city_center_distance_m.hist(bins=100)"
   ]
  },
  {
   "cell_type": "code",
   "execution_count": 62,
   "metadata": {
    "scrolled": true
   },
   "outputs": [
    {
     "data": {
      "text/plain": [
       "0"
      ]
     },
     "execution_count": 62,
     "metadata": {},
     "output_type": "execute_result"
    }
   ],
   "source": [
    "df_new['city_center_distance_m'].isnull().sum()"
   ]
  },
  {
   "cell_type": "code",
   "execution_count": 63,
   "metadata": {
    "scrolled": false
   },
   "outputs": [],
   "source": [
    "df_new['city_center_distance_km'] = df_new['city_center_distance_m'] / 1000"
   ]
  },
  {
   "cell_type": "code",
   "execution_count": 64,
   "metadata": {},
   "outputs": [
    {
     "data": {
      "text/plain": [
       "0"
      ]
     },
     "execution_count": 64,
     "metadata": {},
     "output_type": "execute_result"
    }
   ],
   "source": [
    "df_new['city_center_distance_km'].isnull().sum()"
   ]
  },
  {
   "cell_type": "code",
   "execution_count": 65,
   "metadata": {
    "scrolled": true
   },
   "outputs": [
    {
     "data": {
      "text/html": [
       "<div>\n",
       "<style scoped>\n",
       "    .dataframe tbody tr th:only-of-type {\n",
       "        vertical-align: middle;\n",
       "    }\n",
       "\n",
       "    .dataframe tbody tr th {\n",
       "        vertical-align: top;\n",
       "    }\n",
       "\n",
       "    .dataframe thead th {\n",
       "        text-align: right;\n",
       "    }\n",
       "</style>\n",
       "<table border=\"1\" class=\"dataframe\">\n",
       "  <thead>\n",
       "    <tr style=\"text-align: right;\">\n",
       "      <th></th>\n",
       "      <th>locality_name</th>\n",
       "      <th>rooms_number</th>\n",
       "      <th>last_price</th>\n",
       "      <th>total_area_m2</th>\n",
       "      <th>living_area_m2</th>\n",
       "      <th>kitchen_area_m2</th>\n",
       "      <th>ceiling_height_m</th>\n",
       "      <th>balcony_number</th>\n",
       "      <th>floor</th>\n",
       "      <th>floors_number_in_house</th>\n",
       "      <th>is_apartment</th>\n",
       "      <th>is_studio</th>\n",
       "      <th>is_open_plan</th>\n",
       "      <th>first_day_exposition</th>\n",
       "      <th>days_exposition</th>\n",
       "      <th>total_images</th>\n",
       "      <th>city_center_distance_m</th>\n",
       "      <th>parks_numbers_within_3km</th>\n",
       "      <th>park_nearest_distance_m</th>\n",
       "      <th>ponds_numbers_within_3km</th>\n",
       "      <th>pond_nearest_distance_m</th>\n",
       "      <th>airport_nearest_distance_m</th>\n",
       "      <th>price_per_m2</th>\n",
       "      <th>week_day</th>\n",
       "      <th>month</th>\n",
       "      <th>year</th>\n",
       "      <th>floor_category</th>\n",
       "      <th>total_living_ratio</th>\n",
       "      <th>total_kitchen_ratio</th>\n",
       "      <th>city_center_distance_km</th>\n",
       "      <th>mean_price_per_km</th>\n",
       "    </tr>\n",
       "  </thead>\n",
       "  <tbody>\n",
       "    <tr>\n",
       "      <td>0</td>\n",
       "      <td>санкт-петербург</td>\n",
       "      <td>3</td>\n",
       "      <td>13000000.0</td>\n",
       "      <td>108.0</td>\n",
       "      <td>51.00</td>\n",
       "      <td>25.00</td>\n",
       "      <td>2.70</td>\n",
       "      <td>0</td>\n",
       "      <td>8</td>\n",
       "      <td>16</td>\n",
       "      <td>True</td>\n",
       "      <td>False</td>\n",
       "      <td>False</td>\n",
       "      <td>2019-03-07</td>\n",
       "      <td>NaN</td>\n",
       "      <td>20</td>\n",
       "      <td>16028.0</td>\n",
       "      <td>1.0</td>\n",
       "      <td>482.0</td>\n",
       "      <td>2.0</td>\n",
       "      <td>755.0</td>\n",
       "      <td>18863.0</td>\n",
       "      <td>120370.37</td>\n",
       "      <td>Thursday</td>\n",
       "      <td>March</td>\n",
       "      <td>2019</td>\n",
       "      <td>другой</td>\n",
       "      <td>0.472222</td>\n",
       "      <td>0.231481</td>\n",
       "      <td>16.028</td>\n",
       "      <td>8.110806e+05</td>\n",
       "    </tr>\n",
       "    <tr>\n",
       "      <td>1</td>\n",
       "      <td>поселок шушары</td>\n",
       "      <td>1</td>\n",
       "      <td>3350000.0</td>\n",
       "      <td>40.4</td>\n",
       "      <td>18.60</td>\n",
       "      <td>11.00</td>\n",
       "      <td>2.65</td>\n",
       "      <td>2</td>\n",
       "      <td>1</td>\n",
       "      <td>11</td>\n",
       "      <td>True</td>\n",
       "      <td>False</td>\n",
       "      <td>False</td>\n",
       "      <td>2018-12-04</td>\n",
       "      <td>81.0</td>\n",
       "      <td>7</td>\n",
       "      <td>18603.0</td>\n",
       "      <td>0.0</td>\n",
       "      <td>NaN</td>\n",
       "      <td>0.0</td>\n",
       "      <td>NaN</td>\n",
       "      <td>12817.0</td>\n",
       "      <td>82920.79</td>\n",
       "      <td>Tuesday</td>\n",
       "      <td>December</td>\n",
       "      <td>2018</td>\n",
       "      <td>первый</td>\n",
       "      <td>0.460396</td>\n",
       "      <td>0.272277</td>\n",
       "      <td>18.603</td>\n",
       "      <td>1.800785e+05</td>\n",
       "    </tr>\n",
       "    <tr>\n",
       "      <td>2</td>\n",
       "      <td>санкт-петербург</td>\n",
       "      <td>2</td>\n",
       "      <td>5196000.0</td>\n",
       "      <td>56.0</td>\n",
       "      <td>34.30</td>\n",
       "      <td>8.30</td>\n",
       "      <td>2.65</td>\n",
       "      <td>0</td>\n",
       "      <td>4</td>\n",
       "      <td>5</td>\n",
       "      <td>True</td>\n",
       "      <td>False</td>\n",
       "      <td>False</td>\n",
       "      <td>2015-08-20</td>\n",
       "      <td>558.0</td>\n",
       "      <td>10</td>\n",
       "      <td>13933.0</td>\n",
       "      <td>1.0</td>\n",
       "      <td>90.0</td>\n",
       "      <td>2.0</td>\n",
       "      <td>574.0</td>\n",
       "      <td>21741.0</td>\n",
       "      <td>92785.71</td>\n",
       "      <td>Thursday</td>\n",
       "      <td>August</td>\n",
       "      <td>2015</td>\n",
       "      <td>другой</td>\n",
       "      <td>0.612500</td>\n",
       "      <td>0.148214</td>\n",
       "      <td>13.933</td>\n",
       "      <td>3.729276e+05</td>\n",
       "    </tr>\n",
       "    <tr>\n",
       "      <td>3</td>\n",
       "      <td>санкт-петербург</td>\n",
       "      <td>3</td>\n",
       "      <td>64900000.0</td>\n",
       "      <td>159.0</td>\n",
       "      <td>89.04</td>\n",
       "      <td>27.03</td>\n",
       "      <td>2.65</td>\n",
       "      <td>0</td>\n",
       "      <td>9</td>\n",
       "      <td>14</td>\n",
       "      <td>True</td>\n",
       "      <td>False</td>\n",
       "      <td>False</td>\n",
       "      <td>2015-07-24</td>\n",
       "      <td>424.0</td>\n",
       "      <td>0</td>\n",
       "      <td>6800.0</td>\n",
       "      <td>2.0</td>\n",
       "      <td>84.0</td>\n",
       "      <td>3.0</td>\n",
       "      <td>234.0</td>\n",
       "      <td>28098.0</td>\n",
       "      <td>408176.10</td>\n",
       "      <td>Friday</td>\n",
       "      <td>July</td>\n",
       "      <td>2015</td>\n",
       "      <td>другой</td>\n",
       "      <td>0.560000</td>\n",
       "      <td>0.170000</td>\n",
       "      <td>6.800</td>\n",
       "      <td>9.544118e+06</td>\n",
       "    </tr>\n",
       "    <tr>\n",
       "      <td>4</td>\n",
       "      <td>санкт-петербург</td>\n",
       "      <td>2</td>\n",
       "      <td>10000000.0</td>\n",
       "      <td>100.0</td>\n",
       "      <td>32.00</td>\n",
       "      <td>41.00</td>\n",
       "      <td>3.03</td>\n",
       "      <td>0</td>\n",
       "      <td>13</td>\n",
       "      <td>14</td>\n",
       "      <td>True</td>\n",
       "      <td>False</td>\n",
       "      <td>False</td>\n",
       "      <td>2018-06-19</td>\n",
       "      <td>121.0</td>\n",
       "      <td>2</td>\n",
       "      <td>8098.0</td>\n",
       "      <td>2.0</td>\n",
       "      <td>112.0</td>\n",
       "      <td>1.0</td>\n",
       "      <td>48.0</td>\n",
       "      <td>31856.0</td>\n",
       "      <td>100000.00</td>\n",
       "      <td>Tuesday</td>\n",
       "      <td>June</td>\n",
       "      <td>2018</td>\n",
       "      <td>другой</td>\n",
       "      <td>0.320000</td>\n",
       "      <td>0.410000</td>\n",
       "      <td>8.098</td>\n",
       "      <td>1.234873e+06</td>\n",
       "    </tr>\n",
       "  </tbody>\n",
       "</table>\n",
       "</div>"
      ],
      "text/plain": [
       "     locality_name  rooms_number  last_price  total_area_m2  living_area_m2  \\\n",
       "0  санкт-петербург             3  13000000.0          108.0           51.00   \n",
       "1   поселок шушары             1   3350000.0           40.4           18.60   \n",
       "2  санкт-петербург             2   5196000.0           56.0           34.30   \n",
       "3  санкт-петербург             3  64900000.0          159.0           89.04   \n",
       "4  санкт-петербург             2  10000000.0          100.0           32.00   \n",
       "\n",
       "   kitchen_area_m2  ceiling_height_m  balcony_number  floor  \\\n",
       "0            25.00              2.70               0      8   \n",
       "1            11.00              2.65               2      1   \n",
       "2             8.30              2.65               0      4   \n",
       "3            27.03              2.65               0      9   \n",
       "4            41.00              3.03               0     13   \n",
       "\n",
       "   floors_number_in_house  is_apartment  is_studio  is_open_plan  \\\n",
       "0                      16          True      False         False   \n",
       "1                      11          True      False         False   \n",
       "2                       5          True      False         False   \n",
       "3                      14          True      False         False   \n",
       "4                      14          True      False         False   \n",
       "\n",
       "  first_day_exposition  days_exposition  total_images  city_center_distance_m  \\\n",
       "0           2019-03-07              NaN            20                 16028.0   \n",
       "1           2018-12-04             81.0             7                 18603.0   \n",
       "2           2015-08-20            558.0            10                 13933.0   \n",
       "3           2015-07-24            424.0             0                  6800.0   \n",
       "4           2018-06-19            121.0             2                  8098.0   \n",
       "\n",
       "   parks_numbers_within_3km  park_nearest_distance_m  \\\n",
       "0                       1.0                    482.0   \n",
       "1                       0.0                      NaN   \n",
       "2                       1.0                     90.0   \n",
       "3                       2.0                     84.0   \n",
       "4                       2.0                    112.0   \n",
       "\n",
       "   ponds_numbers_within_3km  pond_nearest_distance_m  \\\n",
       "0                       2.0                    755.0   \n",
       "1                       0.0                      NaN   \n",
       "2                       2.0                    574.0   \n",
       "3                       3.0                    234.0   \n",
       "4                       1.0                     48.0   \n",
       "\n",
       "   airport_nearest_distance_m  price_per_m2  week_day     month  year  \\\n",
       "0                     18863.0     120370.37  Thursday     March  2019   \n",
       "1                     12817.0      82920.79   Tuesday  December  2018   \n",
       "2                     21741.0      92785.71  Thursday    August  2015   \n",
       "3                     28098.0     408176.10    Friday      July  2015   \n",
       "4                     31856.0     100000.00   Tuesday      June  2018   \n",
       "\n",
       "  floor_category  total_living_ratio  total_kitchen_ratio  \\\n",
       "0         другой            0.472222             0.231481   \n",
       "1         первый            0.460396             0.272277   \n",
       "2         другой            0.612500             0.148214   \n",
       "3         другой            0.560000             0.170000   \n",
       "4         другой            0.320000             0.410000   \n",
       "\n",
       "   city_center_distance_km  mean_price_per_km  \n",
       "0                   16.028       8.110806e+05  \n",
       "1                   18.603       1.800785e+05  \n",
       "2                   13.933       3.729276e+05  \n",
       "3                    6.800       9.544118e+06  \n",
       "4                    8.098       1.234873e+06  "
      ]
     },
     "execution_count": 65,
     "metadata": {},
     "output_type": "execute_result"
    }
   ],
   "source": [
    "df_new['mean_price_per_km'] = df_new['last_price'] / df_new['city_center_distance_km']\n",
    "df_new.head()"
   ]
  },
  {
   "cell_type": "code",
   "execution_count": 66,
   "metadata": {
    "scrolled": true
   },
   "outputs": [
    {
     "data": {
      "text/plain": [
       "<matplotlib.axes._subplots.AxesSubplot at 0x7f9ebe5eb190>"
      ]
     },
     "execution_count": 66,
     "metadata": {},
     "output_type": "execute_result"
    },
    {
     "data": {
      "image/png": "[encoded data removed]",
      "text/plain": [
       "<Figure size 432x288 with 1 Axes>"
      ]
     },
     "metadata": {
      "needs_background": "light"
     },
     "output_type": "display_data"
    }
   ],
   "source": [
    "df_new.sort_values('city_center_distance_km').plot(x='city_center_distance_km', y='mean_price_per_km', grid=True)"
   ]
  },
  {
   "cell_type": "markdown",
   "metadata": {},
   "source": [
    "В качестве центральной зоны используем значения не превышаюшие 3 км"
   ]
  },
  {
   "cell_type": "markdown",
   "metadata": {},
   "source": [
    "#### Проанализируем центральную территорию: площадь, цена, число комнат, высота потолков, и выделим факторы, которые влияют на стоимость квартиры. Как итог сделаем вывод - отличаются ли факторы ценообразования в центре от всего остального города?"
   ]
  },
  {
   "cell_type": "code",
   "execution_count": 67,
   "metadata": {},
   "outputs": [
    {
     "data": {
      "text/html": [
       "<div>\n",
       "<style scoped>\n",
       "    .dataframe tbody tr th:only-of-type {\n",
       "        vertical-align: middle;\n",
       "    }\n",
       "\n",
       "    .dataframe tbody tr th {\n",
       "        vertical-align: top;\n",
       "    }\n",
       "\n",
       "    .dataframe thead th {\n",
       "        text-align: right;\n",
       "    }\n",
       "</style>\n",
       "<table border=\"1\" class=\"dataframe\">\n",
       "  <thead>\n",
       "    <tr style=\"text-align: right;\">\n",
       "      <th></th>\n",
       "      <th>locality_name</th>\n",
       "      <th>rooms_number</th>\n",
       "      <th>last_price</th>\n",
       "      <th>total_area_m2</th>\n",
       "      <th>living_area_m2</th>\n",
       "      <th>kitchen_area_m2</th>\n",
       "      <th>ceiling_height_m</th>\n",
       "      <th>balcony_number</th>\n",
       "      <th>floor</th>\n",
       "      <th>floors_number_in_house</th>\n",
       "      <th>is_apartment</th>\n",
       "      <th>is_studio</th>\n",
       "      <th>is_open_plan</th>\n",
       "      <th>first_day_exposition</th>\n",
       "      <th>days_exposition</th>\n",
       "      <th>total_images</th>\n",
       "      <th>city_center_distance_m</th>\n",
       "      <th>parks_numbers_within_3km</th>\n",
       "      <th>park_nearest_distance_m</th>\n",
       "      <th>ponds_numbers_within_3km</th>\n",
       "      <th>pond_nearest_distance_m</th>\n",
       "      <th>airport_nearest_distance_m</th>\n",
       "      <th>price_per_m2</th>\n",
       "      <th>week_day</th>\n",
       "      <th>month</th>\n",
       "      <th>year</th>\n",
       "      <th>floor_category</th>\n",
       "      <th>total_living_ratio</th>\n",
       "      <th>total_kitchen_ratio</th>\n",
       "      <th>city_center_distance_km</th>\n",
       "      <th>mean_price_per_km</th>\n",
       "    </tr>\n",
       "  </thead>\n",
       "  <tbody>\n",
       "    <tr>\n",
       "      <td>18260</td>\n",
       "      <td>санкт-петербург</td>\n",
       "      <td>3</td>\n",
       "      <td>9000000.0</td>\n",
       "      <td>94.0</td>\n",
       "      <td>50.00</td>\n",
       "      <td>15.98</td>\n",
       "      <td>2.65</td>\n",
       "      <td>0</td>\n",
       "      <td>3</td>\n",
       "      <td>5</td>\n",
       "      <td>True</td>\n",
       "      <td>False</td>\n",
       "      <td>False</td>\n",
       "      <td>2016-01-11</td>\n",
       "      <td>361.0</td>\n",
       "      <td>1</td>\n",
       "      <td>1828.0</td>\n",
       "      <td>0.0</td>\n",
       "      <td>NaN</td>\n",
       "      <td>2.0</td>\n",
       "      <td>53.0</td>\n",
       "      <td>21981.0</td>\n",
       "      <td>95744.68</td>\n",
       "      <td>Monday</td>\n",
       "      <td>January</td>\n",
       "      <td>2016</td>\n",
       "      <td>другой</td>\n",
       "      <td>0.531915</td>\n",
       "      <td>0.170000</td>\n",
       "      <td>1.828</td>\n",
       "      <td>4.923414e+06</td>\n",
       "    </tr>\n",
       "    <tr>\n",
       "      <td>2257</td>\n",
       "      <td>санкт-петербург</td>\n",
       "      <td>4</td>\n",
       "      <td>13300000.0</td>\n",
       "      <td>116.0</td>\n",
       "      <td>75.00</td>\n",
       "      <td>35.00</td>\n",
       "      <td>2.65</td>\n",
       "      <td>0</td>\n",
       "      <td>5</td>\n",
       "      <td>5</td>\n",
       "      <td>True</td>\n",
       "      <td>False</td>\n",
       "      <td>False</td>\n",
       "      <td>2017-07-21</td>\n",
       "      <td>146.0</td>\n",
       "      <td>8</td>\n",
       "      <td>1261.0</td>\n",
       "      <td>2.0</td>\n",
       "      <td>295.0</td>\n",
       "      <td>3.0</td>\n",
       "      <td>366.0</td>\n",
       "      <td>20170.0</td>\n",
       "      <td>114655.17</td>\n",
       "      <td>Friday</td>\n",
       "      <td>July</td>\n",
       "      <td>2017</td>\n",
       "      <td>последний</td>\n",
       "      <td>0.646552</td>\n",
       "      <td>0.301724</td>\n",
       "      <td>1.261</td>\n",
       "      <td>1.054718e+07</td>\n",
       "    </tr>\n",
       "    <tr>\n",
       "      <td>11380</td>\n",
       "      <td>санкт-петербург</td>\n",
       "      <td>3</td>\n",
       "      <td>8300000.0</td>\n",
       "      <td>92.0</td>\n",
       "      <td>51.52</td>\n",
       "      <td>15.64</td>\n",
       "      <td>2.65</td>\n",
       "      <td>0</td>\n",
       "      <td>2</td>\n",
       "      <td>5</td>\n",
       "      <td>True</td>\n",
       "      <td>False</td>\n",
       "      <td>False</td>\n",
       "      <td>2016-05-24</td>\n",
       "      <td>279.0</td>\n",
       "      <td>0</td>\n",
       "      <td>1917.0</td>\n",
       "      <td>2.0</td>\n",
       "      <td>205.0</td>\n",
       "      <td>1.0</td>\n",
       "      <td>730.0</td>\n",
       "      <td>22579.0</td>\n",
       "      <td>90217.39</td>\n",
       "      <td>Tuesday</td>\n",
       "      <td>May</td>\n",
       "      <td>2016</td>\n",
       "      <td>другой</td>\n",
       "      <td>0.560000</td>\n",
       "      <td>0.170000</td>\n",
       "      <td>1.917</td>\n",
       "      <td>4.329682e+06</td>\n",
       "    </tr>\n",
       "    <tr>\n",
       "      <td>18888</td>\n",
       "      <td>санкт-петербург</td>\n",
       "      <td>4</td>\n",
       "      <td>13000000.0</td>\n",
       "      <td>134.7</td>\n",
       "      <td>71.30</td>\n",
       "      <td>17.60</td>\n",
       "      <td>2.80</td>\n",
       "      <td>0</td>\n",
       "      <td>4</td>\n",
       "      <td>5</td>\n",
       "      <td>True</td>\n",
       "      <td>False</td>\n",
       "      <td>False</td>\n",
       "      <td>2016-05-31</td>\n",
       "      <td>NaN</td>\n",
       "      <td>11</td>\n",
       "      <td>1200.0</td>\n",
       "      <td>1.0</td>\n",
       "      <td>527.0</td>\n",
       "      <td>2.0</td>\n",
       "      <td>116.0</td>\n",
       "      <td>21643.0</td>\n",
       "      <td>96510.76</td>\n",
       "      <td>Tuesday</td>\n",
       "      <td>May</td>\n",
       "      <td>2016</td>\n",
       "      <td>другой</td>\n",
       "      <td>0.529324</td>\n",
       "      <td>0.130661</td>\n",
       "      <td>1.200</td>\n",
       "      <td>1.083333e+07</td>\n",
       "    </tr>\n",
       "    <tr>\n",
       "      <td>1268</td>\n",
       "      <td>санкт-петербург</td>\n",
       "      <td>2</td>\n",
       "      <td>5400000.0</td>\n",
       "      <td>46.0</td>\n",
       "      <td>28.00</td>\n",
       "      <td>7.50</td>\n",
       "      <td>2.65</td>\n",
       "      <td>0</td>\n",
       "      <td>1</td>\n",
       "      <td>5</td>\n",
       "      <td>True</td>\n",
       "      <td>False</td>\n",
       "      <td>False</td>\n",
       "      <td>2017-09-09</td>\n",
       "      <td>61.0</td>\n",
       "      <td>10</td>\n",
       "      <td>2043.0</td>\n",
       "      <td>2.0</td>\n",
       "      <td>377.0</td>\n",
       "      <td>1.0</td>\n",
       "      <td>411.0</td>\n",
       "      <td>21341.0</td>\n",
       "      <td>117391.30</td>\n",
       "      <td>Saturday</td>\n",
       "      <td>September</td>\n",
       "      <td>2017</td>\n",
       "      <td>первый</td>\n",
       "      <td>0.608696</td>\n",
       "      <td>0.163043</td>\n",
       "      <td>2.043</td>\n",
       "      <td>2.643172e+06</td>\n",
       "    </tr>\n",
       "  </tbody>\n",
       "</table>\n",
       "</div>"
      ],
      "text/plain": [
       "         locality_name  rooms_number  last_price  total_area_m2  \\\n",
       "18260  санкт-петербург             3   9000000.0           94.0   \n",
       "2257   санкт-петербург             4  13300000.0          116.0   \n",
       "11380  санкт-петербург             3   8300000.0           92.0   \n",
       "18888  санкт-петербург             4  13000000.0          134.7   \n",
       "1268   санкт-петербург             2   5400000.0           46.0   \n",
       "\n",
       "       living_area_m2  kitchen_area_m2  ceiling_height_m  balcony_number  \\\n",
       "18260           50.00            15.98              2.65               0   \n",
       "2257            75.00            35.00              2.65               0   \n",
       "11380           51.52            15.64              2.65               0   \n",
       "18888           71.30            17.60              2.80               0   \n",
       "1268            28.00             7.50              2.65               0   \n",
       "\n",
       "       floor  floors_number_in_house  is_apartment  is_studio  is_open_plan  \\\n",
       "18260      3                       5          True      False         False   \n",
       "2257       5                       5          True      False         False   \n",
       "11380      2                       5          True      False         False   \n",
       "18888      4                       5          True      False         False   \n",
       "1268       1                       5          True      False         False   \n",
       "\n",
       "      first_day_exposition  days_exposition  total_images  \\\n",
       "18260           2016-01-11            361.0             1   \n",
       "2257            2017-07-21            146.0             8   \n",
       "11380           2016-05-24            279.0             0   \n",
       "18888           2016-05-31              NaN            11   \n",
       "1268            2017-09-09             61.0            10   \n",
       "\n",
       "       city_center_distance_m  parks_numbers_within_3km  \\\n",
       "18260                  1828.0                       0.0   \n",
       "2257                   1261.0                       2.0   \n",
       "11380                  1917.0                       2.0   \n",
       "18888                  1200.0                       1.0   \n",
       "1268                   2043.0                       2.0   \n",
       "\n",
       "       park_nearest_distance_m  ponds_numbers_within_3km  \\\n",
       "18260                      NaN                       2.0   \n",
       "2257                     295.0                       3.0   \n",
       "11380                    205.0                       1.0   \n",
       "18888                    527.0                       2.0   \n",
       "1268                     377.0                       1.0   \n",
       "\n",
       "       pond_nearest_distance_m  airport_nearest_distance_m  price_per_m2  \\\n",
       "18260                     53.0                     21981.0      95744.68   \n",
       "2257                     366.0                     20170.0     114655.17   \n",
       "11380                    730.0                     22579.0      90217.39   \n",
       "18888                    116.0                     21643.0      96510.76   \n",
       "1268                     411.0                     21341.0     117391.30   \n",
       "\n",
       "       week_day      month  year floor_category  total_living_ratio  \\\n",
       "18260    Monday    January  2016         другой            0.531915   \n",
       "2257     Friday       July  2017      последний            0.646552   \n",
       "11380   Tuesday        May  2016         другой            0.560000   \n",
       "18888   Tuesday        May  2016         другой            0.529324   \n",
       "1268   Saturday  September  2017         первый            0.608696   \n",
       "\n",
       "       total_kitchen_ratio  city_center_distance_km  mean_price_per_km  \n",
       "18260             0.170000                    1.828       4.923414e+06  \n",
       "2257              0.301724                    1.261       1.054718e+07  \n",
       "11380             0.170000                    1.917       4.329682e+06  \n",
       "18888             0.130661                    1.200       1.083333e+07  \n",
       "1268              0.163043                    2.043       2.643172e+06  "
      ]
     },
     "execution_count": 67,
     "metadata": {},
     "output_type": "execute_result"
    }
   ],
   "source": [
    "df_new = df_new.query('city_center_distance_km < 3')\n",
    "df_new.sample(5)"
   ]
  },
  {
   "cell_type": "code",
   "execution_count": 68,
   "metadata": {
    "scrolled": true
   },
   "outputs": [
    {
     "name": "stdout",
     "output_type": "stream",
     "text": [
      "Средняя площадь: 82.2\n"
     ]
    },
    {
     "data": {
      "image/png": "[encoded data removed]",
      "text/plain": [
       "<Figure size 504x288 with 1 Axes>"
      ]
     },
     "metadata": {
      "needs_background": "light"
     },
     "output_type": "display_data"
    }
   ],
   "source": [
    "df_new.total_area_m2.hist(bins=100, figsize=(7,4))\n",
    "print('Средняя площадь:', df_new.total_area_m2.median())"
   ]
  },
  {
   "cell_type": "markdown",
   "metadata": {},
   "source": [
    "Распределение сместилось в правую сторону - средний размер квартиры стал больше"
   ]
  },
  {
   "cell_type": "code",
   "execution_count": 69,
   "metadata": {},
   "outputs": [
    {
     "name": "stdout",
     "output_type": "stream",
     "text": [
      "count    5.370000e+02\n",
      "mean     1.361146e+07\n",
      "std      2.127184e+07\n",
      "min      2.100000e+06\n",
      "25%      7.300000e+06\n",
      "50%      9.500000e+06\n",
      "75%      1.380000e+07\n",
      "max      3.300000e+08\n",
      "Name: last_price, dtype: float64\n",
      "Минимальная цена: 2100000.0\n",
      "Максимальная цена: 330000000.0\n",
      "Средняя цена: 9500000.0\n"
     ]
    },
    {
     "data": {
      "image/png": "[encoded data removed]",
      "text/plain": [
       "<Figure size 504x288 with 1 Axes>"
      ]
     },
     "metadata": {
      "needs_background": "light"
     },
     "output_type": "display_data"
    }
   ],
   "source": [
    "df_new.last_price.hist(bins=100, figsize=(7,4), range=(2100000, 13800000))\n",
    "print(df_new.last_price.describe())\n",
    "print('Минимальная цена:', df_new.last_price.min())\n",
    "print('Максимальная цена:', df_new.last_price.max())\n",
    "print('Средняя цена:', df_new.last_price.median())"
   ]
  },
  {
   "cell_type": "markdown",
   "metadata": {},
   "source": [
    "Стоимость квартир явно выше плюс очень много выбросов - квартир, которые стоят очень больших денег. Впрочем, ничего удивительного."
   ]
  },
  {
   "cell_type": "code",
   "execution_count": 70,
   "metadata": {},
   "outputs": [
    {
     "data": {
      "text/plain": [
       "<matplotlib.axes._subplots.AxesSubplot at 0x7f9ebe4141d0>"
      ]
     },
     "execution_count": 70,
     "metadata": {},
     "output_type": "execute_result"
    },
    {
     "data": {
      "image/png": "[encoded data removed]",
      "text/plain": [
       "<Figure size 504x288 with 1 Axes>"
      ]
     },
     "metadata": {
      "needs_background": "light"
     },
     "output_type": "display_data"
    }
   ],
   "source": [
    "df_new.rooms_number.hist(bins=100, figsize=(7,4))"
   ]
  },
  {
   "cell_type": "markdown",
   "metadata": {},
   "source": [
    "Значительно меньше однушек: данная зона представлена главным образом 2-3 комнатными квартирами. Сказывается огромное кол-во исторических зданий."
   ]
  },
  {
   "cell_type": "code",
   "execution_count": 71,
   "metadata": {},
   "outputs": [
    {
     "name": "stdout",
     "output_type": "stream",
     "text": [
      "Минимальная высота: 2.5\n",
      "Максимальная высота: 3.95\n",
      "Средняя высота: 3.0\n"
     ]
    },
    {
     "data": {
      "image/png": "[encoded data removed]",
      "text/plain": [
       "<Figure size 504x288 with 1 Axes>"
      ]
     },
     "metadata": {
      "needs_background": "light"
     },
     "output_type": "display_data"
    }
   ],
   "source": [
    "df_new.ceiling_height_m.hist(bins=100, figsize=(7,4))\n",
    "\n",
    "print('Минимальная высота:', df_new.ceiling_height_m.min())\n",
    "print('Максимальная высота:', df_new.ceiling_height_m.max())\n",
    "print('Средняя высота:', df_new.ceiling_height_m.median())"
   ]
  },
  {
   "cell_type": "markdown",
   "metadata": {},
   "source": [
    "Средняя высота потолков несколько выше, за счет большого кол-ва квартир, где показатель превышает 3 метра. Вероятнее всего, это связано с большим кол-вом \"люксовых\" квартир, расположенных в зоне. "
   ]
  },
  {
   "cell_type": "code",
   "execution_count": 72,
   "metadata": {},
   "outputs": [
    {
     "data": {
      "text/plain": [
       "array([[<matplotlib.axes._subplots.AxesSubplot object at 0x7f9ebe9abc90>,\n",
       "        <matplotlib.axes._subplots.AxesSubplot object at 0x7f9ebe2a9c90>,\n",
       "        <matplotlib.axes._subplots.AxesSubplot object at 0x7f9ebe262d50>,\n",
       "        <matplotlib.axes._subplots.AxesSubplot object at 0x7f9ebe217a50>],\n",
       "       [<matplotlib.axes._subplots.AxesSubplot object at 0x7f9ebe1d5d90>,\n",
       "        <matplotlib.axes._subplots.AxesSubplot object at 0x7f9ebe18da90>,\n",
       "        <matplotlib.axes._subplots.AxesSubplot object at 0x7f9ebe14bed0>,\n",
       "        <matplotlib.axes._subplots.AxesSubplot object at 0x7f9ebe101ad0>],\n",
       "       [<matplotlib.axes._subplots.AxesSubplot object at 0x7f9ebe10b610>,\n",
       "        <matplotlib.axes._subplots.AxesSubplot object at 0x7f9ebe0c1f90>,\n",
       "        <matplotlib.axes._subplots.AxesSubplot object at 0x7f9ebe0b7e50>,\n",
       "        <matplotlib.axes._subplots.AxesSubplot object at 0x7f9ebe06cb50>],\n",
       "       [<matplotlib.axes._subplots.AxesSubplot object at 0x7f9ebe02ce90>,\n",
       "        <matplotlib.axes._subplots.AxesSubplot object at 0x7f9ebdfe2b90>,\n",
       "        <matplotlib.axes._subplots.AxesSubplot object at 0x7f9ebdfa1ed0>,\n",
       "        <matplotlib.axes._subplots.AxesSubplot object at 0x7f9ebdf57bd0>]],\n",
       "      dtype=object)"
      ]
     },
     "execution_count": 72,
     "metadata": {},
     "output_type": "execute_result"
    },
    {
     "data": {
      "image/png": "[encoded data removed]",
      "text/plain": [
       "<Figure size 648x648 with 16 Axes>"
      ]
     },
     "metadata": {
      "needs_background": "light"
     },
     "output_type": "display_data"
    }
   ],
   "source": [
    "pd.plotting.scatter_matrix(df_new[['last_price', 'floor', 'rooms_number', 'city_center_distance_m']],\n",
    "                           figsize=(9, 9))"
   ]
  },
  {
   "cell_type": "markdown",
   "metadata": {},
   "source": [
    "Анализируя зависимость цены от числа комнат, этажа и удалённости от центра, можно отметить следующее:\n",
    "- Главным образом квартиры расположены на 1-6 этаже. Их стоимость распределена достаточно равномерно вне зависимости от этаже.  На лицо отсутствие многоэтажек, которых много на окраинах.\n",
    "- Касательно комнат: стоимость распределена также как и в общей выборке - ценовой пик за трехкомнатную квартиру и затем падение. Чем ближе к центру, тем дороже стоят квартиры, тогда как 4 и 5 комнатные, вероятнее всего, распологаются дальше от центра, где было больше возможности вместить новые здания с соответствующей планировкой.\n",
    "- Параметр - расстояние от центра. В пределах нашей центральной зоны стоимость распределена равномерно, со своими выбросами, которые должны быть связаны с еще более памятными зданиями, чем остальные."
   ]
  },
  {
   "cell_type": "code",
   "execution_count": 73,
   "metadata": {},
   "outputs": [
    {
     "data": {
      "text/plain": [
       "(0, 220000)"
      ]
     },
     "execution_count": 73,
     "metadata": {},
     "output_type": "execute_result"
    },
    {
     "data": {
      "image/png": "[encoded data removed]",
      "text/plain": [
       "<Figure size 360x360 with 1 Axes>"
      ]
     },
     "metadata": {
      "needs_background": "light"
     },
     "output_type": "display_data"
    }
   ],
   "source": [
    "df_new.boxplot('price_per_m2', by='week_day', rot=30, figsize=(5,5)).set_ylim(0,220000)"
   ]
  },
  {
   "cell_type": "code",
   "execution_count": 74,
   "metadata": {},
   "outputs": [
    {
     "data": {
      "text/plain": [
       "(0, 220000)"
      ]
     },
     "execution_count": 74,
     "metadata": {},
     "output_type": "execute_result"
    },
    {
     "data": {
      "image/png": "[encoded data removed]",
      "text/plain": [
       "<Figure size 432x432 with 1 Axes>"
      ]
     },
     "metadata": {
      "needs_background": "light"
     },
     "output_type": "display_data"
    }
   ],
   "source": [
    "df_new.boxplot('price_per_m2', by='month', rot=30, figsize=(6,6)).set_ylim(0,220000)"
   ]
  },
  {
   "cell_type": "code",
   "execution_count": 75,
   "metadata": {},
   "outputs": [
    {
     "data": {
      "text/plain": [
       "(0, 200000)"
      ]
     },
     "execution_count": 75,
     "metadata": {},
     "output_type": "execute_result"
    },
    {
     "data": {
      "image/png": "[encoded data removed]",
      "text/plain": [
       "<Figure size 360x360 with 1 Axes>"
      ]
     },
     "metadata": {
      "needs_background": "light"
     },
     "output_type": "display_data"
    }
   ],
   "source": [
    "df_new.boxplot('price_per_m2', by='year', figsize=(5,5)).set_ylim(0,200000)"
   ]
  },
  {
   "cell_type": "code",
   "execution_count": 76,
   "metadata": {},
   "outputs": [
    {
     "data": {
      "text/plain": [
       "(0, 200000)"
      ]
     },
     "execution_count": 76,
     "metadata": {},
     "output_type": "execute_result"
    },
    {
     "data": {
      "image/png": "[encoded data removed]",
      "text/plain": [
       "<Figure size 360x360 with 1 Axes>"
      ]
     },
     "metadata": {
      "needs_background": "light"
     },
     "output_type": "display_data"
    }
   ],
   "source": [
    "# проверим отсутствовали ли данные за 2014 год по этому сегменту в выборке до того как начали активно удалять данные\n",
    "\n",
    "df_query_centr = df.query('city_center_distance_m < 3000')\n",
    "df_query_centr.boxplot('price_per_m2', by='year', figsize=(5,5)).set_ylim(0,200000)"
   ]
  },
  {
   "cell_type": "markdown",
   "metadata": {},
   "source": [
    "Недвижимость в центральной зоне могут позволить себе главным образом обеспеченные люди, которые не так сильно страдают во время кризисных ситуаций. Как минимум, у них больше шансов накопить основательные резервы в крепкой валюте и даже в некоторой степени увеличить свои финансовые возможности. Именно поэтому средняя стоимость квартир в данном сегменте устойчиво росла каждый год."
   ]
  },
  {
   "cell_type": "markdown",
   "metadata": {},
   "source": [
    "### Шаг 5. Общий вывод <a id='5-bullet'></a>"
   ]
  },
  {
   "cell_type": "markdown",
   "metadata": {},
   "source": [
    "Выявлены следующие зависимости:\n",
    "- С ростом площади квартиры ее стоимость увеличивается\n",
    "- Стоимость квартир на первых и последних этажах гораздо ниже, чем в промежуточных. \n",
    "- Инфляция оказывает свое влияние на рост квартир: год от года они стоят дороже. Причем, если в целом по городу можно отметить некий застой цен в послекризисные годы, то в центральной зоне жилье продолжиро расти в цене.\n",
    "\n",
    "За пределами Санкт-Петербурга жилье стоит дешевле. Стоимость квартир в туристическом городе Пушкино гораздо выше, чем в более близких к Санкт-Петербургу населенных пунктах, представленных типовыми многоэтажками. \n",
    "\n",
    "В центральной зоне здания гораздо ниже, чем в среднем по городу: чем ближе к центру, тем меньше объявлений о продаже можно обнаружить. Тем не менее, их стоимость гораздо выше, причем этаж уже не имеет существенного значения. Историческая застройка накладывает отепчаток на кол-во комнат: однушки и квартиры с 4 или большим числом комнат почти отсутствуют."
   ]
  }
 ],
 "metadata": {
  "kernelspec": {
   "display_name": "Python 3",
   "language": "python",
   "name": "python3"
  },
  "language_info": {
   "codemirror_mode": {
    "name": "ipython",
    "version": 3
   },
   "file_extension": ".py",
   "mimetype": "text/x-python",
   "name": "python",
   "nbconvert_exporter": "python",
   "pygments_lexer": "ipython3",
   "version": "3.7.3"
  }
 },
 "nbformat": 4,
 "nbformat_minor": 2
}
