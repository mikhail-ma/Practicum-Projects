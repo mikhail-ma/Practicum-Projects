{
 "cells": [
  {
   "cell_type": "markdown",
   "metadata": {},
   "source": [
    "# Отток клиентов банка"
   ]
  },
  {
   "cell_type": "markdown",
   "metadata": {},
   "source": [
    "Из банка начали уходить клиенты. Задача - проанализировать исторические данные о поведении клиентов и спрогнозировать уйдёт ли клиент из банка в ближайшее время или нет.\n",
    "\n",
    "В рамках исследования будем использовать следующие алгоритмы:\n",
    "- DecisionTreeClassifier\n",
    "- RandomForestClassifier\n",
    "- LogisticRegression\n",
    "\n",
    "Построим модель с предельно большим значением *F1*-меры. Доведем метрику, как минимум, до 0.59. \n",
    "\n",
    "Важный момент - присутствует серьезный дисбаланс классов. Обучим модели без учета дисбаланса, а также учитывая особенности наших данных. Применим Upsampling и Downsampling - сравним результаты.\n",
    "\n",
    "### План решения задачи\n",
    "\n",
    "* [Шаг 1. Подготовка данных](#1-bullet)\n",
    "* [Шаг 2. Расчеты без учета дисбаланса](#2-bullet)\n",
    "* [Шаг 3. Борьба с дисбалансом](#3-bullet)\n",
    "* [Шаг 4. Тестирование модели](#4-bullet)\n"
   ]
  },
  {
   "cell_type": "code",
   "execution_count": 1,
   "metadata": {},
   "outputs": [],
   "source": [
    "import pandas as pd\n",
    "import matplotlib.pyplot as plt\n",
    "\n",
    "from sklearn.tree import DecisionTreeClassifier\n",
    "from sklearn.ensemble import RandomForestClassifier\n",
    "from sklearn.linear_model import LogisticRegression\n",
    "\n",
    "from sklearn.model_selection import train_test_split\n",
    "from sklearn.utils import shuffle\n",
    "from sklearn.preprocessing import OrdinalEncoder, StandardScaler\n",
    "from sklearn.metrics import f1_score, roc_auc_score\n",
    "\n",
    "import warnings\n",
    "warnings.filterwarnings(\"ignore\")"
   ]
  },
  {
   "cell_type": "markdown",
   "metadata": {},
   "source": [
    "# Шаг 1. Подготовка данных  <a id='1-bullet'></a>"
   ]
  },
  {
   "cell_type": "code",
   "execution_count": 2,
   "metadata": {},
   "outputs": [
    {
     "name": "stdout",
     "output_type": "stream",
     "text": [
      "Размер датасета:  (10000, 14)\n"
     ]
    },
    {
     "data": {
      "text/html": [
       "<div>\n",
       "<style scoped>\n",
       "    .dataframe tbody tr th:only-of-type {\n",
       "        vertical-align: middle;\n",
       "    }\n",
       "\n",
       "    .dataframe tbody tr th {\n",
       "        vertical-align: top;\n",
       "    }\n",
       "\n",
       "    .dataframe thead th {\n",
       "        text-align: right;\n",
       "    }\n",
       "</style>\n",
       "<table border=\"1\" class=\"dataframe\">\n",
       "  <thead>\n",
       "    <tr style=\"text-align: right;\">\n",
       "      <th></th>\n",
       "      <th>RowNumber</th>\n",
       "      <th>CustomerId</th>\n",
       "      <th>Surname</th>\n",
       "      <th>CreditScore</th>\n",
       "      <th>Geography</th>\n",
       "      <th>Gender</th>\n",
       "      <th>Age</th>\n",
       "      <th>Tenure</th>\n",
       "      <th>Balance</th>\n",
       "      <th>NumOfProducts</th>\n",
       "      <th>HasCrCard</th>\n",
       "      <th>IsActiveMember</th>\n",
       "      <th>EstimatedSalary</th>\n",
       "      <th>Exited</th>\n",
       "    </tr>\n",
       "  </thead>\n",
       "  <tbody>\n",
       "    <tr>\n",
       "      <td>0</td>\n",
       "      <td>1</td>\n",
       "      <td>15634602</td>\n",
       "      <td>Hargrave</td>\n",
       "      <td>619</td>\n",
       "      <td>France</td>\n",
       "      <td>Female</td>\n",
       "      <td>42</td>\n",
       "      <td>2.0</td>\n",
       "      <td>0.00</td>\n",
       "      <td>1</td>\n",
       "      <td>1</td>\n",
       "      <td>1</td>\n",
       "      <td>101348.88</td>\n",
       "      <td>1</td>\n",
       "    </tr>\n",
       "    <tr>\n",
       "      <td>1</td>\n",
       "      <td>2</td>\n",
       "      <td>15647311</td>\n",
       "      <td>Hill</td>\n",
       "      <td>608</td>\n",
       "      <td>Spain</td>\n",
       "      <td>Female</td>\n",
       "      <td>41</td>\n",
       "      <td>1.0</td>\n",
       "      <td>83807.86</td>\n",
       "      <td>1</td>\n",
       "      <td>0</td>\n",
       "      <td>1</td>\n",
       "      <td>112542.58</td>\n",
       "      <td>0</td>\n",
       "    </tr>\n",
       "    <tr>\n",
       "      <td>2</td>\n",
       "      <td>3</td>\n",
       "      <td>15619304</td>\n",
       "      <td>Onio</td>\n",
       "      <td>502</td>\n",
       "      <td>France</td>\n",
       "      <td>Female</td>\n",
       "      <td>42</td>\n",
       "      <td>8.0</td>\n",
       "      <td>159660.80</td>\n",
       "      <td>3</td>\n",
       "      <td>1</td>\n",
       "      <td>0</td>\n",
       "      <td>113931.57</td>\n",
       "      <td>1</td>\n",
       "    </tr>\n",
       "    <tr>\n",
       "      <td>3</td>\n",
       "      <td>4</td>\n",
       "      <td>15701354</td>\n",
       "      <td>Boni</td>\n",
       "      <td>699</td>\n",
       "      <td>France</td>\n",
       "      <td>Female</td>\n",
       "      <td>39</td>\n",
       "      <td>1.0</td>\n",
       "      <td>0.00</td>\n",
       "      <td>2</td>\n",
       "      <td>0</td>\n",
       "      <td>0</td>\n",
       "      <td>93826.63</td>\n",
       "      <td>0</td>\n",
       "    </tr>\n",
       "    <tr>\n",
       "      <td>4</td>\n",
       "      <td>5</td>\n",
       "      <td>15737888</td>\n",
       "      <td>Mitchell</td>\n",
       "      <td>850</td>\n",
       "      <td>Spain</td>\n",
       "      <td>Female</td>\n",
       "      <td>43</td>\n",
       "      <td>2.0</td>\n",
       "      <td>125510.82</td>\n",
       "      <td>1</td>\n",
       "      <td>1</td>\n",
       "      <td>1</td>\n",
       "      <td>79084.10</td>\n",
       "      <td>0</td>\n",
       "    </tr>\n",
       "  </tbody>\n",
       "</table>\n",
       "</div>"
      ],
      "text/plain": [
       "   RowNumber  CustomerId   Surname  CreditScore Geography  Gender  Age  \\\n",
       "0          1    15634602  Hargrave          619    France  Female   42   \n",
       "1          2    15647311      Hill          608     Spain  Female   41   \n",
       "2          3    15619304      Onio          502    France  Female   42   \n",
       "3          4    15701354      Boni          699    France  Female   39   \n",
       "4          5    15737888  Mitchell          850     Spain  Female   43   \n",
       "\n",
       "   Tenure    Balance  NumOfProducts  HasCrCard  IsActiveMember  \\\n",
       "0     2.0       0.00              1          1               1   \n",
       "1     1.0   83807.86              1          0               1   \n",
       "2     8.0  159660.80              3          1               0   \n",
       "3     1.0       0.00              2          0               0   \n",
       "4     2.0  125510.82              1          1               1   \n",
       "\n",
       "   EstimatedSalary  Exited  \n",
       "0        101348.88       1  \n",
       "1        112542.58       0  \n",
       "2        113931.57       1  \n",
       "3         93826.63       0  \n",
       "4         79084.10       0  "
      ]
     },
     "execution_count": 2,
     "metadata": {},
     "output_type": "execute_result"
    }
   ],
   "source": [
    "df = pd.read_csv('/datasets/Churn.csv')\n",
    "print('Размер датасета: ', df.shape)\n",
    "df.head()"
   ]
  },
  {
   "cell_type": "code",
   "execution_count": 3,
   "metadata": {},
   "outputs": [
    {
     "name": "stdout",
     "output_type": "stream",
     "text": [
      "<class 'pandas.core.frame.DataFrame'>\n",
      "RangeIndex: 10000 entries, 0 to 9999\n",
      "Data columns (total 14 columns):\n",
      "RowNumber          10000 non-null int64\n",
      "CustomerId         10000 non-null int64\n",
      "Surname            10000 non-null object\n",
      "CreditScore        10000 non-null int64\n",
      "Geography          10000 non-null object\n",
      "Gender             10000 non-null object\n",
      "Age                10000 non-null int64\n",
      "Tenure             9091 non-null float64\n",
      "Balance            10000 non-null float64\n",
      "NumOfProducts      10000 non-null int64\n",
      "HasCrCard          10000 non-null int64\n",
      "IsActiveMember     10000 non-null int64\n",
      "EstimatedSalary    10000 non-null float64\n",
      "Exited             10000 non-null int64\n",
      "dtypes: float64(3), int64(8), object(3)\n",
      "memory usage: 1.1+ MB\n"
     ]
    }
   ],
   "source": [
    "df.info()"
   ]
  },
  {
   "cell_type": "code",
   "execution_count": 4,
   "metadata": {},
   "outputs": [
    {
     "data": {
      "text/plain": [
       "10000"
      ]
     },
     "execution_count": 4,
     "metadata": {},
     "output_type": "execute_result"
    }
   ],
   "source": [
    "# действительно Ли все записи уникальные\n",
    "\n",
    "len(df.CustomerId.unique())"
   ]
  },
  {
   "cell_type": "code",
   "execution_count": 5,
   "metadata": {},
   "outputs": [
    {
     "data": {
      "text/plain": [
       "France     5014\n",
       "Germany    2509\n",
       "Spain      2477\n",
       "Name: Geography, dtype: int64"
      ]
     },
     "execution_count": 5,
     "metadata": {},
     "output_type": "execute_result"
    }
   ],
   "source": [
    "# посмтрим из каких стран клиенты\n",
    "\n",
    "df.Geography.value_counts()"
   ]
  },
  {
   "cell_type": "code",
   "execution_count": 6,
   "metadata": {},
   "outputs": [
    {
     "name": "stdout",
     "output_type": "stream",
     "text": [
      "Кол-во пропусков: 909\n",
      "Кол-во пропусков: 0\n"
     ]
    }
   ],
   "source": [
    "# Здесь есть пропуски - предположим, что пропуски возникли из-за того что недвижимость у клиента отсутствует и заполним нулями\n",
    "# плюс поменяем формат данных на int\n",
    "\n",
    "print('Кол-во пропусков:',df.Tenure.isna().sum())\n",
    "df.Tenure.fillna(0, inplace=True)\n",
    "print('Кол-во пропусков:',df.Tenure.isna().sum())"
   ]
  },
  {
   "cell_type": "code",
   "execution_count": 7,
   "metadata": {
    "scrolled": true
   },
   "outputs": [
    {
     "data": {
      "image/png": "[encoded data removed]",
      "text/plain": [
       "<Figure size 432x288 with 1 Axes>"
      ]
     },
     "metadata": {
      "needs_background": "light"
     },
     "output_type": "display_data"
    }
   ],
   "source": [
    "# Посмотрим разброс по возросту\n",
    "\n",
    "df.hist('Age')\n",
    "plt.show()"
   ]
  },
  {
   "cell_type": "code",
   "execution_count": 8,
   "metadata": {},
   "outputs": [
    {
     "name": "stdout",
     "output_type": "stream",
     "text": [
      "Число клиентов с нулевым балансом:  3617\n"
     ]
    },
    {
     "data": {
      "image/png": "[encoded data removed]",
      "text/plain": [
       "<Figure size 432x288 with 1 Axes>"
      ]
     },
     "metadata": {
      "needs_background": "light"
     },
     "output_type": "display_data"
    }
   ],
   "source": [
    "# Посмотрим балансы счетов\n",
    "\n",
    "print('Число клиентов с нулевым балансом: ', len(df.query('Balance ==0')))\n",
    "\n",
    "df.hist('Balance')\n",
    "plt.show()"
   ]
  },
  {
   "cell_type": "code",
   "execution_count": 9,
   "metadata": {},
   "outputs": [
    {
     "data": {
      "text/html": [
       "<div>\n",
       "<style scoped>\n",
       "    .dataframe tbody tr th:only-of-type {\n",
       "        vertical-align: middle;\n",
       "    }\n",
       "\n",
       "    .dataframe tbody tr th {\n",
       "        vertical-align: top;\n",
       "    }\n",
       "\n",
       "    .dataframe thead th {\n",
       "        text-align: right;\n",
       "    }\n",
       "</style>\n",
       "<table border=\"1\" class=\"dataframe\">\n",
       "  <thead>\n",
       "    <tr style=\"text-align: right;\">\n",
       "      <th></th>\n",
       "      <th>RowNumber</th>\n",
       "      <th>CustomerId</th>\n",
       "      <th>Surname</th>\n",
       "      <th>CreditScore</th>\n",
       "      <th>Geography</th>\n",
       "      <th>Gender</th>\n",
       "      <th>Age</th>\n",
       "      <th>Tenure</th>\n",
       "      <th>Balance</th>\n",
       "      <th>NumOfProducts</th>\n",
       "      <th>HasCrCard</th>\n",
       "      <th>IsActiveMember</th>\n",
       "      <th>EstimatedSalary</th>\n",
       "      <th>Exited</th>\n",
       "    </tr>\n",
       "  </thead>\n",
       "  <tbody>\n",
       "    <tr>\n",
       "      <td>4174</td>\n",
       "      <td>4175</td>\n",
       "      <td>15810593</td>\n",
       "      <td>Forbes</td>\n",
       "      <td>568</td>\n",
       "      <td>France</td>\n",
       "      <td>Male</td>\n",
       "      <td>51</td>\n",
       "      <td>4.0</td>\n",
       "      <td>0.0</td>\n",
       "      <td>3</td>\n",
       "      <td>1</td>\n",
       "      <td>1</td>\n",
       "      <td>66586.56</td>\n",
       "      <td>0</td>\n",
       "    </tr>\n",
       "    <tr>\n",
       "      <td>7744</td>\n",
       "      <td>7745</td>\n",
       "      <td>15806822</td>\n",
       "      <td>Myers</td>\n",
       "      <td>739</td>\n",
       "      <td>France</td>\n",
       "      <td>Female</td>\n",
       "      <td>36</td>\n",
       "      <td>0.0</td>\n",
       "      <td>0.0</td>\n",
       "      <td>2</td>\n",
       "      <td>0</td>\n",
       "      <td>0</td>\n",
       "      <td>133465.57</td>\n",
       "      <td>0</td>\n",
       "    </tr>\n",
       "    <tr>\n",
       "      <td>5667</td>\n",
       "      <td>5668</td>\n",
       "      <td>15719017</td>\n",
       "      <td>Donaldson</td>\n",
       "      <td>672</td>\n",
       "      <td>France</td>\n",
       "      <td>Female</td>\n",
       "      <td>34</td>\n",
       "      <td>8.0</td>\n",
       "      <td>0.0</td>\n",
       "      <td>2</td>\n",
       "      <td>1</td>\n",
       "      <td>1</td>\n",
       "      <td>16245.25</td>\n",
       "      <td>0</td>\n",
       "    </tr>\n",
       "    <tr>\n",
       "      <td>1209</td>\n",
       "      <td>1210</td>\n",
       "      <td>15715667</td>\n",
       "      <td>Sorokina</td>\n",
       "      <td>850</td>\n",
       "      <td>France</td>\n",
       "      <td>Female</td>\n",
       "      <td>32</td>\n",
       "      <td>7.0</td>\n",
       "      <td>0.0</td>\n",
       "      <td>2</td>\n",
       "      <td>0</td>\n",
       "      <td>0</td>\n",
       "      <td>155227.00</td>\n",
       "      <td>0</td>\n",
       "    </tr>\n",
       "    <tr>\n",
       "      <td>1484</td>\n",
       "      <td>1485</td>\n",
       "      <td>15607713</td>\n",
       "      <td>Kaeppel</td>\n",
       "      <td>850</td>\n",
       "      <td>Spain</td>\n",
       "      <td>Female</td>\n",
       "      <td>29</td>\n",
       "      <td>1.0</td>\n",
       "      <td>0.0</td>\n",
       "      <td>2</td>\n",
       "      <td>1</td>\n",
       "      <td>1</td>\n",
       "      <td>197996.65</td>\n",
       "      <td>0</td>\n",
       "    </tr>\n",
       "  </tbody>\n",
       "</table>\n",
       "</div>"
      ],
      "text/plain": [
       "      RowNumber  CustomerId    Surname  CreditScore Geography  Gender  Age  \\\n",
       "4174       4175    15810593     Forbes          568    France    Male   51   \n",
       "7744       7745    15806822      Myers          739    France  Female   36   \n",
       "5667       5668    15719017  Donaldson          672    France  Female   34   \n",
       "1209       1210    15715667   Sorokina          850    France  Female   32   \n",
       "1484       1485    15607713    Kaeppel          850     Spain  Female   29   \n",
       "\n",
       "      Tenure  Balance  NumOfProducts  HasCrCard  IsActiveMember  \\\n",
       "4174     4.0      0.0              3          1               1   \n",
       "7744     0.0      0.0              2          0               0   \n",
       "5667     8.0      0.0              2          1               1   \n",
       "1209     7.0      0.0              2          0               0   \n",
       "1484     1.0      0.0              2          1               1   \n",
       "\n",
       "      EstimatedSalary  Exited  \n",
       "4174         66586.56       0  \n",
       "7744        133465.57       0  \n",
       "5667         16245.25       0  \n",
       "1209        155227.00       0  \n",
       "1484        197996.65       0  "
      ]
     },
     "execution_count": 9,
     "metadata": {},
     "output_type": "execute_result"
    }
   ],
   "source": [
    "# На первый взгляд клиенты с нулевым балансом не отличаются от остальных\n",
    "\n",
    "df.query('Balance ==0').sample(5)"
   ]
  },
  {
   "cell_type": "code",
   "execution_count": 10,
   "metadata": {},
   "outputs": [
    {
     "data": {
      "image/png": "[encoded data removed]",
      "text/plain": [
       "<Figure size 432x288 with 1 Axes>"
      ]
     },
     "metadata": {
      "needs_background": "light"
     },
     "output_type": "display_data"
    }
   ],
   "source": [
    "# По всей видимости зарплата расчитывалась на основании другой модели, а не заполнялась вручную\n",
    "\n",
    "df.boxplot('EstimatedSalary')\n",
    "plt.show()"
   ]
  },
  {
   "cell_type": "code",
   "execution_count": 11,
   "metadata": {},
   "outputs": [
    {
     "data": {
      "text/html": [
       "<div>\n",
       "<style scoped>\n",
       "    .dataframe tbody tr th:only-of-type {\n",
       "        vertical-align: middle;\n",
       "    }\n",
       "\n",
       "    .dataframe tbody tr th {\n",
       "        vertical-align: top;\n",
       "    }\n",
       "\n",
       "    .dataframe thead th {\n",
       "        text-align: right;\n",
       "    }\n",
       "</style>\n",
       "<table border=\"1\" class=\"dataframe\">\n",
       "  <thead>\n",
       "    <tr style=\"text-align: right;\">\n",
       "      <th></th>\n",
       "      <th>CreditScore</th>\n",
       "      <th>Geography</th>\n",
       "      <th>Gender</th>\n",
       "      <th>Age</th>\n",
       "      <th>Tenure</th>\n",
       "      <th>Balance</th>\n",
       "      <th>NumOfProducts</th>\n",
       "      <th>HasCrCard</th>\n",
       "      <th>IsActiveMember</th>\n",
       "      <th>EstimatedSalary</th>\n",
       "      <th>Exited</th>\n",
       "    </tr>\n",
       "  </thead>\n",
       "  <tbody>\n",
       "    <tr>\n",
       "      <td>0</td>\n",
       "      <td>619</td>\n",
       "      <td>France</td>\n",
       "      <td>Female</td>\n",
       "      <td>42</td>\n",
       "      <td>2.0</td>\n",
       "      <td>0.00</td>\n",
       "      <td>1</td>\n",
       "      <td>1</td>\n",
       "      <td>1</td>\n",
       "      <td>101348.88</td>\n",
       "      <td>1</td>\n",
       "    </tr>\n",
       "    <tr>\n",
       "      <td>1</td>\n",
       "      <td>608</td>\n",
       "      <td>Spain</td>\n",
       "      <td>Female</td>\n",
       "      <td>41</td>\n",
       "      <td>1.0</td>\n",
       "      <td>83807.86</td>\n",
       "      <td>1</td>\n",
       "      <td>0</td>\n",
       "      <td>1</td>\n",
       "      <td>112542.58</td>\n",
       "      <td>0</td>\n",
       "    </tr>\n",
       "    <tr>\n",
       "      <td>2</td>\n",
       "      <td>502</td>\n",
       "      <td>France</td>\n",
       "      <td>Female</td>\n",
       "      <td>42</td>\n",
       "      <td>8.0</td>\n",
       "      <td>159660.80</td>\n",
       "      <td>3</td>\n",
       "      <td>1</td>\n",
       "      <td>0</td>\n",
       "      <td>113931.57</td>\n",
       "      <td>1</td>\n",
       "    </tr>\n",
       "    <tr>\n",
       "      <td>3</td>\n",
       "      <td>699</td>\n",
       "      <td>France</td>\n",
       "      <td>Female</td>\n",
       "      <td>39</td>\n",
       "      <td>1.0</td>\n",
       "      <td>0.00</td>\n",
       "      <td>2</td>\n",
       "      <td>0</td>\n",
       "      <td>0</td>\n",
       "      <td>93826.63</td>\n",
       "      <td>0</td>\n",
       "    </tr>\n",
       "    <tr>\n",
       "      <td>4</td>\n",
       "      <td>850</td>\n",
       "      <td>Spain</td>\n",
       "      <td>Female</td>\n",
       "      <td>43</td>\n",
       "      <td>2.0</td>\n",
       "      <td>125510.82</td>\n",
       "      <td>1</td>\n",
       "      <td>1</td>\n",
       "      <td>1</td>\n",
       "      <td>79084.10</td>\n",
       "      <td>0</td>\n",
       "    </tr>\n",
       "  </tbody>\n",
       "</table>\n",
       "</div>"
      ],
      "text/plain": [
       "   CreditScore Geography  Gender  Age  Tenure    Balance  NumOfProducts  \\\n",
       "0          619    France  Female   42     2.0       0.00              1   \n",
       "1          608     Spain  Female   41     1.0   83807.86              1   \n",
       "2          502    France  Female   42     8.0  159660.80              3   \n",
       "3          699    France  Female   39     1.0       0.00              2   \n",
       "4          850     Spain  Female   43     2.0  125510.82              1   \n",
       "\n",
       "   HasCrCard  IsActiveMember  EstimatedSalary  Exited  \n",
       "0          1               1        101348.88       1  \n",
       "1          0               1        112542.58       0  \n",
       "2          1               0        113931.57       1  \n",
       "3          0               0         93826.63       0  \n",
       "4          1               1         79084.10       0  "
      ]
     },
     "execution_count": 11,
     "metadata": {},
     "output_type": "execute_result"
    }
   ],
   "source": [
    "# Эти признаки нам не понадобятся, так как они не имеют предсказательной силы - удалим\n",
    "\n",
    "extra_features = ['RowNumber', 'CustomerId', 'Surname']\n",
    "df = df.drop(extra_features, axis=1)\n",
    "df.head()"
   ]
  },
  {
   "cell_type": "code",
   "execution_count": 12,
   "metadata": {},
   "outputs": [
    {
     "data": {
      "text/plain": [
       "<matplotlib.axes._subplots.AxesSubplot at 0x7fcfa48246d0>"
      ]
     },
     "execution_count": 12,
     "metadata": {},
     "output_type": "execute_result"
    },
    {
     "data": {
      "image/png": "[encoded data removed]",
      "text/plain": [
       "<Figure size 432x288 with 1 Axes>"
      ]
     },
     "metadata": {
      "needs_background": "light"
     },
     "output_type": "display_data"
    }
   ],
   "source": [
    "# Целевой признак не сбалансирован (80% против 20%) - необходимо иметь это ввиду\n",
    "\n",
    "df.Exited.value_counts(normalize=True).plot(kind='bar')"
   ]
  },
  {
   "cell_type": "markdown",
   "metadata": {},
   "source": [
    "Промежуточные итоги:\n",
    "- в датасете представлены клиенты из трех стран: Франция (50%), Германия (25%) и Испания (25%)\n",
    "- присутствует много сетов нулевым балансом, но это абсолютно нормально, например, клиент может получать зарплату и переводить на другой счет или вносить раз в месяц плату по ипотеке\n",
    "- удалили лишние фичи, которые могут помешать анализу RowNumber, CustomerId, Surname\n",
    "- выяснили, что объектов нулевого класса в 4 раза больше, чем первого"
   ]
  },
  {
   "cell_type": "markdown",
   "metadata": {},
   "source": [
    "# 2. Модели без учета дисбаланса <a id='2-bullet'></a>\n",
    "\n",
    "Для начала построим модели без учета дисбаланса"
   ]
  },
  {
   "cell_type": "code",
   "execution_count": 13,
   "metadata": {},
   "outputs": [],
   "source": [
    "# Для автоматизации процесса объявим несколько функций\n",
    "\n",
    "rnd_state = 222\n",
    "\n",
    "def tf(df, target_column='Exited'):     # облегчим процесс вычленения таргета\n",
    "    target = df[target_column]\n",
    "    features = df.drop(target_column, axis=1)\n",
    "    return target, features"
   ]
  },
  {
   "cell_type": "code",
   "execution_count": 14,
   "metadata": {},
   "outputs": [],
   "source": [
    "# Все по методичке: 60% на обучающую выборку, 20% на валидационную и 20% на тестовую\n",
    "# Плюс будем масштабировать количественные признаки\n",
    "\n",
    "def split_data(features, target):\n",
    "\n",
    "    features_train, features_valid, target_train, target_valid = train_test_split(\n",
    "        features, target, test_size=0.4, random_state=rnd_state)\n",
    "\n",
    "    features_valid, features_test, target_valid, target_test = train_test_split(\n",
    "        features_valid, target_valid, test_size=0.5, random_state=rnd_state)\n",
    "    \n",
    "    scaler = StandardScaler()\n",
    "    numeric = ['CreditScore', 'Age', 'Tenure', 'Balance', 'NumOfProducts', 'EstimatedSalary']\n",
    "    scaler.fit(features_train[numeric])\n",
    "    \n",
    "    features_train[numeric] = scaler.transform(features_train[numeric])\n",
    "    features_valid[numeric] = scaler.transform(features_valid[numeric])\n",
    "    features_test[numeric] = scaler.transform(features_test[numeric])\n",
    "    \n",
    "    return features_train, features_valid, features_test, target_train, target_valid, target_test"
   ]
  },
  {
   "cell_type": "code",
   "execution_count": 15,
   "metadata": {},
   "outputs": [],
   "source": [
    "# Учтем, что надо эксперементировать с upsample и downsample, рассчитывать f-1 меру\n",
    "\n",
    "def train_and_predict(df, model, prefix='', samplefunc=None):\n",
    "\n",
    "    target, features = tf(df)\n",
    "    features_train, features_valid, features_test, target_train, target_valid, target_test = split_data(features, target)\n",
    "    \n",
    "    if samplefunc:\n",
    "        features_train, target_train = samplefunc(features_train, target_train)\n",
    "    \n",
    "    model.fit(features_train, target_train)\n",
    "    predicted_valid = model.predict(features_valid)\n",
    "    print(f'{prefix}F1-мера на валидационной выборке: {f1_score(target_valid, predicted_valid)}')\n",
    "    \n",
    "    probabilities_test = model.predict_proba(features_test)\n",
    "    probabilities_one_test = probabilities_test[:, 1]\n",
    "    print(f'{prefix}ROC-AUC на валидационной выборке: {roc_auc_score(target_test, probabilities_one_test)}')\n",
    "    \n",
    "    print('') \n",
    "    \n",
    "    return model"
   ]
  },
  {
   "cell_type": "markdown",
   "metadata": {},
   "source": [
    "### Логистическая регрессия"
   ]
  },
  {
   "cell_type": "code",
   "execution_count": 16,
   "metadata": {},
   "outputs": [
    {
     "name": "stdout",
     "output_type": "stream",
     "text": [
      "F1-мера на валидационной выборке: 0.3174061433447099\n",
      "ROC-AUC на валидационной выборке: 0.7673650083985729\n",
      "\n"
     ]
    },
    {
     "data": {
      "text/plain": [
       "LogisticRegression(C=1.0, class_weight=None, dual=False, fit_intercept=True,\n",
       "                   intercept_scaling=1, l1_ratio=None, max_iter=100,\n",
       "                   multi_class='warn', n_jobs=None, penalty='l2',\n",
       "                   random_state=222, solver='liblinear', tol=0.0001, verbose=0,\n",
       "                   warm_start=False)"
      ]
     },
     "execution_count": 16,
     "metadata": {},
     "output_type": "execute_result"
    }
   ],
   "source": [
    "df_ohe = pd.get_dummies(df, drop_first=True)\n",
    "model = LogisticRegression(solver='liblinear', random_state=rnd_state)\n",
    "train_and_predict(df_ohe, model)"
   ]
  },
  {
   "cell_type": "markdown",
   "metadata": {},
   "source": [
    "### Дерево классификации"
   ]
  },
  {
   "cell_type": "code",
   "execution_count": 17,
   "metadata": {},
   "outputs": [
    {
     "name": "stdout",
     "output_type": "stream",
     "text": [
      "2:\tF1-мера на валидационной выборке: 0.5217391304347826\n",
      "2:\tROC-AUC на валидационной выборке: 0.7542795151526537\n",
      "\n",
      "4:\tF1-мера на валидационной выборке: 0.4088397790055249\n",
      "4:\tROC-AUC на валидационной выборке: 0.822755671189216\n",
      "\n",
      "6:\tF1-мера на валидационной выборке: 0.5497896213183732\n",
      "6:\tROC-AUC на валидационной выборке: 0.831547168984297\n",
      "\n",
      "8:\tF1-мера на валидационной выборке: 0.5470085470085471\n",
      "8:\tROC-AUC на валидационной выборке: 0.8181579808359124\n",
      "\n",
      "10:\tF1-мера на валидационной выборке: 0.5132275132275133\n",
      "10:\tROC-AUC на валидационной выборке: 0.7521732188059156\n",
      "\n",
      "12:\tF1-мера на валидационной выборке: 0.4916773367477592\n",
      "12:\tROC-AUC на валидационной выборке: 0.7138794832177258\n",
      "\n",
      "14:\tF1-мера на валидационной выборке: 0.473876063183475\n",
      "14:\tROC-AUC на валидационной выборке: 0.6942019320631372\n",
      "\n",
      "16:\tF1-мера на валидационной выборке: 0.46407538280329796\n",
      "16:\tROC-AUC на валидационной выборке: 0.6856718623541991\n",
      "\n",
      "18:\tF1-мера на валидационной выборке: 0.46543778801843316\n",
      "18:\tROC-AUC на валидационной выборке: 0.6913097860203288\n",
      "\n",
      "20:\tF1-мера на валидационной выборке: 0.44340723453908987\n",
      "20:\tROC-AUC на валидационной выборке: 0.6806280222730468\n",
      "\n"
     ]
    }
   ],
   "source": [
    "encoder = OrdinalEncoder()\n",
    "df[[\"Geography\",\"Gender\", \"HasCrCard\", \"IsActiveMember\", \"Exited\"]] = encoder.fit_transform(\n",
    "    df[[\"Geography\",\"Gender\", \"HasCrCard\", \"IsActiveMember\", \"Exited\"]])\n",
    "\n",
    "\n",
    "for max_depth in range(2, 21, 2):\n",
    "    model = DecisionTreeClassifier(max_depth=max_depth, random_state=rnd_state)\n",
    "    train_and_predict(df, model, prefix=f'{max_depth}:\\t')     "
   ]
  },
  {
   "cell_type": "markdown",
   "metadata": {},
   "source": [
    "Лучшая F1 мера у дерева глубиной - 6: 0.5497\n",
    "\n",
    "### Случайный лес"
   ]
  },
  {
   "cell_type": "code",
   "execution_count": 18,
   "metadata": {},
   "outputs": [
    {
     "name": "stdout",
     "output_type": "stream",
     "text": [
      "n_estimators = 10:\tF1-мера на валидационной выборке: 0.512987012987013\n",
      "n_estimators = 10:\tROC-AUC на валидационной выборке: 0.8454482552414766\n",
      "\n",
      "n_estimators = 20:\tF1-мера на валидационной выборке: 0.5032679738562091\n",
      "n_estimators = 20:\tROC-AUC на валидационной выборке: 0.8482910899985754\n",
      "\n",
      "n_estimators = 30:\tF1-мера на валидационной выборке: 0.5032258064516129\n",
      "n_estimators = 30:\tROC-AUC на валидационной выборке: 0.848888304458836\n",
      "\n",
      "n_estimators = 40:\tF1-мера на валидационной выборке: 0.5136436597110755\n",
      "n_estimators = 40:\tROC-AUC на валидационной выборке: 0.8495661389576376\n",
      "\n",
      "n_estimators = 50:\tF1-мера на валидационной выборке: 0.512\n",
      "n_estimators = 50:\tROC-AUC на валидационной выборке: 0.8495043041707957\n",
      "\n",
      "n_estimators = 60:\tF1-мера на валидационной выборке: 0.5136436597110755\n",
      "n_estimators = 60:\tROC-AUC на валидационной выборке: 0.8494510792909821\n",
      "\n",
      "n_estimators = 70:\tF1-мера на валидационной выборке: 0.5176848874598071\n",
      "n_estimators = 70:\tROC-AUC на валидационной выборке: 0.8506173303339547\n",
      "\n",
      "n_estimators = 80:\tF1-мера на валидационной выборке: 0.5161290322580645\n",
      "n_estimators = 80:\tROC-AUC на валидационной выборке: 0.8504075616899839\n",
      "\n",
      "n_estimators = 90:\tF1-мера на валидационной выборке: 0.5144694533762058\n",
      "n_estimators = 90:\tROC-AUC на валидационной выборке: 0.8501977930460128\n",
      "\n",
      "n_estimators = 100:\tF1-мера на валидационной выборке: 0.5168539325842697\n",
      "n_estimators = 100:\tROC-AUC на валидационной выборке: 0.8498267843249597\n",
      "\n",
      "n_estimators = 110:\tF1-мера на валидационной выборке: 0.5192307692307693\n",
      "n_estimators = 110:\tROC-AUC на валидационной выборке: 0.8498792264859527\n",
      "\n",
      "n_estimators = 120:\tF1-мера на валидационной выборке: 0.5184000000000001\n",
      "n_estimators = 120:\tROC-AUC на валидационной выборке: 0.8497539914746265\n",
      "\n",
      "n_estimators = 130:\tF1-мера на валидационной выборке: 0.5192307692307693\n",
      "n_estimators = 130:\tROC-AUC на валидационной выборке: 0.8504913126038081\n",
      "\n",
      "n_estimators = 140:\tF1-мера на валидационной выборке: 0.5200642054574639\n",
      "n_estimators = 140:\tROC-AUC на валидационной выборке: 0.8509703365221298\n",
      "\n",
      "n_estimators = 150:\tF1-мера на валидационной выборке: 0.5217391304347826\n",
      "n_estimators = 150:\tROC-AUC на валидационной выборке: 0.8510157342137356\n",
      "\n",
      "n_estimators = 160:\tF1-мера на валидационной выборке: 0.5209003215434083\n",
      "n_estimators = 160:\tROC-AUC на валидационной выборке: 0.8509734673974129\n",
      "\n",
      "n_estimators = 170:\tF1-мера на валидационной выборке: 0.5209003215434083\n",
      "n_estimators = 170:\tROC-AUC на валидационной выборке: 0.8513382143678997\n",
      "\n",
      "n_estimators = 180:\tF1-мера на валидационной выборке: 0.5129032258064515\n",
      "n_estimators = 180:\tROC-AUC на валидационной выборке: 0.851363261370165\n",
      "\n",
      "n_estimators = 190:\tF1-мера на валидационной выборке: 0.5112540192926045\n",
      "n_estimators = 190:\tROC-AUC на валидационной выборке: 0.8515260668848886\n",
      "\n",
      "n_estimators = 200:\tF1-мера на валидационной выборке: 0.5112540192926045\n",
      "n_estimators = 200:\tROC-AUC на валидационной выборке: 0.8516215585810246\n",
      "\n"
     ]
    }
   ],
   "source": [
    "# Лучшую глубину мы уже нашли, так что вписываем ее\n",
    "\n",
    "for estim in range(10, 201, 10):\n",
    "    model = RandomForestClassifier(n_estimators=estim, max_depth=6, random_state=rnd_state)\n",
    "    train_and_predict(df, model, prefix=f'n_estimators = {estim}:\\t')"
   ]
  },
  {
   "cell_type": "markdown",
   "metadata": {},
   "source": [
    "Лучший результат - n_estimators = 150: 0.5217\n",
    "\n",
    "Результаты должны оказаться лучше после того как мы разберемся с дисбалансом"
   ]
  },
  {
   "cell_type": "markdown",
   "metadata": {},
   "source": [
    "# 3. Борьба с дисбалансом <a id='3-bullet'></a>\n",
    "\n",
    "Сначала применим гиперпараметр class_weight='balanced'\n",
    "\n",
    "### Логистическая регрессия"
   ]
  },
  {
   "cell_type": "code",
   "execution_count": 19,
   "metadata": {},
   "outputs": [
    {
     "name": "stdout",
     "output_type": "stream",
     "text": [
      "F1-мера на валидационной выборке: 0.49486301369863006\n",
      "ROC-AUC на валидационной выборке: 0.7718014586747944\n",
      "\n"
     ]
    },
    {
     "data": {
      "text/plain": [
       "LogisticRegression(C=1.0, class_weight='balanced', dual=False,\n",
       "                   fit_intercept=True, intercept_scaling=1, l1_ratio=None,\n",
       "                   max_iter=100, multi_class='warn', n_jobs=None, penalty='l2',\n",
       "                   random_state=222, solver='liblinear', tol=0.0001, verbose=0,\n",
       "                   warm_start=False)"
      ]
     },
     "execution_count": 19,
     "metadata": {},
     "output_type": "execute_result"
    }
   ],
   "source": [
    "model = LogisticRegression(class_weight='balanced', solver='liblinear', random_state=rnd_state)\n",
    "train_and_predict(df_ohe, model)"
   ]
  },
  {
   "cell_type": "markdown",
   "metadata": {},
   "source": [
    "### Дерево классификации"
   ]
  },
  {
   "cell_type": "code",
   "execution_count": 20,
   "metadata": {},
   "outputs": [
    {
     "name": "stdout",
     "output_type": "stream",
     "text": [
      "2:\tF1-мера на валидационной выборке: 0.5052631578947369\n",
      "2:\tROC-AUC на валидационной выборке: 0.7542795151526537\n",
      "\n",
      "4:\tF1-мера на валидационной выборке: 0.5571293673276675\n",
      "4:\tROC-AUC на валидационной выборке: 0.8247602140892518\n",
      "\n",
      "6:\tF1-мера на валидационной выборке: 0.5552654482158398\n",
      "6:\tROC-AUC на валидационной выборке: 0.8263514814519121\n",
      "\n",
      "8:\tF1-мера на валидационной выборке: 0.5479704797047971\n",
      "8:\tROC-AUC на валидационной выборке: 0.7901609113351774\n",
      "\n",
      "10:\tF1-мера на валидационной выборке: 0.5219780219780219\n",
      "10:\tROC-AUC на валидационной выборке: 0.7514186778626767\n",
      "\n",
      "12:\tF1-мера на валидационной выборке: 0.5061224489795918\n",
      "12:\tROC-AUC на валидационной выборке: 0.7076764365629877\n",
      "\n",
      "14:\tF1-мера на валидационной выборке: 0.504875406283857\n",
      "14:\tROC-AUC на валидационной выборке: 0.694106440367001\n",
      "\n",
      "16:\tF1-мера на валидационной выборке: 0.4831460674157303\n",
      "16:\tROC-AUC на валидационной выборке: 0.6963567569767641\n",
      "\n",
      "18:\tF1-мера на валидационной выборке: 0.4877479579929988\n",
      "18:\tROC-AUC на валидационной выборке: 0.6854793135242855\n",
      "\n",
      "20:\tF1-мера на валидационной выборке: 0.4894117647058824\n",
      "20:\tROC-AUC на валидационной выборке: 0.6851944038735187\n",
      "\n"
     ]
    }
   ],
   "source": [
    "for max_depth in range(2, 21, 2):\n",
    "    model = DecisionTreeClassifier(class_weight='balanced', max_depth=max_depth, random_state=rnd_state)\n",
    "    train_and_predict(df, model, prefix=f'{max_depth}:\\t')     "
   ]
  },
  {
   "cell_type": "markdown",
   "metadata": {},
   "source": [
    "### Случайный лес"
   ]
  },
  {
   "cell_type": "code",
   "execution_count": 21,
   "metadata": {
    "scrolled": false
   },
   "outputs": [
    {
     "name": "stdout",
     "output_type": "stream",
     "text": [
      "n_estimators = 10:\tF1-мера на валидационной выборке: 0.5807127882599581\n",
      "n_estimators = 10:\tROC-AUC на валидационной выборке: 0.8415448364822111\n",
      "\n",
      "n_estimators = 20:\tF1-мера на валидационной выборке: 0.5659229208924949\n",
      "n_estimators = 20:\tROC-AUC на валидационной выборке: 0.841406295250932\n",
      "\n",
      "n_estimators = 30:\tF1-мера на валидационной выборке: 0.5784114052953158\n",
      "n_estimators = 30:\tROC-AUC на валидационной выборке: 0.8417827830037304\n",
      "\n",
      "n_estimators = 40:\tF1-мера на валидационной выборке: 0.5697091273821465\n",
      "n_estimators = 40:\tROC-AUC на валидационной выборке: 0.8419041044209525\n",
      "\n",
      "n_estimators = 50:\tF1-мера на валидационной выборке: 0.5725567620927937\n",
      "n_estimators = 50:\tROC-AUC на валидационной выборке: 0.8429052017927391\n",
      "\n",
      "n_estimators = 60:\tF1-мера на валидационной выборке: 0.5680705190989226\n",
      "n_estimators = 60:\tROC-AUC на валидационной выборке: 0.8436973132393758\n",
      "\n",
      "n_estimators = 70:\tF1-мера на валидационной выборке: 0.5703048180924287\n",
      "n_estimators = 70:\tROC-AUC на валидационной выборке: 0.8443187919830807\n",
      "\n",
      "n_estimators = 80:\tF1-мера на валидационной выборке: 0.5655172413793103\n",
      "n_estimators = 80:\tROC-AUC на валидационной выборке: 0.8440683219604288\n",
      "\n",
      "n_estimators = 90:\tF1-мера на валидационной выборке: 0.567487684729064\n",
      "n_estimators = 90:\tROC-AUC на валидационной выборке: 0.8438460298153252\n",
      "\n",
      "n_estimators = 100:\tF1-мера на валидационной выборке: 0.5705882352941176\n",
      "n_estimators = 100:\tROC-AUC на валидационной выборке: 0.842847280600001\n",
      "\n",
      "n_estimators = 110:\tF1-мера на валидационной выборке: 0.5711481844946025\n",
      "n_estimators = 110:\tROC-AUC на валидационной выборке: 0.8433028229536991\n",
      "\n",
      "n_estimators = 120:\tF1-мера на валидационной выборке: 0.5703048180924287\n",
      "n_estimators = 120:\tROC-AUC на валидационной выборке: 0.8419064525774147\n",
      "\n",
      "n_estimators = 130:\tF1-мера на валидационной выборке: 0.5756385068762279\n",
      "n_estimators = 130:\tROC-AUC на валидационной выборке: 0.8426578626453703\n",
      "\n",
      "n_estimators = 140:\tF1-мера на валидационной выборке: 0.5731108930323847\n",
      "n_estimators = 140:\tROC-AUC на валидационной выборке: 0.8424206988426719\n",
      "\n",
      "n_estimators = 150:\tF1-мера на валидационной выборке: 0.5708661417322834\n",
      "n_estimators = 150:\tROC-AUC на валидационной выборке: 0.8426437737065963\n",
      "\n",
      "n_estimators = 160:\tF1-мера на валидационной выборке: 0.5717092337917485\n",
      "n_estimators = 160:\tROC-AUC на валидационной выборке: 0.8420395147769486\n",
      "\n",
      "n_estimators = 170:\tF1-мера на валидационной выборке: 0.5697445972495088\n",
      "n_estimators = 170:\tROC-AUC на валидационной выборке: 0.8420316875887408\n",
      "\n",
      "n_estimators = 180:\tF1-мера на валидационной выборке: 0.5731108930323847\n",
      "n_estimators = 180:\tROC-AUC на валидационной выборке: 0.8418720129493\n",
      "\n",
      "n_estimators = 190:\tF1-мера на валидационной выборке: 0.5725490196078432\n",
      "n_estimators = 190:\tROC-AUC на валидационной выборке: 0.8423103354889409\n",
      "\n",
      "n_estimators = 200:\tF1-мера на валидационной выборке: 0.5728250244379277\n",
      "n_estimators = 200:\tROC-AUC на валидационной выборке: 0.8424261778744173\n",
      "\n"
     ]
    }
   ],
   "source": [
    "for estim in range(10, 201, 10):\n",
    "    model = RandomForestClassifier(class_weight='balanced', n_estimators=estim, max_depth=4, random_state=rnd_state)\n",
    "    train_and_predict(df, model, prefix=f'n_estimators = {estim}:\\t')"
   ]
  },
  {
   "cell_type": "markdown",
   "metadata": {},
   "source": [
    "### Результаты\n",
    "\n",
    "- можно заменить улучшение по логистической регрессии (0.4864 против 0.3047) \n",
    "- по дереву - 0.5571 против 0.5497\n",
    "- случайный лес показал наилучший результат - 0.5807 против 0.5217 \n",
    "\n",
    "\n",
    "## Upsample"
   ]
  },
  {
   "cell_type": "code",
   "execution_count": 22,
   "metadata": {},
   "outputs": [],
   "source": [
    "# Функция для увеличения числа объектов редкого класса\n",
    "\n",
    "def upsample(features, target, repeat=4):\n",
    "    features_zeros = features[target == 0]\n",
    "    features_ones = features[target == 1]\n",
    "    target_zeros = target[target == 0]\n",
    "    target_ones = target[target == 1]\n",
    " \n",
    "    features_upsampled = pd.concat([features_zeros] + [features_ones] * repeat)\n",
    "    target_upsampled = pd.concat([target_zeros] + [target_ones] * repeat)\n",
    "    \n",
    "    features_upsampled, target_upsampled = shuffle(\n",
    "        features_upsampled, target_upsampled, random_state=rnd_state)\n",
    "    \n",
    "    return features_upsampled, target_upsampled"
   ]
  },
  {
   "cell_type": "markdown",
   "metadata": {},
   "source": [
    "### Логистическая регрессия"
   ]
  },
  {
   "cell_type": "code",
   "execution_count": 23,
   "metadata": {},
   "outputs": [
    {
     "name": "stdout",
     "output_type": "stream",
     "text": [
      "F1-мера на валидационной выборке: 0.49199663016006745\n",
      "ROC-AUC на валидационной выборке: 0.7718390291781922\n",
      "\n"
     ]
    },
    {
     "data": {
      "text/plain": [
       "LogisticRegression(C=1.0, class_weight=None, dual=False, fit_intercept=True,\n",
       "                   intercept_scaling=1, l1_ratio=None, max_iter=100,\n",
       "                   multi_class='warn', n_jobs=None, penalty='l2',\n",
       "                   random_state=222, solver='liblinear', tol=0.0001, verbose=0,\n",
       "                   warm_start=False)"
      ]
     },
     "execution_count": 23,
     "metadata": {},
     "output_type": "execute_result"
    }
   ],
   "source": [
    "model = LogisticRegression(solver='liblinear', random_state=rnd_state)\n",
    "train_and_predict(df_ohe, model, samplefunc=upsample)"
   ]
  },
  {
   "cell_type": "markdown",
   "metadata": {},
   "source": [
    "### Дерево классификации"
   ]
  },
  {
   "cell_type": "code",
   "execution_count": 24,
   "metadata": {},
   "outputs": [
    {
     "name": "stdout",
     "output_type": "stream",
     "text": [
      "2:\tF1-мера на валидационной выборке: 0.5052631578947369\n",
      "2:\tROC-AUC на валидационной выборке: 0.7542795151526537\n",
      "\n",
      "4:\tF1-мера на валидационной выборке: 0.5571293673276675\n",
      "4:\tROC-AUC на валидационной выборке: 0.8247602140892518\n",
      "\n",
      "6:\tF1-мера на валидационной выборке: 0.5557491289198606\n",
      "6:\tROC-AUC на валидационной выборке: 0.8259867344814253\n",
      "\n",
      "8:\tF1-мера на валидационной выборке: 0.5514705882352942\n",
      "8:\tROC-AUC на валидационной выборке: 0.7919776017182243\n",
      "\n",
      "10:\tF1-мера на валидационной выборке: 0.5279560036663611\n",
      "10:\tROC-AUC на валидационной выборке: 0.7570714731864013\n",
      "\n",
      "12:\tF1-мера на валидационной выборке: 0.5071283095723014\n",
      "12:\tROC-AUC на валидационной выборке: 0.7241792801804636\n",
      "\n",
      "14:\tF1-мера на валидационной выборке: 0.5\n",
      "14:\tROC-AUC на валидационной выборке: 0.7084372392567927\n",
      "\n",
      "16:\tF1-мера на валидационной выборке: 0.4819004524886878\n",
      "16:\tROC-AUC на валидационной выборке: 0.6923390612696639\n",
      "\n",
      "18:\tF1-мера на валидационной выборке: 0.48300117233294254\n",
      "18:\tROC-AUC на валидационной выборке: 0.6968029067046129\n",
      "\n",
      "20:\tF1-мера на валидационной выборке: 0.48674698795180726\n",
      "20:\tROC-AUC на валидационной выборке: 0.6887988240432437\n",
      "\n",
      "22:\tF1-мера на валидационной выборке: 0.4921968787515006\n",
      "22:\tROC-AUC на валидационной выборке: 0.6861344491772844\n",
      "\n",
      "24:\tF1-мера на валидационной выборке: 0.4988009592326139\n",
      "24:\tROC-AUC на валидационной выборке: 0.6919406573898832\n",
      "\n"
     ]
    }
   ],
   "source": [
    "for max_depth in range(2, 25, 2):\n",
    "    model = DecisionTreeClassifier(max_depth=max_depth, random_state=rnd_state)\n",
    "    train_and_predict(df, model, samplefunc=upsample, prefix=f'{max_depth}:\\t')     "
   ]
  },
  {
   "cell_type": "markdown",
   "metadata": {},
   "source": [
    "### Случайный лес"
   ]
  },
  {
   "cell_type": "code",
   "execution_count": 25,
   "metadata": {
    "scrolled": false
   },
   "outputs": [
    {
     "name": "stdout",
     "output_type": "stream",
     "text": [
      "n_estimators = 10:\tF1-мера на валидационной выборке: 0.5590955806783146\n",
      "n_estimators = 10:\tROC-AUC на валидационной выборке: 0.8438006321237197\n",
      "\n",
      "n_estimators = 20:\tF1-мера на валидационной выборке: 0.5625\n",
      "n_estimators = 20:\tROC-AUC на валидационной выборке: 0.8374590442377023\n",
      "\n",
      "n_estimators = 30:\tF1-мера на валидационной выборке: 0.5645004849660523\n",
      "n_estimators = 30:\tROC-AUC на валидационной выборке: 0.8379325891242785\n",
      "\n",
      "n_estimators = 40:\tF1-мера на валидационной выборке: 0.5586808923375364\n",
      "n_estimators = 40:\tROC-AUC на валидационной выборке: 0.8387818390448325\n",
      "\n",
      "n_estimators = 50:\tF1-мера на валидационной выборке: 0.5617103984450923\n",
      "n_estimators = 50:\tROC-AUC на валидационной выборке: 0.8403997188473997\n",
      "\n",
      "n_estimators = 60:\tF1-мера на валидационной выборке: 0.5605338417540515\n",
      "n_estimators = 60:\tROC-AUC на валидационной выборке: 0.8409304022078932\n",
      "\n",
      "n_estimators = 70:\tF1-мера на валидационной выборке: 0.563758389261745\n",
      "n_estimators = 70:\tROC-AUC на валидационной выборке: 0.8422735477043639\n",
      "\n",
      "n_estimators = 80:\tF1-мера на валидационной выборке: 0.562380038387716\n",
      "n_estimators = 80:\tROC-AUC на валидационной выборке: 0.8424105234980017\n",
      "\n",
      "n_estimators = 90:\tF1-мера на валидационной выборке: 0.5615384615384615\n",
      "n_estimators = 90:\tROC-AUC на валидационной выборке: 0.842347123273518\n",
      "\n",
      "n_estimators = 100:\tF1-мера на валидационной выборке: 0.5598455598455598\n",
      "n_estimators = 100:\tROC-AUC на валидационной выборке: 0.8421506608495004\n",
      "\n",
      "n_estimators = 110:\tF1-мера на валидационной выборке: 0.5620789220404234\n",
      "n_estimators = 110:\tROC-AUC на валидационной выборке: 0.8421733596953032\n",
      "\n",
      "n_estimators = 120:\tF1-мера на валидационной выборке: 0.5583173996175909\n",
      "n_estimators = 120:\tROC-AUC на валидационной выборке: 0.8411753931987995\n",
      "\n",
      "n_estimators = 130:\tF1-мера на валидационной выборке: 0.5583173996175909\n",
      "n_estimators = 130:\tROC-AUC на валидационной выборке: 0.8418266152576945\n",
      "\n",
      "n_estimators = 140:\tF1-мера на валидационной выборке: 0.5593869731800766\n",
      "n_estimators = 140:\tROC-AUC на валидационной выборке: 0.841217660015122\n",
      "\n",
      "n_estimators = 150:\tF1-мера на валидационной выборке: 0.5604606525911707\n",
      "n_estimators = 150:\tROC-AUC на валидационной выборке: 0.8411026003484662\n",
      "\n",
      "n_estimators = 160:\tF1-мера на валидационной выборке: 0.5620789220404234\n",
      "n_estimators = 160:\tROC-AUC на валидационной выборке: 0.841122951037807\n",
      "\n",
      "n_estimators = 170:\tF1-мера на валидационной выборке: 0.5631629701060752\n",
      "n_estimators = 170:\tROC-AUC на валидационной выборке: 0.8406423616818436\n",
      "\n",
      "n_estimators = 180:\tF1-мера на валидационной выборке: 0.5650916104146577\n",
      "n_estimators = 180:\tROC-AUC на валидационной выборке: 0.8404685981036287\n",
      "\n",
      "n_estimators = 190:\tF1-мера на валидационной выборке: 0.5647969052224371\n",
      "n_estimators = 190:\tROC-AUC на валидационной выборке: 0.8409006588927033\n",
      "\n",
      "n_estimators = 200:\tF1-мера на валидационной выборке: 0.5631629701060752\n",
      "n_estimators = 200:\tROC-AUC на валидационной выборке: 0.840722199001564\n",
      "\n"
     ]
    }
   ],
   "source": [
    "for estim in range(10, 201, 10):\n",
    "    model = RandomForestClassifier(n_estimators=estim, max_depth=4, random_state=rnd_state)\n",
    "    train_and_predict(df, model, samplefunc=upsample, prefix=f'n_estimators = {estim}:\\t')"
   ]
  },
  {
   "cell_type": "markdown",
   "metadata": {},
   "source": [
    "Результаты у регрессии и дерева стали немного лучше, но случайный лес стал работать хуже"
   ]
  },
  {
   "cell_type": "markdown",
   "metadata": {},
   "source": [
    "## Downsample"
   ]
  },
  {
   "cell_type": "code",
   "execution_count": 26,
   "metadata": {},
   "outputs": [],
   "source": [
    "def downsample(features, target, fraction = 0.25):\n",
    "    features_zeros = features[target == 0]\n",
    "    features_ones = features[target == 1]\n",
    "    target_zeros = target[target == 0]\n",
    "    target_ones = target[target == 1]\n",
    "\n",
    "    features_downsampled = pd.concat([features_zeros.sample(frac=fraction, random_state=rnd_state)] + [features_ones])\n",
    "    target_downsampled = pd.concat([target_zeros.sample(frac=fraction, random_state=rnd_state)] + [target_ones])\n",
    "    \n",
    "    features_downsampled, target_downsampled = shuffle(\n",
    "        features_downsampled, target_downsampled, random_state=rnd_state)\n",
    "    \n",
    "    return features_downsampled, target_downsampled"
   ]
  },
  {
   "cell_type": "markdown",
   "metadata": {},
   "source": [
    "### Логистическая регрессия"
   ]
  },
  {
   "cell_type": "code",
   "execution_count": 27,
   "metadata": {},
   "outputs": [
    {
     "name": "stdout",
     "output_type": "stream",
     "text": [
      "F1-мера на валидационной выборке: 0.4914965986394558\n",
      "ROC-AUC на валидационной выборке: 0.7681007640901127\n",
      "\n"
     ]
    },
    {
     "data": {
      "text/plain": [
       "LogisticRegression(C=1.0, class_weight=None, dual=False, fit_intercept=True,\n",
       "                   intercept_scaling=1, l1_ratio=None, max_iter=100,\n",
       "                   multi_class='warn', n_jobs=None, penalty='l2',\n",
       "                   random_state=222, solver='liblinear', tol=0.0001, verbose=0,\n",
       "                   warm_start=False)"
      ]
     },
     "execution_count": 27,
     "metadata": {},
     "output_type": "execute_result"
    }
   ],
   "source": [
    "model = LogisticRegression(solver='liblinear', random_state=rnd_state)\n",
    "train_and_predict(df_ohe, model, samplefunc=downsample)"
   ]
  },
  {
   "cell_type": "markdown",
   "metadata": {},
   "source": [
    "### Дерево классификации"
   ]
  },
  {
   "cell_type": "code",
   "execution_count": 28,
   "metadata": {},
   "outputs": [
    {
     "name": "stdout",
     "output_type": "stream",
     "text": [
      "2:\tF1-мера на валидационной выборке: 0.504941599281222\n",
      "2:\tROC-AUC на валидационной выборке: 0.7581453634085212\n",
      "\n",
      "4:\tF1-мера на валидационной выборке: 0.4981412639405204\n",
      "4:\tROC-AUC на валидационной выборке: 0.8181133658631274\n",
      "\n",
      "6:\tF1-мера на валидационной выборке: 0.5452976704055219\n",
      "6:\tROC-AUC на валидационной выборке: 0.8272915267556774\n",
      "\n",
      "8:\tF1-мера на валидационной выборке: 0.5237288135593221\n",
      "8:\tROC-AUC на валидационной выборке: 0.8050623122453229\n",
      "\n",
      "10:\tF1-мера на валидационной выборке: 0.5058430717863105\n",
      "10:\tROC-AUC на валидационной выборке: 0.7477046770580418\n",
      "\n",
      "12:\tF1-мера на валидационной выборке: 0.4889615699100572\n",
      "12:\tROC-AUC на валидационной выборке: 0.7191401364122361\n",
      "\n",
      "14:\tF1-мера на валидационной выборке: 0.47749196141479106\n",
      "14:\tROC-AUC на валидационной выборке: 0.6967770769835269\n",
      "\n",
      "16:\tF1-мера на валидационной выборке: 0.47850770478507704\n",
      "16:\tROC-AUC на валидационной выборке: 0.7052758379396336\n",
      "\n",
      "18:\tF1-мера на валидационной выборке: 0.4803212851405622\n",
      "18:\tROC-AUC на валидационной выборке: 0.6928627001607705\n",
      "\n",
      "20:\tF1-мера на валидационной выборке: 0.4803212851405622\n",
      "20:\tROC-AUC на валидационной выборке: 0.6928627001607705\n",
      "\n"
     ]
    }
   ],
   "source": [
    "for max_depth in range(2, 21, 2):\n",
    "    model = DecisionTreeClassifier(max_depth=max_depth, random_state=rnd_state)\n",
    "    train_and_predict(df, model, samplefunc=downsample, prefix=f'{max_depth}:\\t')     "
   ]
  },
  {
   "cell_type": "markdown",
   "metadata": {},
   "source": [
    "### Случайный лес"
   ]
  },
  {
   "cell_type": "code",
   "execution_count": 29,
   "metadata": {},
   "outputs": [
    {
     "name": "stdout",
     "output_type": "stream",
     "text": [
      "n_estimators = 10:\tF1-мера на валидационной выборке: 0.5620915032679739\n",
      "n_estimators = 10:\tROC-AUC на валидационной выборке: 0.8484491992003744\n",
      "\n",
      "n_estimators = 20:\tF1-мера на валидационной выборке: 0.5577617328519855\n",
      "n_estimators = 20:\tROC-AUC на валидационной выборке: 0.8484311966674963\n",
      "\n",
      "n_estimators = 30:\tF1-мера на валидационной выборке: 0.5626740947075208\n",
      "n_estimators = 30:\tROC-AUC на валидационной выборке: 0.8464736168967077\n",
      "\n",
      "n_estimators = 40:\tF1-мера на валидационной выборке: 0.5700846660395108\n",
      "n_estimators = 40:\tROC-AUC на валидационной выборке: 0.8471248389556026\n",
      "\n",
      "n_estimators = 50:\tF1-мера на валидационной выборке: 0.5687732342007434\n",
      "n_estimators = 50:\tROC-AUC на валидационной выборке: 0.8475991665609997\n",
      "\n",
      "n_estimators = 60:\tF1-мера на валидационной выборке: 0.5724907063197026\n",
      "n_estimators = 60:\tROC-AUC на валидационной выборке: 0.8488483857989757\n",
      "\n",
      "n_estimators = 70:\tF1-мера на валидационной выборке: 0.5764925373134328\n",
      "n_estimators = 70:\tROC-AUC на валидационной выборке: 0.8499778490573717\n",
      "\n",
      "n_estimators = 80:\tF1-мера на валидационной выборке: 0.5776105362182502\n",
      "n_estimators = 80:\tROC-AUC на валидационной выборке: 0.8497132900959457\n",
      "\n",
      "n_estimators = 90:\tF1-мера на валидационной выборке: 0.5757009345794392\n",
      "n_estimators = 90:\tROC-AUC на валидационной выборке: 0.8501954448895505\n",
      "\n",
      "n_estimators = 100:\tF1-мера на валидационной выборке: 0.577861163227017\n",
      "n_estimators = 100:\tROC-AUC на валидационной выборке: 0.8500044614972784\n",
      "\n",
      "n_estimators = 110:\tF1-мера на валидационной выборке: 0.575139146567718\n",
      "n_estimators = 110:\tROC-AUC на валидационной выборке: 0.850932766018732\n",
      "\n",
      "n_estimators = 120:\tF1-мера на валидационной выборке: 0.5751633986928104\n",
      "n_estimators = 120:\tROC-AUC на валидационной выборке: 0.85077152594165\n",
      "\n",
      "n_estimators = 130:\tF1-мера на валидационной выборке: 0.5799256505576208\n",
      "n_estimators = 130:\tROC-AUC на валидационной выборке: 0.8516544327714979\n",
      "\n",
      "n_estimators = 140:\tF1-мера на валидационной выборке: 0.5756457564575646\n",
      "n_estimators = 140:\tROC-AUC на валидационной выборке: 0.8513867429347886\n",
      "\n",
      "n_estimators = 150:\tF1-мера на валидационной выборке: 0.5780240073868883\n",
      "n_estimators = 150:\tROC-AUC на валидационной выборке: 0.8520520539324575\n",
      "\n",
      "n_estimators = 160:\tF1-мера на валидационной выборке: 0.5812441968430827\n",
      "n_estimators = 160:\tROC-AUC на валидационной выборке: 0.8520317032431171\n",
      "\n",
      "n_estimators = 170:\tF1-мера на валидационной выборке: 0.5801668211306765\n",
      "n_estimators = 170:\tROC-AUC на валидационной выборке: 0.8519941327397195\n",
      "\n",
      "n_estimators = 180:\tF1-мера на валидационной выборке: 0.5807050092764379\n",
      "n_estimators = 180:\tROC-AUC на валидационной выборке: 0.8517499244676339\n",
      "\n",
      "n_estimators = 190:\tF1-мера на валидационной выборке: 0.5804066543438078\n",
      "n_estimators = 190:\tROC-AUC на валидационной выборке: 0.8520974516240633\n",
      "\n",
      "n_estimators = 200:\tF1-мера на валидационной выборке: 0.5841035120147874\n",
      "n_estimators = 200:\tROC-AUC на валидационной выборке: 0.8516763488984799\n",
      "\n",
      "n_estimators = 210:\tF1-мера на валидационной выборке: 0.5810055865921788\n",
      "n_estimators = 210:\tROC-AUC на валидационной выборке: 0.8515965115787596\n",
      "\n",
      "n_estimators = 220:\tF1-мера на валидационной выборке: 0.5804651162790697\n",
      "n_estimators = 220:\tROC-AUC на валидационной выборке: 0.8518798557918845\n",
      "\n"
     ]
    }
   ],
   "source": [
    "for estim in range(10, 221, 10):\n",
    "    model = RandomForestClassifier(n_estimators=estim, max_depth=6, random_state=rnd_state)\n",
    "    train_and_predict(df, model, samplefunc=downsample, prefix=f'n_estimators = {estim}:\\t')"
   ]
  },
  {
   "cell_type": "markdown",
   "metadata": {},
   "source": [
    "Уменьшение выборки привело к немного более слабым результатам у дерева. Что касается регресси и случайного леса, то они стали работать немного лучше, чем при балансировке и upsample"
   ]
  },
  {
   "cell_type": "markdown",
   "metadata": {},
   "source": [
    "# 4. Тестирование модели <a id='4-bullet'></a>\n",
    "\n",
    "В ходе экспериментов мы выяснили, что лучше всего для наших целей использовать модель \"Случайный лес\" с n_estimators=200, max_depth=7 и downsample"
   ]
  },
  {
   "cell_type": "code",
   "execution_count": 30,
   "metadata": {},
   "outputs": [
    {
     "name": "stdout",
     "output_type": "stream",
     "text": [
      "Результат теста downsample: 0.5918173168411037\n"
     ]
    }
   ],
   "source": [
    "target, features = tf(df)\n",
    "features_train, features_valid, features_test, target_train, target_valid, target_test = split_data(features, target)\n",
    "features_downsampled, target_downsampled = downsample(features_train, target_train)\n",
    "\n",
    "model = RandomForestClassifier(n_estimators=200, max_depth=7, random_state=rnd_state)\n",
    "model.fit(features_downsampled, target_downsampled)\n",
    "\n",
    "predicted_test = model.predict(features_test)\n",
    "print('Результат теста downsample:', f1_score(target_test, predicted_test))"
   ]
  },
  {
   "cell_type": "code",
   "execution_count": 31,
   "metadata": {},
   "outputs": [
    {
     "data": {
      "text/plain": [
       "0.851068959093549"
      ]
     },
     "execution_count": 31,
     "metadata": {},
     "output_type": "execute_result"
    }
   ],
   "source": [
    "probabilities_test = model.predict_proba(features_test)\n",
    "probabilities_one_test = probabilities_test[:, 1]\n",
    "\n",
    "roc_auc_score(target_test, probabilities_one_test)"
   ]
  },
  {
   "cell_type": "markdown",
   "metadata": {},
   "source": [
    "Требования заказчика по значению *F1*-меры выполнено"
   ]
  }
 ],
 "metadata": {
  "kernelspec": {
   "display_name": "Python 3",
   "language": "python",
   "name": "python3"
  },
  "language_info": {
   "codemirror_mode": {
    "name": "ipython",
    "version": 3
   },
   "file_extension": ".py",
   "mimetype": "text/x-python",
   "name": "python",
   "nbconvert_exporter": "python",
   "pygments_lexer": "ipython3",
   "version": "3.7.3"
  }
 },
 "nbformat": 4,
 "nbformat_minor": 2
}
